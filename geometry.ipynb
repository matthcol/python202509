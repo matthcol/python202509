{
 "cells": [
  {
   "cell_type": "code",
   "execution_count": 1,
   "id": "a570a5fe-a705-4e74-a4b0-109c86dbb6b6",
   "metadata": {},
   "outputs": [],
   "source": [
    "%load_ext autoreload\n",
    "%autoreload 2"
   ]
  },
  {
   "cell_type": "code",
   "execution_count": 2,
   "id": "8ec584e7-21aa-4419-9e68-d5b4835b353d",
   "metadata": {},
   "outputs": [],
   "source": [
    "from point import Point"
   ]
  },
  {
   "cell_type": "code",
   "execution_count": 3,
   "id": "846b6218-b6b7-4206-86d7-89895f1eb535",
   "metadata": {},
   "outputs": [],
   "source": [
    "p1 = Point(1.0, 23.5)\n",
    "p2 = Point(x=2.0, y=-34.7)\n",
    "p3 = Point()"
   ]
  },
  {
   "cell_type": "code",
   "execution_count": 4,
   "id": "695cc576-d148-41e8-8d9a-8bae272f0d6a",
   "metadata": {},
   "outputs": [
    {
     "data": {
      "text/plain": [
       "Point(x=1.0, y=23.5)"
      ]
     },
     "execution_count": 4,
     "metadata": {},
     "output_type": "execute_result"
    }
   ],
   "source": [
    "p1"
   ]
  },
  {
   "cell_type": "code",
   "execution_count": 5,
   "id": "37085c4d-47a3-4bdd-9297-5fc89e4c6053",
   "metadata": {},
   "outputs": [
    {
     "name": "stdout",
     "output_type": "stream",
     "text": [
      "Point(x=1.0, y=23.5)\n",
      "Point(x=2.0, y=-34.7)\n",
      "Point(x=0, y=0)\n"
     ]
    }
   ],
   "source": [
    "print(p1)\n",
    "print(p2)\n",
    "print(p3)"
   ]
  },
  {
   "cell_type": "code",
   "execution_count": 6,
   "id": "c4d829f9-9dc4-4ba1-b5bc-57f100802c3c",
   "metadata": {},
   "outputs": [
    {
     "data": {
      "text/plain": [
       "point.Point"
      ]
     },
     "execution_count": 6,
     "metadata": {},
     "output_type": "execute_result"
    }
   ],
   "source": [
    "type(p1)"
   ]
  },
  {
   "cell_type": "code",
   "execution_count": 7,
   "id": "903812a6-75a8-42c7-b275-c08fd5df6626",
   "metadata": {},
   "outputs": [
    {
     "name": "stdout",
     "output_type": "stream",
     "text": [
      "Coordonnées : 1.0 23.5\n",
      "Coordonnées : 2.0 -34.7\n",
      "Coordonnées : 0 0\n"
     ]
    }
   ],
   "source": [
    "for p in p1, p2, p3:\n",
    "    print(\"Coordonnées :\", p.x, p.y)"
   ]
  },
  {
   "cell_type": "code",
   "execution_count": 8,
   "id": "08afb810-db15-4892-825e-a614e97fc627",
   "metadata": {},
   "outputs": [
    {
     "data": {
      "text/plain": [
       "Point(x=123.456, y=0)"
      ]
     },
     "execution_count": 8,
     "metadata": {},
     "output_type": "execute_result"
    }
   ],
   "source": [
    "p3.x = 123.456\n",
    "p3"
   ]
  },
  {
   "cell_type": "code",
   "execution_count": 9,
   "id": "c21f74ad-484e-428a-89af-ec28f845bf1c",
   "metadata": {},
   "outputs": [
    {
     "data": {
      "text/plain": [
       "False"
      ]
     },
     "execution_count": 9,
     "metadata": {},
     "output_type": "execute_result"
    }
   ],
   "source": [
    "p3 == p2"
   ]
  },
  {
   "cell_type": "code",
   "execution_count": 10,
   "id": "389e6a40-70f3-4b7d-8b29-a8b1e836dc91",
   "metadata": {},
   "outputs": [
    {
     "data": {
      "text/plain": [
       "True"
      ]
     },
     "execution_count": 10,
     "metadata": {},
     "output_type": "execute_result"
    }
   ],
   "source": [
    "p3 == p3"
   ]
  },
  {
   "cell_type": "code",
   "execution_count": 11,
   "id": "005700d2-09fa-46be-a530-7f4985ba937c",
   "metadata": {},
   "outputs": [
    {
     "data": {
      "text/plain": [
       "True"
      ]
     },
     "execution_count": 11,
     "metadata": {},
     "output_type": "execute_result"
    }
   ],
   "source": [
    "p2bis = Point(x=2.0, y=-34.7) \n",
    "p2 == p2bis # assuré par @dataclass"
   ]
  },
  {
   "cell_type": "code",
   "execution_count": 12,
   "id": "90123115-c691-4c23-b073-9b2c3d62a2f4",
   "metadata": {},
   "outputs": [
    {
     "data": {
      "text/plain": [
       "False"
      ]
     },
     "execution_count": 12,
     "metadata": {},
     "output_type": "execute_result"
    }
   ],
   "source": [
    "p2 != p2bis"
   ]
  },
  {
   "cell_type": "code",
   "execution_count": 13,
   "id": "0d43980e-ba0e-4a8f-8110-09bd798d785a",
   "metadata": {},
   "outputs": [],
   "source": [
    "# p2 < p3"
   ]
  },
  {
   "cell_type": "code",
   "execution_count": 21,
   "id": "aab71728-3333-4d13-8466-25811a3b2ecb",
   "metadata": {},
   "outputs": [],
   "source": [
    "# p2 + 3 # TypeError: unsupported operand type(s) for +: 'Point' and 'int'"
   ]
  },
  {
   "cell_type": "code",
   "execution_count": 18,
   "id": "796fbf5b-0021-44f4-89cf-e947e20909c6",
   "metadata": {},
   "outputs": [
    {
     "name": "stdout",
     "output_type": "stream",
     "text": [
      "Point(x=1.0, y=23.5)\n",
      "Point(x=2.0, y=-34.7)\n"
     ]
    },
    {
     "data": {
      "text/plain": [
       "Point(x=3.0, y=-11.200000000000003)"
      ]
     },
     "execution_count": 18,
     "metadata": {},
     "output_type": "execute_result"
    }
   ],
   "source": [
    "print(p1)\n",
    "print(p2)\n",
    "p4 = p1 + p2\n",
    "p4"
   ]
  },
  {
   "cell_type": "code",
   "execution_count": 15,
   "id": "433d6c01-3834-471e-9a37-98539568c389",
   "metadata": {},
   "outputs": [
    {
     "data": {
      "text/plain": [
       "58.20859043131006"
      ]
     },
     "execution_count": 15,
     "metadata": {},
     "output_type": "execute_result"
    }
   ],
   "source": [
    "d = p1.distance(p2)\n",
    "d"
   ]
  },
  {
   "cell_type": "code",
   "execution_count": 16,
   "id": "afa17cb4-6b9d-4156-9bcf-0c17b33060a1",
   "metadata": {},
   "outputs": [
    {
     "data": {
      "text/plain": [
       "\u001b[31mSignature:\u001b[39m p1.distance(other: \u001b[33m'Point'\u001b[39m) -> float\n",
       "\u001b[31mDocstring:\u001b[39m <no docstring>\n",
       "\u001b[31mFile:\u001b[39m      c:\\users\\matth\\documents\\formation\\python\\stage202509\\point.py\n",
       "\u001b[31mType:\u001b[39m      method"
      ]
     },
     "metadata": {},
     "output_type": "display_data"
    }
   ],
   "source": [
    "p1.distance?"
   ]
  },
  {
   "cell_type": "code",
   "execution_count": 23,
   "id": "e1c94d11-c30d-4dc0-aa6a-4b88290c318e",
   "metadata": {},
   "outputs": [
    {
     "data": {
      "text/plain": [
       "2"
      ]
     },
     "execution_count": 23,
     "metadata": {},
     "output_type": "execute_result"
    }
   ],
   "source": [
    "len(p1)"
   ]
  },
  {
   "cell_type": "code",
   "execution_count": 25,
   "id": "d2200be1-a754-4d6d-861c-20a30e1265ce",
   "metadata": {},
   "outputs": [
    {
     "data": {
      "text/plain": [
       "Point(x=3.0, y=-11.200000000000003)"
      ]
     },
     "execution_count": 25,
     "metadata": {},
     "output_type": "execute_result"
    }
   ],
   "source": [
    "p1.__add__(p2)"
   ]
  },
  {
   "cell_type": "code",
   "execution_count": 26,
   "id": "4e36d752-9082-4bb9-9408-09a2f0c26a7e",
   "metadata": {},
   "outputs": [
    {
     "data": {
      "text/plain": [
       "2"
      ]
     },
     "execution_count": 26,
     "metadata": {},
     "output_type": "execute_result"
    }
   ],
   "source": [
    "p1.__len__()"
   ]
  }
 ],
 "metadata": {
  "kernelspec": {
   "display_name": "Python 3 (ipykernel)",
   "language": "python",
   "name": "python3"
  },
  "language_info": {
   "codemirror_mode": {
    "name": "ipython",
    "version": 3
   },
   "file_extension": ".py",
   "mimetype": "text/x-python",
   "name": "python",
   "nbconvert_exporter": "python",
   "pygments_lexer": "ipython3",
   "version": "3.13.7"
  }
 },
 "nbformat": 4,
 "nbformat_minor": 5
}
