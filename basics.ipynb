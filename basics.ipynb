{
 "cells": [
  {
   "cell_type": "markdown",
   "id": "fba7c164-663d-4d49-9a18-cc9921f5dec0",
   "metadata": {},
   "source": [
    "# Premiers pas en Python"
   ]
  },
  {
   "cell_type": "markdown",
   "id": "cdc22701-d13a-4030-8369-16190c15e14d",
   "metadata": {},
   "source": [
    "## Données simples\n",
    "- numériques\n",
    "- textes\n",
    "- booléens\n",
    "- rien"
   ]
  },
  {
   "cell_type": "code",
   "execution_count": 3,
   "id": "2c64a2c5-5adf-47ba-880d-b863537e49a0",
   "metadata": {},
   "outputs": [
    {
     "data": {
      "text/plain": [
       "'Nantes'"
      ]
     },
     "execution_count": 3,
     "metadata": {},
     "output_type": "execute_result"
    }
   ],
   "source": [
    "ville = \"Nantes\"\n",
    "ville"
   ]
  }
 ],
 "metadata": {
  "kernelspec": {
   "display_name": "Python 3 (ipykernel)",
   "language": "python",
   "name": "python3"
  },
  "language_info": {
   "codemirror_mode": {
    "name": "ipython",
    "version": 3
   },
   "file_extension": ".py",
   "mimetype": "text/x-python",
   "name": "python",
   "nbconvert_exporter": "python",
   "pygments_lexer": "ipython3",
   "version": "3.13.7"
  }
 },
 "nbformat": 4,
 "nbformat_minor": 5
}
