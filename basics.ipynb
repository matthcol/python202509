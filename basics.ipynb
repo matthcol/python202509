{
 "cells": [
  {
   "cell_type": "markdown",
   "id": "fba7c164-663d-4d49-9a18-cc9921f5dec0",
   "metadata": {},
   "source": [
    "# Premiers pas en Python"
   ]
  },
  {
   "cell_type": "code",
   "execution_count": 201,
   "id": "5faffe4d-2922-4cb7-b063-79265fb87de4",
   "metadata": {},
   "outputs": [],
   "source": [
    "# import librairies tierces\n",
    "import numpy as np\n",
    "import matplotlib.pyplot as plt\n",
    "\n",
    "# import librairies de Python (module de la lib standard)\n",
    "import math\n",
    "import statistics as stat"
   ]
  },
  {
   "cell_type": "code",
   "execution_count": 112,
   "id": "05136237-7e73-42e6-aa07-dccc57f92fc4",
   "metadata": {},
   "outputs": [
    {
     "data": {
      "text/plain": [
       "'2.3.3'"
      ]
     },
     "execution_count": 112,
     "metadata": {},
     "output_type": "execute_result"
    }
   ],
   "source": [
    "np.__version__"
   ]
  },
  {
   "cell_type": "markdown",
   "id": "cdc22701-d13a-4030-8369-16190c15e14d",
   "metadata": {},
   "source": [
    "## Données simples\n",
    "- numériques\n",
    "    - entiers : 12, -5 (type int)\n",
    "    - flottants : 23.4, -8.1, 12.0, 1E14, -3.14E-12 (et +/-Inf, NaN)  (type float)\n",
    "- textes : 'Pau', \"Nantes\", f'ville = {ville}', f\"...\", ''' ... ''', \"\"\" ...  \"\"\" (type str)\n",
    "- booléens : True, False (type bool)\n",
    "- rien : None (type NoneType)"
   ]
  },
  {
   "cell_type": "code",
   "execution_count": 3,
   "id": "2c64a2c5-5adf-47ba-880d-b863537e49a0",
   "metadata": {},
   "outputs": [
    {
     "data": {
      "text/plain": [
       "'Nantes'"
      ]
     },
     "execution_count": 3,
     "metadata": {},
     "output_type": "execute_result"
    }
   ],
   "source": [
    "ville = \"Nantes\"\n",
    "ville"
   ]
  },
  {
   "cell_type": "code",
   "execution_count": 12,
   "id": "285cdb41-8d79-4bb3-86b7-c69d26900780",
   "metadata": {},
   "outputs": [
    {
     "name": "stdout",
     "output_type": "stream",
     "text": [
      "23.4 3 True\n",
      "\n",
      "Témperature : 23.4 , nombre de stagiaires : 3 , météo est bonne : True\n",
      "Témperature : 23.4, nombre de stagiaires : 3, météo est bonne : True\n",
      "Témperature : 23.4, nombre de stagiaires : 3, météo est bonne : True\n"
     ]
    }
   ],
   "source": [
    "temperature = 23.4\n",
    "nb_stagiaires = 3\n",
    "is_weather_ok = True\n",
    "print(temperature, nb_stagiaires, is_weather_ok)\n",
    "print()\n",
    "print(\"Témperature :\", temperature, \", nombre de stagiaires :\", nb_stagiaires, \", météo est bonne :\", is_weather_ok)\n",
    "print(\"Témperature : \", temperature, \", nombre de stagiaires : \", nb_stagiaires, \", météo est bonne : \", is_weather_ok, sep='')\n",
    "print(f\"Témperature : {temperature}, nombre de stagiaires : {nb_stagiaires}, météo est bonne : {is_weather_ok}\")"
   ]
  },
  {
   "cell_type": "code",
   "execution_count": 11,
   "id": "ade893db-2569-4c8a-97a4-b6ad70f2d019",
   "metadata": {},
   "outputs": [
    {
     "data": {
      "text/plain": [
       "\u001b[31mSignature:\u001b[39m print(*args, sep=\u001b[33m' '\u001b[39m, end=\u001b[33m'\\n'\u001b[39m, file=\u001b[38;5;28;01mNone\u001b[39;00m, flush=\u001b[38;5;28;01mFalse\u001b[39;00m)\n",
       "\u001b[31mDocstring:\u001b[39m\n",
       "Prints the values to a stream, or to sys.stdout by default.\n",
       "\n",
       "sep\n",
       "  string inserted between values, default a space.\n",
       "end\n",
       "  string appended after the last value, default a newline.\n",
       "file\n",
       "  a file-like object (stream); defaults to the current sys.stdout.\n",
       "flush\n",
       "  whether to forcibly flush the stream.\n",
       "\u001b[31mType:\u001b[39m      builtin_function_or_method"
      ]
     },
     "metadata": {},
     "output_type": "display_data"
    }
   ],
   "source": [
    "print?"
   ]
  },
  {
   "cell_type": "code",
   "execution_count": 16,
   "id": "a17a7fb3-d58c-41be-967f-cdc0862ad894",
   "metadata": {},
   "outputs": [
    {
     "name": "stdout",
     "output_type": "stream",
     "text": [
      "Aujourd'hui\n",
      "Il dit : \"Il fait beau :)\"\n",
      "Aujourd'hui, il dit : \"Il fait beau :)\"\n"
     ]
    }
   ],
   "source": [
    "print(\"Aujourd'hui\")\n",
    "print('Il dit : \"Il fait beau :)\"')\n",
    "print('Aujourd\\'hui, il dit : \"Il fait beau :)\"')"
   ]
  },
  {
   "cell_type": "code",
   "execution_count": 20,
   "id": "519e5d31-dda6-4483-86c2-0d95602d7180",
   "metadata": {},
   "outputs": [
    {
     "name": "stdout",
     "output_type": "stream",
     "text": [
      "<class 'str'>\n",
      "<class 'float'>\n",
      "<class 'int'>\n",
      "<class 'bool'>\n",
      "<class 'NoneType'>\n"
     ]
    }
   ],
   "source": [
    "print(type(ville))\n",
    "print(type(temperature))\n",
    "print(type(nb_stagiaires))\n",
    "print(type(is_weather_ok))\n",
    "print(type(None))"
   ]
  },
  {
   "cell_type": "code",
   "execution_count": 21,
   "id": "ad395966-5c69-40a0-9706-ac3fad9c82c1",
   "metadata": {},
   "outputs": [
    {
     "data": {
      "text/plain": [
       "6"
      ]
     },
     "execution_count": 21,
     "metadata": {},
     "output_type": "execute_result"
    }
   ],
   "source": [
    "len(ville)"
   ]
  },
  {
   "cell_type": "code",
   "execution_count": 24,
   "id": "06861d8e-78ae-4df2-9e18-15a87d73e671",
   "metadata": {},
   "outputs": [],
   "source": [
    "# TypeError: object of type 'float' has no len()\n",
    "# len n'est pas défini sur les entiers, flottants, ...\n",
    "#\n",
    "# len(temperature)"
   ]
  },
  {
   "cell_type": "markdown",
   "id": "05a6f43b-61de-433e-b32d-de12c4398c76",
   "metadata": {},
   "source": [
    "## Opérations de base\n",
    "- opérateurs : + - / >= ...\n",
    "- fonctions natives (builtin) : print(\"ville :\", ville)"
   ]
  },
  {
   "cell_type": "markdown",
   "id": "44cc8adf-225b-4f24-9f57-814287bf24c0",
   "metadata": {},
   "source": [
    "### Opérateurs numériques\n",
    "Liste: `+, -, *, /, //, %, **`"
   ]
  },
  {
   "cell_type": "code",
   "execution_count": 25,
   "id": "5b0c7328-90f2-449e-b94e-4ce2b0ce4904",
   "metadata": {},
   "outputs": [
    {
     "data": {
      "text/plain": [
       "12.35"
      ]
     },
     "execution_count": 25,
     "metadata": {},
     "output_type": "execute_result"
    }
   ],
   "source": [
    "# computation with float and int values => float\n",
    "((temperature * 2) + 3) / 4 - 0.1"
   ]
  },
  {
   "cell_type": "code",
   "execution_count": 26,
   "id": "7a994c82-0c59-468b-922e-0892ab5e7aa9",
   "metadata": {},
   "outputs": [
    {
     "data": {
      "text/plain": [
       "9"
      ]
     },
     "execution_count": 26,
     "metadata": {},
     "output_type": "execute_result"
    }
   ],
   "source": [
    "nb_stagiaires * 3"
   ]
  },
  {
   "cell_type": "code",
   "execution_count": 27,
   "id": "fa8afae9-11b9-4da4-b7bf-9d6cbfe5a9c3",
   "metadata": {},
   "outputs": [
    {
     "data": {
      "text/plain": [
       "9.0"
      ]
     },
     "execution_count": 27,
     "metadata": {},
     "output_type": "execute_result"
    }
   ],
   "source": [
    "nb_stagiaires * 3.0"
   ]
  },
  {
   "cell_type": "code",
   "execution_count": 28,
   "id": "5ef313e0-e05c-4fd5-a488-fe83e7e29c48",
   "metadata": {},
   "outputs": [
    {
     "data": {
      "text/plain": [
       "1.0"
      ]
     },
     "execution_count": 28,
     "metadata": {},
     "output_type": "execute_result"
    }
   ],
   "source": [
    "nb_stagiaires / 3"
   ]
  },
  {
   "cell_type": "code",
   "execution_count": 29,
   "id": "7c9178d8-5a75-4fa1-933b-0a28adc22aef",
   "metadata": {},
   "outputs": [
    {
     "data": {
      "text/plain": [
       "0.75"
      ]
     },
     "execution_count": 29,
     "metadata": {},
     "output_type": "execute_result"
    }
   ],
   "source": [
    "nb_stagiaires / 4"
   ]
  },
  {
   "cell_type": "code",
   "execution_count": 31,
   "id": "bbdc5688-45e3-44d5-8e5d-464d08c6914b",
   "metadata": {},
   "outputs": [
    {
     "data": {
      "text/plain": [
       "1"
      ]
     },
     "execution_count": 31,
     "metadata": {},
     "output_type": "execute_result"
    }
   ],
   "source": [
    "# division entière (Euclide)\n",
    "nb_stagiaires // 3"
   ]
  },
  {
   "cell_type": "code",
   "execution_count": 33,
   "id": "8480d3b7-2c8a-4db6-8112-48911e4b5a02",
   "metadata": {},
   "outputs": [
    {
     "data": {
      "text/plain": [
       "2"
      ]
     },
     "execution_count": 33,
     "metadata": {},
     "output_type": "execute_result"
    }
   ],
   "source": [
    "11 // 4"
   ]
  },
  {
   "cell_type": "code",
   "execution_count": 34,
   "id": "0c53eb4e-a358-454b-b73b-6898c99f74f5",
   "metadata": {},
   "outputs": [
    {
     "data": {
      "text/plain": [
       "3"
      ]
     },
     "execution_count": 34,
     "metadata": {},
     "output_type": "execute_result"
    }
   ],
   "source": [
    "# reste de la division (Euclide)\n",
    "11 % 4"
   ]
  },
  {
   "cell_type": "code",
   "execution_count": 36,
   "id": "64c22f1e-6fe1-4c18-9e6f-decab9d7c9cc",
   "metadata": {},
   "outputs": [
    {
     "data": {
      "text/plain": [
       "1073741824"
      ]
     },
     "execution_count": 36,
     "metadata": {},
     "output_type": "execute_result"
    }
   ],
   "source": [
    "# exposant\n",
    "2**30"
   ]
  },
  {
   "cell_type": "code",
   "execution_count": 38,
   "id": "33237589-08e4-4e27-ba51-3a5f21392f9c",
   "metadata": {},
   "outputs": [
    {
     "data": {
      "text/plain": [
       "1152921504606846976"
      ]
     },
     "execution_count": 38,
     "metadata": {},
     "output_type": "execute_result"
    }
   ],
   "source": [
    "2**60"
   ]
  },
  {
   "cell_type": "code",
   "execution_count": 37,
   "id": "3720a5f0-036f-4a63-abdd-b124f1cacf84",
   "metadata": {},
   "outputs": [
    {
     "data": {
      "text/plain": [
       "1000000000000000000"
      ]
     },
     "execution_count": 37,
     "metadata": {},
     "output_type": "execute_result"
    }
   ],
   "source": [
    "10**18"
   ]
  },
  {
   "cell_type": "markdown",
   "id": "ec0e49e3-c3c3-49e3-a8cd-11bcab39d38b",
   "metadata": {},
   "source": [
    "NB: operator @ utilisé la multiplication matricielle"
   ]
  },
  {
   "cell_type": "markdown",
   "id": "8452e31b-27d4-48f9-92f5-9f8dff551837",
   "metadata": {},
   "source": [
    "### Opérateurs inplace\n",
    "Liste: `+=, -=, *=, /= //= , %=, **=`"
   ]
  },
  {
   "cell_type": "code",
   "execution_count": 39,
   "id": "56291936-20f1-4822-8d79-fc2abebde8b5",
   "metadata": {},
   "outputs": [
    {
     "data": {
      "text/plain": [
       "11"
      ]
     },
     "execution_count": 39,
     "metadata": {},
     "output_type": "execute_result"
    }
   ],
   "source": [
    "res = nb_stagiaires * 3\n",
    "res += 2   # equivalent à :  res = res + 2\n",
    "res"
   ]
  },
  {
   "cell_type": "markdown",
   "id": "4c5aa8a9-ba75-412b-adc3-b6bb1e1eefa0",
   "metadata": {},
   "source": [
    "### Opérateurs de comparaison et logiques\n",
    "Réponse: booléan True/False\n",
    "- contenu, égalité : ==, !=\n",
    "- identité : is, is not\n",
    "- ordre : <, <=, >, >=\n",
    "- contenu : in, not in\n",
    "- combinaison logique: and, or, not"
   ]
  },
  {
   "cell_type": "code",
   "execution_count": 40,
   "id": "dd9efe26-9e9f-4c4a-8c57-05993a8dc58b",
   "metadata": {},
   "outputs": [
    {
     "data": {
      "text/plain": [
       "True"
      ]
     },
     "execution_count": 40,
     "metadata": {},
     "output_type": "execute_result"
    }
   ],
   "source": [
    "nb_stagiaires == 3"
   ]
  },
  {
   "cell_type": "code",
   "execution_count": 41,
   "id": "b631d809-08d9-4334-b5b2-a78b69056595",
   "metadata": {},
   "outputs": [
    {
     "data": {
      "text/plain": [
       "True"
      ]
     },
     "execution_count": 41,
     "metadata": {},
     "output_type": "execute_result"
    }
   ],
   "source": [
    "nb_stagiaires != 4"
   ]
  },
  {
   "cell_type": "code",
   "execution_count": 43,
   "id": "e96da608-6ca2-47e7-9092-6436543ca757",
   "metadata": {},
   "outputs": [
    {
     "data": {
      "text/plain": [
       "False"
      ]
     },
     "execution_count": 43,
     "metadata": {},
     "output_type": "execute_result"
    }
   ],
   "source": [
    "ville == 'Lyon'"
   ]
  },
  {
   "cell_type": "code",
   "execution_count": 45,
   "id": "3bc6781e-b52d-4e78-9579-f3f51bb7f7ce",
   "metadata": {},
   "outputs": [
    {
     "data": {
      "text/plain": [
       "False"
      ]
     },
     "execution_count": 45,
     "metadata": {},
     "output_type": "execute_result"
    }
   ],
   "source": [
    "# comparaison 1 str avec 1 int => False (ça n'est pas 1 erreur)\n",
    "ville == 123"
   ]
  },
  {
   "cell_type": "code",
   "execution_count": 46,
   "id": "c0a54cd2-77d0-49ec-8516-7c83753fa053",
   "metadata": {},
   "outputs": [
    {
     "data": {
      "text/plain": [
       "False"
      ]
     },
     "execution_count": 46,
     "metadata": {},
     "output_type": "execute_result"
    }
   ],
   "source": [
    "nb_stagiaires > 10"
   ]
  },
  {
   "cell_type": "code",
   "execution_count": 48,
   "id": "76a4b53c-89f9-4426-a5ab-3f06dfae3a74",
   "metadata": {},
   "outputs": [],
   "source": [
    "# TypeError: '>' not supported between instances of 'str' and 'int'\n",
    "# ville > nb_stagiaires"
   ]
  },
  {
   "cell_type": "code",
   "execution_count": 51,
   "id": "03ab023e-0fea-45cc-87c9-af886008a8c8",
   "metadata": {},
   "outputs": [
    {
     "data": {
      "text/plain": [
       "True"
      ]
     },
     "execution_count": 51,
     "metadata": {},
     "output_type": "execute_result"
    }
   ],
   "source": [
    "(ville == 'Nantes') and (temperature > 10)"
   ]
  },
  {
   "cell_type": "code",
   "execution_count": 52,
   "id": "e835b0b0-55e3-4731-b094-31f66f73aac9",
   "metadata": {},
   "outputs": [
    {
     "data": {
      "text/plain": [
       "False"
      ]
     },
     "execution_count": 52,
     "metadata": {},
     "output_type": "execute_result"
    }
   ],
   "source": [
    "ville is None"
   ]
  },
  {
   "cell_type": "code",
   "execution_count": 53,
   "id": "7af861dc-d271-406e-9abd-85b84b9cbb89",
   "metadata": {},
   "outputs": [
    {
     "data": {
      "text/plain": [
       "True"
      ]
     },
     "execution_count": 53,
     "metadata": {},
     "output_type": "execute_result"
    }
   ],
   "source": [
    "ville is not None"
   ]
  },
  {
   "cell_type": "markdown",
   "id": "f8a74548-91e3-423f-a016-89bcf5c94c35",
   "metadata": {},
   "source": [
    "### Opérateurs sur les textes"
   ]
  },
  {
   "cell_type": "code",
   "execution_count": 57,
   "id": "6e5d4156-f433-4572-9958-867cfa3fbc93",
   "metadata": {},
   "outputs": [
    {
     "data": {
      "text/plain": [
       "'ville : Nantes'"
      ]
     },
     "execution_count": 57,
     "metadata": {},
     "output_type": "execute_result"
    }
   ],
   "source": [
    "# concaténation\n",
    "# NB: ne pas en abuser => f-string (formatted string)\n",
    "\"ville : \" + ville"
   ]
  },
  {
   "cell_type": "code",
   "execution_count": 60,
   "id": "0a718311-240b-4f9c-84a0-4a9bac65319f",
   "metadata": {},
   "outputs": [
    {
     "data": {
      "text/plain": [
       "'température : 23.4'"
      ]
     },
     "execution_count": 60,
     "metadata": {},
     "output_type": "execute_result"
    }
   ],
   "source": [
    "# TypeError: can only concatenate str (not \"float\") to str\n",
    "# \"température : \" + temperature\n",
    "f\"température : {temperature}\""
   ]
  },
  {
   "cell_type": "code",
   "execution_count": 62,
   "id": "48c74ac1-d471-4af1-bd34-ca5caa0b5720",
   "metadata": {},
   "outputs": [
    {
     "data": {
      "text/plain": [
       "0.3333333333333333"
      ]
     },
     "execution_count": 62,
     "metadata": {},
     "output_type": "execute_result"
    }
   ],
   "source": [
    "value = 1 / 3\n",
    "value"
   ]
  },
  {
   "cell_type": "code",
   "execution_count": 65,
   "id": "1d5eb386-999c-4cb1-bbf6-3859d627c05b",
   "metadata": {},
   "outputs": [
    {
     "data": {
      "text/plain": [
       "'valeur : 0.333'"
      ]
     },
     "execution_count": 65,
     "metadata": {},
     "output_type": "execute_result"
    }
   ],
   "source": [
    "# F-string avec format\n",
    "# Doc principale: https://docs.python.org/3.13/library/string.html#formatstrings\n",
    "f\"valeur : {value:0.3f}\""
   ]
  },
  {
   "cell_type": "code",
   "execution_count": 66,
   "id": "a68cf5e2-cd15-4545-9f85-8355adca488d",
   "metadata": {},
   "outputs": [
    {
     "data": {
      "text/plain": [
       "'valeur : 0.667'"
      ]
     },
     "execution_count": 66,
     "metadata": {},
     "output_type": "execute_result"
    }
   ],
   "source": [
    "f\"valeur : {2/3:0.3f}\""
   ]
  },
  {
   "cell_type": "code",
   "execution_count": 69,
   "id": "570de60a-334e-4d9f-8d05-8f21af523a16",
   "metadata": {},
   "outputs": [
    {
     "data": {
      "text/plain": [
       "'Nb stagiaires : 4578 (dec), 0X11E2 (hexa)'"
      ]
     },
     "execution_count": 69,
     "metadata": {},
     "output_type": "execute_result"
    }
   ],
   "source": [
    "nombre = 4578\n",
    "f\"Nb stagiaires : {nombre} (dec), {nombre:#X} (hexa)\""
   ]
  },
  {
   "cell_type": "code",
   "execution_count": 70,
   "id": "91aa8bcc-7699-4c15-b3d9-93cd90fb11cc",
   "metadata": {},
   "outputs": [
    {
     "data": {
      "text/plain": [
       "'0000004578'"
      ]
     },
     "execution_count": 70,
     "metadata": {},
     "output_type": "execute_result"
    }
   ],
   "source": [
    "f\"{nombre:010d}\""
   ]
  },
  {
   "cell_type": "code",
   "execution_count": 74,
   "id": "d1b77cae-a2a0-4058-a206-f75ef566b2ae",
   "metadata": {},
   "outputs": [
    {
     "data": {
      "text/plain": [
       "'Température : 23.4, nombre de stagiaires : 3, météo est bonne : True'"
      ]
     },
     "execution_count": 74,
     "metadata": {},
     "output_type": "execute_result"
    }
   ],
   "source": [
    "f\"Température : {\n",
    "    temperature\n",
    "}, nombre de stagiaires : {\n",
    "    nb_stagiaires       # 3 chiffres avec 0 non significatifs\n",
    "}, météo est bonne : {\n",
    "    is_weather_ok\n",
    "}\""
   ]
  },
  {
   "cell_type": "code",
   "execution_count": 76,
   "id": "90378ac7-b413-4f98-b3c4-2e6c81cac21c",
   "metadata": {},
   "outputs": [
    {
     "data": {
      "text/plain": [
       "'NantesNantesNantes'"
      ]
     },
     "execution_count": 76,
     "metadata": {},
     "output_type": "execute_result"
    }
   ],
   "source": [
    "ville * 3"
   ]
  },
  {
   "cell_type": "markdown",
   "id": "ee274aa2-2c45-454d-a33a-0c0881bdf795",
   "metadata": {},
   "source": [
    "#### operateur [] : 1 caractère ou slice"
   ]
  },
  {
   "cell_type": "markdown",
   "id": "769c66b0-f89c-47c6-a4d7-9a26570889fa",
   "metadata": {},
   "source": [
    "##### Accès à 1 élément par son index (position)"
   ]
  },
  {
   "cell_type": "code",
   "execution_count": 79,
   "id": "d3e91143-eee2-4595-80da-ceffb0e5ba87",
   "metadata": {},
   "outputs": [],
   "source": [
    "ville = 'Saint-Remy-en-Bouzemont-Saint-Genest-et-Isson'"
   ]
  },
  {
   "cell_type": "code",
   "execution_count": 82,
   "id": "f1b110a5-5f48-4e43-b3bc-0e0a8043891f",
   "metadata": {},
   "outputs": [
    {
     "data": {
      "text/plain": [
       "45"
      ]
     },
     "execution_count": 82,
     "metadata": {},
     "output_type": "execute_result"
    }
   ],
   "source": [
    "len(ville)"
   ]
  },
  {
   "cell_type": "code",
   "execution_count": 80,
   "id": "fc03b3b2-4922-49f4-9f94-ad00a2753dde",
   "metadata": {},
   "outputs": [
    {
     "data": {
      "text/plain": [
       "'S'"
      ]
     },
     "execution_count": 80,
     "metadata": {},
     "output_type": "execute_result"
    }
   ],
   "source": [
    "ville[0]"
   ]
  },
  {
   "cell_type": "code",
   "execution_count": 83,
   "id": "0c91e5a8-55e6-4150-b34c-cb6c480695ed",
   "metadata": {},
   "outputs": [
    {
     "data": {
      "text/plain": [
       "'n'"
      ]
     },
     "execution_count": 83,
     "metadata": {},
     "output_type": "execute_result"
    }
   ],
   "source": [
    "ville[44]"
   ]
  },
  {
   "cell_type": "code",
   "execution_count": 85,
   "id": "827c0d58-a85e-4f90-a17d-cb505a871de7",
   "metadata": {},
   "outputs": [],
   "source": [
    "# IndexError: string index out of range\n",
    "# ville[45]"
   ]
  },
  {
   "cell_type": "code",
   "execution_count": 87,
   "id": "c2e60323-0cfd-4526-ba37-26dff68623d1",
   "metadata": {},
   "outputs": [
    {
     "data": {
      "text/plain": [
       "'n'"
      ]
     },
     "execution_count": 87,
     "metadata": {},
     "output_type": "execute_result"
    }
   ],
   "source": [
    "ville[-1]"
   ]
  },
  {
   "cell_type": "code",
   "execution_count": 89,
   "id": "923d06c5-9379-4ef4-b3a7-7cad1af2cedc",
   "metadata": {},
   "outputs": [
    {
     "data": {
      "text/plain": [
       "'S'"
      ]
     },
     "execution_count": 89,
     "metadata": {},
     "output_type": "execute_result"
    }
   ],
   "source": [
    "ville[-45]"
   ]
  },
  {
   "cell_type": "code",
   "execution_count": 91,
   "id": "6d42077c-dcfd-461d-b4f5-b3e71a43d64a",
   "metadata": {},
   "outputs": [],
   "source": [
    "# IndexError: string index out of range\n",
    "# ville[-46]"
   ]
  },
  {
   "cell_type": "markdown",
   "id": "df54245d-cf77-443d-b3d6-1c1c6fa7d46c",
   "metadata": {},
   "source": [
    "##### slices\n",
    "- 1er indice inclus\n",
    "- 2e exclus"
   ]
  },
  {
   "cell_type": "code",
   "execution_count": 100,
   "id": "23c8bdba-9b10-4e07-a819-2cb89a194989",
   "metadata": {},
   "outputs": [
    {
     "name": "stdout",
     "output_type": "stream",
     "text": [
      "Sa\n",
      "int\n",
      "-Remy\n",
      "-en-Bouzemont-Saint-Genest-et-Isson\n"
     ]
    }
   ],
   "source": [
    "print(ville[:2])  # 2 premières lettres\n",
    "print(ville[2:5])\n",
    "print(ville[5:10])\n",
    "print(ville[10:])"
   ]
  },
  {
   "cell_type": "code",
   "execution_count": 101,
   "id": "4376f9e6-40c3-4d3f-a689-6a79e98f0483",
   "metadata": {},
   "outputs": [
    {
     "name": "stdout",
     "output_type": "stream",
     "text": [
      "Saint-Remy-en-Bouzemont-Saint-Genest-et-Isson\n"
     ]
    }
   ],
   "source": [
    "print(ville[:])"
   ]
  },
  {
   "cell_type": "code",
   "execution_count": 99,
   "id": "05424121-3899-4ef0-a589-68f165f828b3",
   "metadata": {},
   "outputs": [
    {
     "name": "stdout",
     "output_type": "stream",
     "text": [
      "\n",
      "\n",
      "\n"
     ]
    }
   ],
   "source": [
    "# slices vides\n",
    "print(ville[12:12])\n",
    "print(ville[15:12])\n",
    "print(ville[100:110])"
   ]
  },
  {
   "cell_type": "code",
   "execution_count": 103,
   "id": "d7a0c202-d45f-4451-af33-d2c9f479bd3e",
   "metadata": {},
   "outputs": [
    {
     "name": "stdout",
     "output_type": "stream",
     "text": [
      "son\n",
      "sso\n"
     ]
    }
   ],
   "source": [
    "# les 3 dernières lettres\n",
    "print(ville[-3:])\n",
    "# les 3 lettres avant la dernière\n",
    "print(ville[-4:-1])"
   ]
  },
  {
   "cell_type": "code",
   "execution_count": 106,
   "id": "f3687872-7285-4413-a382-a47eb3394102",
   "metadata": {},
   "outputs": [
    {
     "name": "stdout",
     "output_type": "stream",
     "text": [
      "-nBue\n",
      "SitRm-nBueotSitGns-tIsn\n",
      "an-eye-ozmn-an-eete-so\n"
     ]
    }
   ],
   "source": [
    "# avec pas\n",
    "print(ville[10:20:2])\n",
    "print(ville[::2])\n",
    "print(ville[1::2])"
   ]
  },
  {
   "cell_type": "markdown",
   "id": "4763d6df-4223-4fac-b9bb-10a49fa1fcbc",
   "metadata": {},
   "source": [
    "# texte à l'envers\n",
    "print(ville[::-1])\n",
    "# 5 dernières lettres de droite à gauche\n",
    "print(ville[:-6:-1])\n"
   ]
  },
  {
   "cell_type": "markdown",
   "id": "76e59125-5da0-459e-8089-7cf4a2016ee3",
   "metadata": {},
   "source": [
    "#### Opérateur in"
   ]
  },
  {
   "cell_type": "code",
   "execution_count": 133,
   "id": "ec0ff5da-f6af-47b6-8533-e6ab0c8e3692",
   "metadata": {},
   "outputs": [
    {
     "data": {
      "text/plain": [
       "True"
      ]
     },
     "execution_count": 133,
     "metadata": {},
     "output_type": "execute_result"
    }
   ],
   "source": [
    "'Saint' in ville"
   ]
  },
  {
   "cell_type": "code",
   "execution_count": 134,
   "id": "e03ce504-dc83-4851-ab73-005b633db609",
   "metadata": {},
   "outputs": [
    {
     "data": {
      "text/plain": [
       "False"
      ]
     },
     "execution_count": 134,
     "metadata": {},
     "output_type": "execute_result"
    }
   ],
   "source": [
    "'Saint' not in ville"
   ]
  },
  {
   "cell_type": "markdown",
   "id": "85695912-30fd-4fd6-a0a9-e8cccc79ec56",
   "metadata": {},
   "source": [
    "### Exemple d'utilisation des slices avec des tableaux\n",
    "Librairies tierces: numpy et matplotlib"
   ]
  },
  {
   "cell_type": "code",
   "execution_count": 115,
   "id": "4c07b1de-7ef7-4fb3-aee9-ce0e773179ab",
   "metadata": {},
   "outputs": [
    {
     "data": {
      "text/plain": [
       "array([12.978526  ,  8.02018472,  9.6352189 , ...,  9.11938731,\n",
       "       10.60105164,  9.07208642], shape=(1000000,))"
      ]
     },
     "execution_count": 115,
     "metadata": {},
     "output_type": "execute_result"
    }
   ],
   "source": [
    "data = np.random.normal(10.0, 2.5, 1_000_000)\n",
    "data"
   ]
  },
  {
   "cell_type": "code",
   "execution_count": 117,
   "id": "0fd40af7-9c46-4e5f-8424-8efb39f6ab5c",
   "metadata": {},
   "outputs": [
    {
     "name": "stdout",
     "output_type": "stream",
     "text": [
      "9.999994951338264 2.4992648089987064\n"
     ]
    }
   ],
   "source": [
    "print(data.mean(), data.std())"
   ]
  },
  {
   "cell_type": "code",
   "execution_count": 118,
   "id": "263bdaaf-3e86-484a-9a34-7b7b238260d4",
   "metadata": {},
   "outputs": [
    {
     "data": {
      "text/plain": [
       "array([12.978526  ,  6.79103942,  9.96330087,  9.48699626,  7.94716387,\n",
       "        6.47156826,  9.80564062, 14.77473561, 11.78818382,  9.27266363])"
      ]
     },
     "execution_count": 118,
     "metadata": {},
     "output_type": "execute_result"
    }
   ],
   "source": [
    "data[::100_000]"
   ]
  },
  {
   "cell_type": "code",
   "execution_count": 131,
   "id": "9746b7bc-4152-4e5b-86d6-f9676dc9fe5d",
   "metadata": {},
   "outputs": [
    {
     "data": {
      "image/png": "[encoded data removed]",
      "text/plain": [
       "<Figure size 640x480 with 1 Axes>"
      ]
     },
     "metadata": {},
     "output_type": "display_data"
    }
   ],
   "source": [
    "_ = plt.hist(data, bins=1000)"
   ]
  },
  {
   "cell_type": "code",
   "execution_count": 135,
   "id": "e8db6411-3f5c-4f98-bf1c-76fb72ecb987",
   "metadata": {},
   "outputs": [
    {
     "data": {
      "text/plain": [
       "False"
      ]
     },
     "execution_count": 135,
     "metadata": {},
     "output_type": "execute_result"
    }
   ],
   "source": [
    "10.0 in data"
   ]
  },
  {
   "cell_type": "markdown",
   "id": "a0b53fda-0998-4168-8c27-1927978e56db",
   "metadata": {},
   "source": [
    "## Fonctions de base"
   ]
  },
  {
   "cell_type": "markdown",
   "id": "82423d0f-fdbd-491a-a0d6-d06d67d56b26",
   "metadata": {},
   "source": [
    "### Builtins"
   ]
  },
  {
   "cell_type": "code",
   "execution_count": 137,
   "id": "18f8b51a-8baa-4ae8-9fdf-e899ae13c027",
   "metadata": {},
   "outputs": [
    {
     "data": {
      "text/plain": [
       "1"
      ]
     },
     "execution_count": 137,
     "metadata": {},
     "output_type": "execute_result"
    }
   ],
   "source": [
    "x = -1\n",
    "abs(x)"
   ]
  },
  {
   "cell_type": "code",
   "execution_count": 138,
   "id": "ce8cdabf-5122-473d-992d-ca88e9d07fef",
   "metadata": {},
   "outputs": [
    {
     "data": {
      "text/plain": [
       "45"
      ]
     },
     "execution_count": 138,
     "metadata": {},
     "output_type": "execute_result"
    }
   ],
   "source": [
    "len(ville)"
   ]
  },
  {
   "cell_type": "code",
   "execution_count": 139,
   "id": "05983e8c-124b-407f-ab7f-19d962a16eee",
   "metadata": {},
   "outputs": [
    {
     "data": {
      "text/plain": [
       "1000000"
      ]
     },
     "execution_count": 139,
     "metadata": {},
     "output_type": "execute_result"
    }
   ],
   "source": [
    "len(data)"
   ]
  },
  {
   "cell_type": "code",
   "execution_count": 140,
   "id": "06e6f01e-af18-4cdc-a3a1-b717e480fa82",
   "metadata": {},
   "outputs": [
    {
     "data": {
      "text/plain": [
       "np.float64(-2.2291891993409614)"
      ]
     },
     "execution_count": 140,
     "metadata": {},
     "output_type": "execute_result"
    }
   ],
   "source": [
    "min(data)"
   ]
  },
  {
   "cell_type": "code",
   "execution_count": null,
   "id": "203386ab-e6e5-4eb9-b8cc-86b5221eb953",
   "metadata": {},
   "outputs": [],
   "source": [
    "max(data)"
   ]
  },
  {
   "cell_type": "code",
   "execution_count": 141,
   "id": "7c9ef75b-ec29-4610-93b1-a846b64ced5c",
   "metadata": {},
   "outputs": [
    {
     "data": {
      "text/plain": [
       "np.float64(9999994.951338205)"
      ]
     },
     "execution_count": 141,
     "metadata": {},
     "output_type": "execute_result"
    }
   ],
   "source": [
    "sum(data)"
   ]
  },
  {
   "cell_type": "code",
   "execution_count": 143,
   "id": "b021298c-61b9-419a-8e62-e918e75333a7",
   "metadata": {},
   "outputs": [],
   "source": [
    "# TypeError: 'int' object is not iterable\n",
    "# sum(123)"
   ]
  },
  {
   "cell_type": "code",
   "execution_count": 145,
   "id": "09d78be1-ea30-45d6-9ca8-426db718b01d",
   "metadata": {},
   "outputs": [
    {
     "data": {
      "text/plain": [
       "123"
      ]
     },
     "execution_count": 145,
     "metadata": {},
     "output_type": "execute_result"
    }
   ],
   "source": [
    "n = int('123')\n",
    "n"
   ]
  },
  {
   "cell_type": "code",
   "execution_count": 146,
   "id": "5cf19db9-88cc-40ba-b553-2f5f1d407123",
   "metadata": {},
   "outputs": [
    {
     "data": {
      "text/plain": [
       "int"
      ]
     },
     "execution_count": 146,
     "metadata": {},
     "output_type": "execute_result"
    }
   ],
   "source": [
    "type(n)"
   ]
  },
  {
   "cell_type": "code",
   "execution_count": 147,
   "id": "bbf539dc-219e-4f43-8a3a-b6aef7d02e5b",
   "metadata": {},
   "outputs": [
    {
     "data": {
      "text/plain": [
       "13"
      ]
     },
     "execution_count": 147,
     "metadata": {},
     "output_type": "execute_result"
    }
   ],
   "source": [
    "int('1101', base=2)"
   ]
  },
  {
   "cell_type": "code",
   "execution_count": 149,
   "id": "e44aa3c2-0faa-4331-b64f-a502234c15be",
   "metadata": {},
   "outputs": [
    {
     "data": {
      "text/plain": [
       "31"
      ]
     },
     "execution_count": 149,
     "metadata": {},
     "output_type": "execute_result"
    }
   ],
   "source": [
    "int('1F', base=16)"
   ]
  },
  {
   "cell_type": "code",
   "execution_count": 150,
   "id": "9a78a467-90f7-41ef-8f50-c8afe4dbde7b",
   "metadata": {},
   "outputs": [
    {
     "data": {
      "text/plain": [
       "True"
      ]
     },
     "execution_count": 150,
     "metadata": {},
     "output_type": "execute_result"
    }
   ],
   "source": [
    "bool(ville)"
   ]
  },
  {
   "cell_type": "code",
   "execution_count": 151,
   "id": "cfb7e138-435d-4f76-8246-bb905f547454",
   "metadata": {},
   "outputs": [
    {
     "data": {
      "text/plain": [
       "False"
      ]
     },
     "execution_count": 151,
     "metadata": {},
     "output_type": "execute_result"
    }
   ],
   "source": [
    "bool('')"
   ]
  },
  {
   "cell_type": "code",
   "execution_count": 154,
   "id": "9893365d-d973-46b8-9b99-ac6abf04da7e",
   "metadata": {},
   "outputs": [
    {
     "data": {
      "text/plain": [
       "inf"
      ]
     },
     "execution_count": 154,
     "metadata": {},
     "output_type": "execute_result"
    }
   ],
   "source": [
    "f = float('inf')\n",
    "f"
   ]
  },
  {
   "cell_type": "code",
   "execution_count": 155,
   "id": "133481f5-fbbc-44ba-83e7-8d922c039d8c",
   "metadata": {},
   "outputs": [
    {
     "data": {
      "text/plain": [
       "float"
      ]
     },
     "execution_count": 155,
     "metadata": {},
     "output_type": "execute_result"
    }
   ],
   "source": [
    "type(f)"
   ]
  },
  {
   "cell_type": "code",
   "execution_count": 156,
   "id": "3701b878-6876-4696-80a8-1d99adcb6679",
   "metadata": {},
   "outputs": [
    {
     "data": {
      "text/plain": [
       "-inf"
      ]
     },
     "execution_count": 156,
     "metadata": {},
     "output_type": "execute_result"
    }
   ],
   "source": [
    "-f"
   ]
  },
  {
   "cell_type": "code",
   "execution_count": 157,
   "id": "ab87def9-47c5-489c-b1aa-b42081ed5108",
   "metadata": {},
   "outputs": [
    {
     "data": {
      "text/plain": [
       "0.0"
      ]
     },
     "execution_count": 157,
     "metadata": {},
     "output_type": "execute_result"
    }
   ],
   "source": [
    "1 / f"
   ]
  },
  {
   "cell_type": "code",
   "execution_count": 160,
   "id": "76d7f72e-df88-42f1-b15f-34d97b5ddaa4",
   "metadata": {},
   "outputs": [
    {
     "data": {
      "text/plain": [
       "nan"
      ]
     },
     "execution_count": 160,
     "metadata": {},
     "output_type": "execute_result"
    }
   ],
   "source": [
    "n = f / f\n",
    "n"
   ]
  },
  {
   "cell_type": "code",
   "execution_count": 161,
   "id": "53eed438-3495-4993-b9f0-de203964e9ab",
   "metadata": {},
   "outputs": [
    {
     "data": {
      "text/plain": [
       "nan"
      ]
     },
     "execution_count": 161,
     "metadata": {},
     "output_type": "execute_result"
    }
   ],
   "source": [
    "n + 1"
   ]
  },
  {
   "cell_type": "markdown",
   "id": "30372a9b-b1c7-4efd-8328-cf2f5dc0f69f",
   "metadata": {},
   "source": [
    "### Modules de python\n",
    "- math\n",
    "- statistics"
   ]
  },
  {
   "cell_type": "code",
   "execution_count": 165,
   "id": "50ebd497-de99-45d7-b9f6-d58dc87fb16b",
   "metadata": {},
   "outputs": [
    {
     "data": {
      "text/plain": [
       "7.0"
      ]
     },
     "execution_count": 165,
     "metadata": {},
     "output_type": "execute_result"
    }
   ],
   "source": [
    "math.sqrt(49)"
   ]
  },
  {
   "cell_type": "code",
   "execution_count": 168,
   "id": "a50c6558-523a-4bf8-bd88-7acc928a574f",
   "metadata": {},
   "outputs": [
    {
     "data": {
      "text/plain": [
       "0.666"
      ]
     },
     "execution_count": 168,
     "metadata": {},
     "output_type": "execute_result"
    }
   ],
   "source": [
    "# arrondis : floor, ceil, trunc\n",
    "math.floor(2000 / 3) / 1000"
   ]
  },
  {
   "cell_type": "code",
   "execution_count": 171,
   "id": "34bed6e9-1233-43a4-83ea-bf48aabeb10c",
   "metadata": {},
   "outputs": [
    {
     "data": {
      "text/plain": [
       "10.0"
      ]
     },
     "execution_count": 171,
     "metadata": {},
     "output_type": "execute_result"
    }
   ],
   "source": [
    "math.log2(2**10)"
   ]
  },
  {
   "cell_type": "code",
   "execution_count": 169,
   "id": "c60343b5-6d51-405b-b0a4-3504908ffe02",
   "metadata": {},
   "outputs": [
    {
     "data": {
      "text/plain": [
       "np.float64(9.999994951338264)"
      ]
     },
     "execution_count": 169,
     "metadata": {},
     "output_type": "execute_result"
    }
   ],
   "source": [
    "stat.mean(data)"
   ]
  },
  {
   "cell_type": "markdown",
   "id": "3890ce1f-d62e-4603-8d46-47881aa8ed8c",
   "metadata": {},
   "source": [
    "### Exercice:\n",
    "Calculer la distance entre 2 points de coordonnées (x1, y1) et (x2,y2)."
   ]
  },
  {
   "cell_type": "code",
   "execution_count": 182,
   "id": "9e45d33c-2e97-4fb2-bc2f-2908c93fb545",
   "metadata": {},
   "outputs": [],
   "source": [
    "x1 = 4.25\n",
    "y1 = 7.75\n",
    "x2 = 8.25\n",
    "y2 = 10.75"
   ]
  },
  {
   "cell_type": "code",
   "execution_count": 199,
   "id": "637f9fb0-5b1e-421d-934d-0a029a897f03",
   "metadata": {},
   "outputs": [],
   "source": [
    "d1 = math.sqrt((x2 - x1)**2 + (y2 - y1)**2)\n",
    "d2 = ((x2 - x1)**2 + (y2 - y1)**2)**0.5\n",
    "d3 = math.hypot(x2 - x1, y2 - y1)\n",
    "d4 = math.dist([x1, y1], [x2, y2])"
   ]
  },
  {
   "cell_type": "code",
   "execution_count": 200,
   "id": "9b30aace-3408-4875-acf0-7c1cf580b941",
   "metadata": {},
   "outputs": [
    {
     "name": "stdout",
     "output_type": "stream",
     "text": [
      "5.0\n",
      "5.0\n",
      "5.0\n",
      "5.0\n"
     ]
    }
   ],
   "source": [
    "print(d1)\n",
    "print(d2)\n",
    "print(d3)\n",
    "print(d4)"
   ]
  },
  {
   "cell_type": "markdown",
   "id": "9c778a21-14f7-4e66-873b-201b60224252",
   "metadata": {},
   "source": [
    "### Fonctions sur les textes\n",
    "- builtin: len\n",
    "- méthodes objet : lower, upper, split/join, replace, strip (trim), startswith/endswith"
   ]
  },
  {
   "cell_type": "code",
   "execution_count": 203,
   "id": "ead67a2b-bd11-460e-996b-efa2532f928c",
   "metadata": {},
   "outputs": [
    {
     "data": {
      "text/plain": [
       "'saint-remy-en-bouzemont-saint-genest-et-isson'"
      ]
     },
     "execution_count": 203,
     "metadata": {},
     "output_type": "execute_result"
    }
   ],
   "source": [
    "ville.lower()"
   ]
  },
  {
   "cell_type": "code",
   "execution_count": 206,
   "id": "62215eb8-e28c-404a-bc43-ec06e07338b9",
   "metadata": {},
   "outputs": [
    {
     "data": {
      "text/plain": [
       "['Saint', 'Remy', 'en', 'Bouzemont', 'Saint', 'Genest', 'et', 'Isson']"
      ]
     },
     "execution_count": 206,
     "metadata": {},
     "output_type": "execute_result"
    }
   ],
   "source": [
    "mots = ville.split('-')\n",
    "mots"
   ]
  },
  {
   "cell_type": "code",
   "execution_count": 207,
   "id": "564ece72-4d0c-4f0e-9a3f-f14a5f83cfab",
   "metadata": {},
   "outputs": [
    {
     "data": {
      "text/plain": [
       "'only that'"
      ]
     },
     "execution_count": 207,
     "metadata": {},
     "output_type": "execute_result"
    }
   ],
   "source": [
    "texte = '   only that \\n  \\r   '\n",
    "texte.strip()"
   ]
  },
  {
   "cell_type": "code",
   "execution_count": 208,
   "id": "c08d3513-5b66-4d84-b615-d5a1464985b5",
   "metadata": {},
   "outputs": [
    {
     "data": {
      "text/plain": [
       "True"
      ]
     },
     "execution_count": 208,
     "metadata": {},
     "output_type": "execute_result"
    }
   ],
   "source": [
    "ville.lower().startswith('sa')"
   ]
  },
  {
   "cell_type": "code",
   "execution_count": 209,
   "id": "0782756c-e6a3-4625-841f-7d7be5ba4cb0",
   "metadata": {},
   "outputs": [
    {
     "data": {
      "text/plain": [
       "'Pau, Lyon, Nantes, Toulouse'"
      ]
     },
     "execution_count": 209,
     "metadata": {},
     "output_type": "execute_result"
    }
   ],
   "source": [
    "', '.join(['Pau', 'Lyon', 'Nantes', 'Toulouse'])"
   ]
  },
  {
   "cell_type": "code",
   "execution_count": 211,
   "id": "2a12a59d-dd15-401f-8feb-9762aee83253",
   "metadata": {},
   "outputs": [
    {
     "data": {
      "text/plain": [
       "'Saint Remy en Bouzemont Saint Genest et Isson'"
      ]
     },
     "execution_count": 211,
     "metadata": {},
     "output_type": "execute_result"
    }
   ],
   "source": [
    "' '.join(mots)"
   ]
  },
  {
   "cell_type": "code",
   "execution_count": 215,
   "id": "f7983464-1c16-4f14-96c6-98f89fa4d5bd",
   "metadata": {},
   "outputs": [
    {
     "data": {
      "text/plain": [
       "'S a i n t - R e m y - e n - B o u z e m o n t - S a i n t - G e n e s t - e t - I s s o n'"
      ]
     },
     "execution_count": 215,
     "metadata": {},
     "output_type": "execute_result"
    }
   ],
   "source": [
    "' '.join(ville)"
   ]
  },
  {
   "cell_type": "code",
   "execution_count": 216,
   "id": "24dd2c4e-ffb4-40dc-8712-a1a59b4435f2",
   "metadata": {},
   "outputs": [
    {
     "data": {
      "text/plain": [
       "['S',\n",
       " 'a',\n",
       " 'i',\n",
       " 'n',\n",
       " 't',\n",
       " '-',\n",
       " 'R',\n",
       " 'e',\n",
       " 'm',\n",
       " 'y',\n",
       " '-',\n",
       " 'e',\n",
       " 'n',\n",
       " '-',\n",
       " 'B',\n",
       " 'o',\n",
       " 'u',\n",
       " 'z',\n",
       " 'e',\n",
       " 'm',\n",
       " 'o',\n",
       " 'n',\n",
       " 't',\n",
       " '-',\n",
       " 'S',\n",
       " 'a',\n",
       " 'i',\n",
       " 'n',\n",
       " 't',\n",
       " '-',\n",
       " 'G',\n",
       " 'e',\n",
       " 'n',\n",
       " 'e',\n",
       " 's',\n",
       " 't',\n",
       " '-',\n",
       " 'e',\n",
       " 't',\n",
       " '-',\n",
       " 'I',\n",
       " 's',\n",
       " 's',\n",
       " 'o',\n",
       " 'n']"
      ]
     },
     "execution_count": 216,
     "metadata": {},
     "output_type": "execute_result"
    }
   ],
   "source": [
    "list(ville)"
   ]
  }
 ],
 "metadata": {
  "kernelspec": {
   "display_name": "Python 3 (ipykernel)",
   "language": "python",
   "name": "python3"
  },
  "language_info": {
   "codemirror_mode": {
    "name": "ipython",
    "version": 3
   },
   "file_extension": ".py",
   "mimetype": "text/x-python",
   "name": "python",
   "nbconvert_exporter": "python",
   "pygments_lexer": "ipython3",
   "version": "3.13.7"
  }
 },
 "nbformat": 4,
 "nbformat_minor": 5
}
