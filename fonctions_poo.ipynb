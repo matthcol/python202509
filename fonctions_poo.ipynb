{
 "cells": [
  {
   "cell_type": "markdown",
   "id": "ddcb9fb3-fd94-4351-936c-72ada83e6d79",
   "metadata": {},
   "source": [
    "# Fonctions et Programmation Orientée Objets (POO)"
   ]
  },
  {
   "cell_type": "code",
   "execution_count": 34,
   "id": "8ae226c1-d758-4927-a10c-e0279ccea172",
   "metadata": {},
   "outputs": [],
   "source": [
    "import math\n",
    "\n",
    "# 3 librairies du projet Scientific Python\n",
    "import numpy as np # calcul scientifique\n",
    "import pandas as pd # data\n",
    "import matplotlib.pyplot as plt # graphiques"
   ]
  },
  {
   "cell_type": "markdown",
   "id": "5c74f7d3-5ea1-4e88-82e6-e39f32d5aebd",
   "metadata": {},
   "source": [
    " ## Exemples de la librairie standard"
   ]
  },
  {
   "cell_type": "code",
   "execution_count": 5,
   "id": "6a5b2f08-cd73-46e0-8500-2f484abb6c91",
   "metadata": {},
   "outputs": [
    {
     "data": {
      "text/plain": [
       "[102, 67, 22, 12, 4, -4]"
      ]
     },
     "execution_count": 5,
     "metadata": {},
     "output_type": "execute_result"
    }
   ],
   "source": [
    "# Signature fonction: sorted(iterable, /, *, key=None, reverse=False)\n",
    "nombres = [12, 22, -4, 67, 102, 4]\n",
    "\n",
    "# appel avec 2 paramètres:\n",
    "# - 1er paramètre `nombres` passé par position (positional argument)\n",
    "# - 2e paramètre `reverse=True` passé par nom (keyword argument)\n",
    "nombres2 = sorted(nombres, reverse=True)\n",
    "nombres2"
   ]
  },
  {
   "cell_type": "code",
   "execution_count": 12,
   "id": "8ccbf2c8-b165-49ee-b4e3-48d2affc7bbc",
   "metadata": {},
   "outputs": [],
   "source": [
    "# sorted() # pas assez de paramètre\n",
    "# sorted(123) # dynamique le paramètre n'a pas les bonnes propriétés (iterable)\n",
    "\n",
    "## Pour cette fonction, iterable doit etre passé par position et key/ reverse par mot clé\n",
    "# sorted(iterable=nombres)\n",
    "# sorted(nombres, None, True)"
   ]
  },
  {
   "cell_type": "code",
   "execution_count": 22,
   "id": "d2a89a3f-6f30-48f2-8273-144ead3cc6ba",
   "metadata": {},
   "outputs": [
    {
     "name": "stdout",
     "output_type": "stream",
     "text": [
      "\n",
      "12 23 45\n",
      "12, 23, 45\n"
     ]
    }
   ],
   "source": [
    "# Signature: print(*args, sep=' ', end='\\n', file=None, flush=False)\n",
    "# *args: autrant de paramètre par position que l'on souhaite\n",
    "print()\n",
    "print(12, 23, 45) # 12, 23, 45 => args (par position)\n",
    "print(12, 23, 45, sep=', ') # 12, 23, 45 => args (par position), ', ' => sep par keyworkd\n",
    "# print(sep=', ', 12, 23, 45) # SyntaxError: positional argument follows keyword argument"
   ]
  },
  {
   "cell_type": "code",
   "execution_count": 19,
   "id": "fd70dbee-1046-44d1-8192-b470011468b5",
   "metadata": {},
   "outputs": [
    {
     "data": {
      "text/plain": [
       "[('a', 0, 12),\n",
       " ('b', 1, 22),\n",
       " ('c', 2, -4),\n",
       " ('d', 3, 67),\n",
       " ('e', 4, 102),\n",
       " ('f', 5, 4)]"
      ]
     },
     "execution_count": 19,
     "metadata": {},
     "output_type": "execute_result"
    }
   ],
   "source": [
    "# signature: zip(*iterables, strict=False)\n",
    "\n",
    "# appel avec 3 iterables par position\n",
    "list(zip('abcdef', range(10), nombres))"
   ]
  },
  {
   "cell_type": "code",
   "execution_count": 33,
   "id": "60cf55e6-7fe0-4a5d-9b23-f1b202af6d32",
   "metadata": {},
   "outputs": [
    {
     "name": "stdout",
     "output_type": "stream",
     "text": [
      "2.302585092994046\n",
      "2.9999999999999996\n",
      "5.0\n"
     ]
    }
   ],
   "source": [
    "# Pseudo Signature: log(x, base=math.e)\n",
    "# Signature : math.dist(p, q, /)\n",
    "print(math.log(10))\n",
    "print(math.log(1000, 10))\n",
    "# print(math.log(1000, base=10)) # etonnament, interdit (TypeError: math.log() takes no keyword arguments)\n",
    "\n",
    "print(math.dist((1, 2), (4, 6))) # position: (1, 2) => p,  ((4, 6)) => q\n",
    "# print(math.dist(p=(1, 2), q=(4, 6)))  # math.dist() takes no keyword arguments"
   ]
  },
  {
   "cell_type": "markdown",
   "id": "29142826-3c70-4671-abf4-08ee49e2c186",
   "metadata": {},
   "source": [
    "## Exemples de Scientific Python"
   ]
  },
  {
   "cell_type": "code",
   "execution_count": 45,
   "id": "dfc31105-99f4-453a-be9b-9c9a4e59f2f5",
   "metadata": {},
   "outputs": [
    {
     "name": "stdout",
     "output_type": "stream",
     "text": [
      "3.141592653589793\n",
      "3.141592653589793\n"
     ]
    },
    {
     "data": {
      "text/plain": [
       "array([0.00000000e+00, 1.88514411e-03, 3.77028821e-03, ...,\n",
       "       1.88457856e+01, 1.88476708e+01, 1.88495559e+01], shape=(10000,))"
      ]
     },
     "execution_count": 45,
     "metadata": {},
     "output_type": "execute_result"
    }
   ],
   "source": [
    "# générer 10000 nombres entre 0 et 6*pi avec np.linspace\n",
    "print(math.pi)\n",
    "print(np.pi)\n",
    "x = np.linspace(0, 6*np.pi, num=10000)\n",
    "x"
   ]
  },
  {
   "cell_type": "code",
   "execution_count": 42,
   "id": "ae3fe7c0-a721-4ae6-9255-0a6caff0c64c",
   "metadata": {},
   "outputs": [
    {
     "data": {
      "text/plain": [
       "10000"
      ]
     },
     "execution_count": 42,
     "metadata": {},
     "output_type": "execute_result"
    }
   ],
   "source": [
    "len(x)"
   ]
  },
  {
   "cell_type": "code",
   "execution_count": 43,
   "id": "cb7f5fc8-3e1e-4bc9-aa18-cc06515f2de2",
   "metadata": {},
   "outputs": [
    {
     "data": {
      "text/plain": [
       "np.float64(0.0)"
      ]
     },
     "execution_count": 43,
     "metadata": {},
     "output_type": "execute_result"
    }
   ],
   "source": [
    "x[0]"
   ]
  },
  {
   "cell_type": "code",
   "execution_count": 44,
   "id": "519f3a4b-75ca-44af-a0aa-c389976109b5",
   "metadata": {},
   "outputs": [
    {
     "data": {
      "text/plain": [
       "array([0.        , 0.00188514, 0.00377029, 0.00565543, 0.00754058,\n",
       "       0.00942572, 0.01131086, 0.01319601, 0.01508115, 0.0169663 ])"
      ]
     },
     "execution_count": 44,
     "metadata": {},
     "output_type": "execute_result"
    }
   ],
   "source": [
    "x[:10]"
   ]
  },
  {
   "cell_type": "code",
   "execution_count": 60,
   "id": "fd7ccf58-e724-4f8d-81bf-94440b4a5d26",
   "metadata": {},
   "outputs": [
    {
     "data": {
      "text/plain": [
       "array([ 0.00000000e+00,  1.88514299e-03,  3.77027928e-03, ...,\n",
       "       -3.77027928e-03, -1.88514299e-03, -7.34788079e-16], shape=(10000,))"
      ]
     },
     "execution_count": 60,
     "metadata": {},
     "output_type": "execute_result"
    }
   ],
   "source": [
    "# calculer le sinus de ses 10000 nombres avec np.sin\n",
    "y1 = np.sin(x)\n",
    "y1"
   ]
  },
  {
   "cell_type": "code",
   "execution_count": 61,
   "id": "3768dc05-fdab-47a9-8d95-7716042e18f5",
   "metadata": {},
   "outputs": [
    {
     "data": {
      "text/plain": [
       "array([1.        , 0.99999822, 0.99999289, ..., 0.99999289, 0.99999822,\n",
       "       1.        ], shape=(10000,))"
      ]
     },
     "execution_count": 61,
     "metadata": {},
     "output_type": "execute_result"
    }
   ],
   "source": [
    "# calculer le cosinus de ses 10000 nombres avec np.cos\n",
    "y2 = np.cos(x)\n",
    "y2"
   ]
  },
  {
   "cell_type": "code",
   "execution_count": 62,
   "id": "5f11ada4-686c-4e4e-97aa-047affbf6159",
   "metadata": {},
   "outputs": [
    {
     "data": {
      "text/plain": [
       "[<matplotlib.lines.Line2D at 0x2a751298a50>]"
      ]
     },
     "execution_count": 62,
     "metadata": {},
     "output_type": "execute_result"
    },
    {
     "data": {
      "image/png": "[encoded data removed]",
      "text/plain": [
       "<Figure size 640x480 with 1 Axes>"
      ]
     },
     "metadata": {},
     "output_type": "display_data"
    }
   ],
   "source": [
    "# Tracer les 2 sinusoïdes avec plt.plot\n",
    "plt.plot(y1)\n",
    "plt.plot(y2, color='red')"
   ]
  },
  {
   "cell_type": "code",
   "execution_count": 63,
   "id": "c17bb3e9-4333-4033-829a-b4192a0ebb16",
   "metadata": {},
   "outputs": [
    {
     "data": {
      "text/plain": [
       "[<matplotlib.lines.Line2D at 0x2a7512e3c50>]"
      ]
     },
     "execution_count": 63,
     "metadata": {},
     "output_type": "execute_result"
    },
    {
     "data": {
      "image/png": "[encoded data removed]",
      "text/plain": [
       "<Figure size 640x480 with 1 Axes>"
      ]
     },
     "metadata": {},
     "output_type": "display_data"
    }
   ],
   "source": [
    "plt.plot(x, y1)"
   ]
  },
  {
   "cell_type": "code",
   "execution_count": 66,
   "id": "08a48685-c97c-4c8d-b5a5-07283b0f8616",
   "metadata": {},
   "outputs": [
    {
     "data": {
      "text/plain": [
       "[<matplotlib.lines.Line2D at 0x2a7513fbb10>,\n",
       " <matplotlib.lines.Line2D at 0x2a7513fbc50>]"
      ]
     },
     "execution_count": 66,
     "metadata": {},
     "output_type": "execute_result"
    },
    {
     "data": {
      "image/png": "[encoded data removed]",
      "text/plain": [
       "<Figure size 640x480 with 1 Axes>"
      ]
     },
     "metadata": {},
     "output_type": "display_data"
    }
   ],
   "source": [
    "plt.plot(x, y1, x, y2)"
   ]
  },
  {
   "cell_type": "code",
   "execution_count": 67,
   "id": "3ece50b8-3168-444f-87e5-117f7313b238",
   "metadata": {},
   "outputs": [
    {
     "data": {
      "text/plain": [
       "[<matplotlib.lines.Line2D at 0x2a751158050>,\n",
       " <matplotlib.lines.Line2D at 0x2a751158190>]"
      ]
     },
     "execution_count": 67,
     "metadata": {},
     "output_type": "execute_result"
    },
    {
     "data": {
      "image/png": "[encoded data removed]",
      "text/plain": [
       "<Figure size 640x480 with 1 Axes>"
      ]
     },
     "metadata": {},
     "output_type": "display_data"
    }
   ],
   "source": [
    "# par position: x, y1, 'r--', x, y2, 'g' => *args\n",
    "# par keyword: linewidth=4 => **kwargs\n",
    "plt.plot(x, y1, 'r--', x, y2, 'g', linewidth=4)"
   ]
  },
  {
   "cell_type": "code",
   "execution_count": 117,
   "id": "857d6548-9585-43df-bda8-53b11fae6fe8",
   "metadata": {},
   "outputs": [
    {
     "data": {
      "text/plain": [
       "array([ 1.        ,  1.00188514,  1.00377029, ..., 19.84578563,\n",
       "       19.84767078, 19.84955592], shape=(10000,))"
      ]
     },
     "execution_count": 117,
     "metadata": {},
     "output_type": "execute_result"
    }
   ],
   "source": [
    "x + 1"
   ]
  },
  {
   "cell_type": "code",
   "execution_count": 119,
   "id": "78cd21fb-4940-46b7-88e6-fc8cdcd3e562",
   "metadata": {},
   "outputs": [
    {
     "data": {
      "text/plain": [
       "array([ 1.        ,  1.00188514,  1.00377029, ..., 19.84578563,\n",
       "       19.84767078, 19.84955592], shape=(10000,))"
      ]
     },
     "execution_count": 119,
     "metadata": {},
     "output_type": "execute_result"
    }
   ],
   "source": [
    "1 + x"
   ]
  },
  {
   "cell_type": "code",
   "execution_count": 118,
   "id": "8efe14b9-f9b4-45ed-8ef0-bcedce3c17fe",
   "metadata": {},
   "outputs": [
    {
     "data": {
      "text/plain": [
       "numpy.ndarray"
      ]
     },
     "execution_count": 118,
     "metadata": {},
     "output_type": "execute_result"
    }
   ],
   "source": [
    "type(x)"
   ]
  },
  {
   "cell_type": "markdown",
   "id": "8d6ad819-c609-415c-9341-a99e4c34a009",
   "metadata": {},
   "source": [
    "## DataFrame de Pandas"
   ]
  },
  {
   "cell_type": "code",
   "execution_count": 81,
   "id": "27e4a906-aaec-4864-82c3-6b50fa848e27",
   "metadata": {},
   "outputs": [
    {
     "data": {
      "text/html": [
       "<div>\n",
       "<style scoped>\n",
       "    .dataframe tbody tr th:only-of-type {\n",
       "        vertical-align: middle;\n",
       "    }\n",
       "\n",
       "    .dataframe tbody tr th {\n",
       "        vertical-align: top;\n",
       "    }\n",
       "\n",
       "    .dataframe thead th {\n",
       "        text-align: right;\n",
       "    }\n",
       "</style>\n",
       "<table border=\"1\" class=\"dataframe\">\n",
       "  <thead>\n",
       "    <tr style=\"text-align: right;\">\n",
       "      <th></th>\n",
       "      <th>code_insee</th>\n",
       "      <th>nom_standard</th>\n",
       "      <th>nom_sans_pronom</th>\n",
       "      <th>nom_a</th>\n",
       "      <th>nom_de</th>\n",
       "      <th>nom_sans_accent</th>\n",
       "      <th>nom_standard_majuscule</th>\n",
       "      <th>typecom</th>\n",
       "      <th>typecom_texte</th>\n",
       "      <th>reg_code</th>\n",
       "      <th>...</th>\n",
       "      <th>longitude_mairie</th>\n",
       "      <th>latitude_centre</th>\n",
       "      <th>longitude_centre</th>\n",
       "      <th>grille_densite</th>\n",
       "      <th>grille_densite_texte</th>\n",
       "      <th>niveau_equipements_services</th>\n",
       "      <th>niveau_equipements_services_texte</th>\n",
       "      <th>gentile</th>\n",
       "      <th>url_wikipedia</th>\n",
       "      <th>url_villedereve</th>\n",
       "    </tr>\n",
       "  </thead>\n",
       "  <tbody>\n",
       "    <tr>\n",
       "      <th>0</th>\n",
       "      <td>01001</td>\n",
       "      <td>L'Abergement-Clémenciat</td>\n",
       "      <td>Abergement-Clémenciat</td>\n",
       "      <td>à Abergement-Clémenciat</td>\n",
       "      <td>de l'Abergement-Clémenciat</td>\n",
       "      <td>l-abergement-clemenciat</td>\n",
       "      <td>L'ABERGEMENT-CLÉMENCIAT</td>\n",
       "      <td>COM</td>\n",
       "      <td>commune</td>\n",
       "      <td>84</td>\n",
       "      <td>...</td>\n",
       "      <td>4.921</td>\n",
       "      <td>46.153</td>\n",
       "      <td>4.926</td>\n",
       "      <td>6</td>\n",
       "      <td>Rural à habitat dispersé</td>\n",
       "      <td>0.0</td>\n",
       "      <td>communes non pôle</td>\n",
       "      <td>NaN</td>\n",
       "      <td>https://fr.wikipedia.org/wiki/fr:L'Abergement-...</td>\n",
       "      <td>https://villedereve.fr/ville/01001-l-abergemen...</td>\n",
       "    </tr>\n",
       "    <tr>\n",
       "      <th>1</th>\n",
       "      <td>01002</td>\n",
       "      <td>L'Abergement-de-Varey</td>\n",
       "      <td>Abergement-de-Varey</td>\n",
       "      <td>à Abergement-de-Varey</td>\n",
       "      <td>de l'Abergement-de-Varey</td>\n",
       "      <td>l-abergement-de-varey</td>\n",
       "      <td>L'ABERGEMENT-DE-VAREY</td>\n",
       "      <td>COM</td>\n",
       "      <td>commune</td>\n",
       "      <td>84</td>\n",
       "      <td>...</td>\n",
       "      <td>5.423</td>\n",
       "      <td>46.009</td>\n",
       "      <td>5.428</td>\n",
       "      <td>6</td>\n",
       "      <td>Rural à habitat dispersé</td>\n",
       "      <td>0.0</td>\n",
       "      <td>communes non pôle</td>\n",
       "      <td>Abergementais, Abergementaises</td>\n",
       "      <td>https://fr.wikipedia.org/wiki/fr:L'Abergement-...</td>\n",
       "      <td>https://villedereve.fr/ville/01002-l-abergemen...</td>\n",
       "    </tr>\n",
       "    <tr>\n",
       "      <th>2</th>\n",
       "      <td>01004</td>\n",
       "      <td>Ambérieu-en-Bugey</td>\n",
       "      <td>Ambérieu-en-Bugey</td>\n",
       "      <td>à Ambérieu-en-Bugey</td>\n",
       "      <td>d'Ambérieu-en-Bugey</td>\n",
       "      <td>amberieu-en-bugey</td>\n",
       "      <td>AMBÉRIEU-EN-BUGEY</td>\n",
       "      <td>COM</td>\n",
       "      <td>commune</td>\n",
       "      <td>84</td>\n",
       "      <td>...</td>\n",
       "      <td>5.360</td>\n",
       "      <td>45.961</td>\n",
       "      <td>5.373</td>\n",
       "      <td>2</td>\n",
       "      <td>Centres urbains intermédiaires</td>\n",
       "      <td>3.0</td>\n",
       "      <td>centres structurants d'équipements et de services</td>\n",
       "      <td>Ambarrois, Ambarroises</td>\n",
       "      <td>https://fr.wikipedia.org/wiki/fr:Ambérieu-en-B...</td>\n",
       "      <td>https://villedereve.fr/ville/01004-amberieu-en...</td>\n",
       "    </tr>\n",
       "    <tr>\n",
       "      <th>3</th>\n",
       "      <td>01005</td>\n",
       "      <td>Ambérieux-en-Dombes</td>\n",
       "      <td>Ambérieux-en-Dombes</td>\n",
       "      <td>à Ambérieux-en-Dombes</td>\n",
       "      <td>d'Ambérieux-en-Dombes</td>\n",
       "      <td>amberieux-en-dombes</td>\n",
       "      <td>AMBÉRIEUX-EN-DOMBES</td>\n",
       "      <td>COM</td>\n",
       "      <td>commune</td>\n",
       "      <td>84</td>\n",
       "      <td>...</td>\n",
       "      <td>4.903</td>\n",
       "      <td>45.996</td>\n",
       "      <td>4.912</td>\n",
       "      <td>5</td>\n",
       "      <td>Bourgs ruraux</td>\n",
       "      <td>1.0</td>\n",
       "      <td>centres locaux d'équipements et de services</td>\n",
       "      <td>Ambarrois</td>\n",
       "      <td>https://fr.wikipedia.org/wiki/fr:Ambérieux-en-...</td>\n",
       "      <td>https://villedereve.fr/ville/01005-amberieux-e...</td>\n",
       "    </tr>\n",
       "    <tr>\n",
       "      <th>4</th>\n",
       "      <td>01006</td>\n",
       "      <td>Ambléon</td>\n",
       "      <td>Ambléon</td>\n",
       "      <td>à Ambléon</td>\n",
       "      <td>d'Ambléon</td>\n",
       "      <td>ambleon</td>\n",
       "      <td>AMBLÉON</td>\n",
       "      <td>COM</td>\n",
       "      <td>commune</td>\n",
       "      <td>84</td>\n",
       "      <td>...</td>\n",
       "      <td>5.601</td>\n",
       "      <td>45.750</td>\n",
       "      <td>5.594</td>\n",
       "      <td>6</td>\n",
       "      <td>Rural à habitat dispersé</td>\n",
       "      <td>0.0</td>\n",
       "      <td>communes non pôle</td>\n",
       "      <td>Ambléonais</td>\n",
       "      <td>https://fr.wikipedia.org/wiki/fr:Ambléon</td>\n",
       "      <td>https://villedereve.fr/ville/01006-ambleon</td>\n",
       "    </tr>\n",
       "    <tr>\n",
       "      <th>...</th>\n",
       "      <td>...</td>\n",
       "      <td>...</td>\n",
       "      <td>...</td>\n",
       "      <td>...</td>\n",
       "      <td>...</td>\n",
       "      <td>...</td>\n",
       "      <td>...</td>\n",
       "      <td>...</td>\n",
       "      <td>...</td>\n",
       "      <td>...</td>\n",
       "      <td>...</td>\n",
       "      <td>...</td>\n",
       "      <td>...</td>\n",
       "      <td>...</td>\n",
       "      <td>...</td>\n",
       "      <td>...</td>\n",
       "      <td>...</td>\n",
       "      <td>...</td>\n",
       "      <td>...</td>\n",
       "      <td>...</td>\n",
       "      <td>...</td>\n",
       "    </tr>\n",
       "    <tr>\n",
       "      <th>34930</th>\n",
       "      <td>97613</td>\n",
       "      <td>M'Tsangamouji</td>\n",
       "      <td>M'Tsangamouji</td>\n",
       "      <td>à M'Tsangamouji</td>\n",
       "      <td>de M'Tsangamouji</td>\n",
       "      <td>m-tsangamouji</td>\n",
       "      <td>M'TSANGAMOUJI</td>\n",
       "      <td>COM</td>\n",
       "      <td>commune</td>\n",
       "      <td>6</td>\n",
       "      <td>...</td>\n",
       "      <td>45.084</td>\n",
       "      <td>-12.751</td>\n",
       "      <td>45.087</td>\n",
       "      <td>3</td>\n",
       "      <td>Petites villes</td>\n",
       "      <td>NaN</td>\n",
       "      <td>NaN</td>\n",
       "      <td>NaN</td>\n",
       "      <td>https://fr.wikipedia.org/wiki/fr:M'Tsangamouji</td>\n",
       "      <td>https://villedereve.fr/ville/97613-m-tsangamouji</td>\n",
       "    </tr>\n",
       "    <tr>\n",
       "      <th>34931</th>\n",
       "      <td>97614</td>\n",
       "      <td>Ouangani</td>\n",
       "      <td>Ouangani</td>\n",
       "      <td>à Ouangani</td>\n",
       "      <td>d'Ouangani</td>\n",
       "      <td>ouangani</td>\n",
       "      <td>OUANGANI</td>\n",
       "      <td>COM</td>\n",
       "      <td>commune</td>\n",
       "      <td>6</td>\n",
       "      <td>...</td>\n",
       "      <td>45.139</td>\n",
       "      <td>-12.837</td>\n",
       "      <td>45.138</td>\n",
       "      <td>3</td>\n",
       "      <td>Petites villes</td>\n",
       "      <td>NaN</td>\n",
       "      <td>NaN</td>\n",
       "      <td>NaN</td>\n",
       "      <td>https://fr.wikipedia.org/wiki/fr:Ouangani</td>\n",
       "      <td>https://villedereve.fr/ville/97614-ouangani</td>\n",
       "    </tr>\n",
       "    <tr>\n",
       "      <th>34932</th>\n",
       "      <td>97615</td>\n",
       "      <td>Pamandzi</td>\n",
       "      <td>Pamandzi</td>\n",
       "      <td>à Pamandzi</td>\n",
       "      <td>de Pamandzi</td>\n",
       "      <td>pamandzi</td>\n",
       "      <td>PAMANDZI</td>\n",
       "      <td>COM</td>\n",
       "      <td>commune</td>\n",
       "      <td>6</td>\n",
       "      <td>...</td>\n",
       "      <td>45.275</td>\n",
       "      <td>-12.796</td>\n",
       "      <td>45.284</td>\n",
       "      <td>2</td>\n",
       "      <td>Centres urbains intermédiaires</td>\n",
       "      <td>NaN</td>\n",
       "      <td>NaN</td>\n",
       "      <td>Pamandziens</td>\n",
       "      <td>https://fr.wikipedia.org/wiki/fr:Pamandzi</td>\n",
       "      <td>https://villedereve.fr/ville/97615-pamandzi</td>\n",
       "    </tr>\n",
       "    <tr>\n",
       "      <th>34933</th>\n",
       "      <td>97616</td>\n",
       "      <td>Sada</td>\n",
       "      <td>Sada</td>\n",
       "      <td>à Sada</td>\n",
       "      <td>de Sada</td>\n",
       "      <td>sada</td>\n",
       "      <td>SADA</td>\n",
       "      <td>COM</td>\n",
       "      <td>commune</td>\n",
       "      <td>6</td>\n",
       "      <td>...</td>\n",
       "      <td>45.106</td>\n",
       "      <td>-12.861</td>\n",
       "      <td>45.119</td>\n",
       "      <td>2</td>\n",
       "      <td>Centres urbains intermédiaires</td>\n",
       "      <td>NaN</td>\n",
       "      <td>NaN</td>\n",
       "      <td>Sadois</td>\n",
       "      <td>https://fr.wikipedia.org/wiki/fr:Sada (Mayotte)</td>\n",
       "      <td>https://villedereve.fr/ville/97616-sada</td>\n",
       "    </tr>\n",
       "    <tr>\n",
       "      <th>34934</th>\n",
       "      <td>97617</td>\n",
       "      <td>Tsingoni</td>\n",
       "      <td>Tsingoni</td>\n",
       "      <td>à Tsingoni</td>\n",
       "      <td>de Tsingoni</td>\n",
       "      <td>tsingoni</td>\n",
       "      <td>TSINGONI</td>\n",
       "      <td>COM</td>\n",
       "      <td>commune</td>\n",
       "      <td>6</td>\n",
       "      <td>...</td>\n",
       "      <td>45.105</td>\n",
       "      <td>-12.782</td>\n",
       "      <td>45.134</td>\n",
       "      <td>2</td>\n",
       "      <td>Centres urbains intermédiaires</td>\n",
       "      <td>NaN</td>\n",
       "      <td>NaN</td>\n",
       "      <td>NaN</td>\n",
       "      <td>https://fr.wikipedia.org/wiki/fr:Tsingoni</td>\n",
       "      <td>https://villedereve.fr/ville/97617-tsingoni</td>\n",
       "    </tr>\n",
       "  </tbody>\n",
       "</table>\n",
       "<p>34935 rows × 46 columns</p>\n",
       "</div>"
      ],
      "text/plain": [
       "      code_insee             nom_standard        nom_sans_pronom  \\\n",
       "0          01001  L'Abergement-Clémenciat  Abergement-Clémenciat   \n",
       "1          01002    L'Abergement-de-Varey    Abergement-de-Varey   \n",
       "2          01004        Ambérieu-en-Bugey      Ambérieu-en-Bugey   \n",
       "3          01005      Ambérieux-en-Dombes    Ambérieux-en-Dombes   \n",
       "4          01006                  Ambléon                Ambléon   \n",
       "...          ...                      ...                    ...   \n",
       "34930      97613            M'Tsangamouji          M'Tsangamouji   \n",
       "34931      97614                 Ouangani               Ouangani   \n",
       "34932      97615                 Pamandzi               Pamandzi   \n",
       "34933      97616                     Sada                   Sada   \n",
       "34934      97617                 Tsingoni               Tsingoni   \n",
       "\n",
       "                         nom_a                      nom_de  \\\n",
       "0      à Abergement-Clémenciat  de l'Abergement-Clémenciat   \n",
       "1        à Abergement-de-Varey    de l'Abergement-de-Varey   \n",
       "2          à Ambérieu-en-Bugey         d'Ambérieu-en-Bugey   \n",
       "3        à Ambérieux-en-Dombes       d'Ambérieux-en-Dombes   \n",
       "4                    à Ambléon                   d'Ambléon   \n",
       "...                        ...                         ...   \n",
       "34930          à M'Tsangamouji            de M'Tsangamouji   \n",
       "34931               à Ouangani                  d'Ouangani   \n",
       "34932               à Pamandzi                 de Pamandzi   \n",
       "34933                   à Sada                     de Sada   \n",
       "34934               à Tsingoni                 de Tsingoni   \n",
       "\n",
       "               nom_sans_accent   nom_standard_majuscule typecom typecom_texte  \\\n",
       "0      l-abergement-clemenciat  L'ABERGEMENT-CLÉMENCIAT     COM       commune   \n",
       "1        l-abergement-de-varey    L'ABERGEMENT-DE-VAREY     COM       commune   \n",
       "2            amberieu-en-bugey        AMBÉRIEU-EN-BUGEY     COM       commune   \n",
       "3          amberieux-en-dombes      AMBÉRIEUX-EN-DOMBES     COM       commune   \n",
       "4                      ambleon                  AMBLÉON     COM       commune   \n",
       "...                        ...                      ...     ...           ...   \n",
       "34930            m-tsangamouji            M'TSANGAMOUJI     COM       commune   \n",
       "34931                 ouangani                 OUANGANI     COM       commune   \n",
       "34932                 pamandzi                 PAMANDZI     COM       commune   \n",
       "34933                     sada                     SADA     COM       commune   \n",
       "34934                 tsingoni                 TSINGONI     COM       commune   \n",
       "\n",
       "       reg_code  ... longitude_mairie latitude_centre longitude_centre  \\\n",
       "0            84  ...            4.921          46.153            4.926   \n",
       "1            84  ...            5.423          46.009            5.428   \n",
       "2            84  ...            5.360          45.961            5.373   \n",
       "3            84  ...            4.903          45.996            4.912   \n",
       "4            84  ...            5.601          45.750            5.594   \n",
       "...         ...  ...              ...             ...              ...   \n",
       "34930         6  ...           45.084         -12.751           45.087   \n",
       "34931         6  ...           45.139         -12.837           45.138   \n",
       "34932         6  ...           45.275         -12.796           45.284   \n",
       "34933         6  ...           45.106         -12.861           45.119   \n",
       "34934         6  ...           45.105         -12.782           45.134   \n",
       "\n",
       "      grille_densite            grille_densite_texte  \\\n",
       "0                  6        Rural à habitat dispersé   \n",
       "1                  6        Rural à habitat dispersé   \n",
       "2                  2  Centres urbains intermédiaires   \n",
       "3                  5                   Bourgs ruraux   \n",
       "4                  6        Rural à habitat dispersé   \n",
       "...              ...                             ...   \n",
       "34930              3                  Petites villes   \n",
       "34931              3                  Petites villes   \n",
       "34932              2  Centres urbains intermédiaires   \n",
       "34933              2  Centres urbains intermédiaires   \n",
       "34934              2  Centres urbains intermédiaires   \n",
       "\n",
       "      niveau_equipements_services  \\\n",
       "0                             0.0   \n",
       "1                             0.0   \n",
       "2                             3.0   \n",
       "3                             1.0   \n",
       "4                             0.0   \n",
       "...                           ...   \n",
       "34930                         NaN   \n",
       "34931                         NaN   \n",
       "34932                         NaN   \n",
       "34933                         NaN   \n",
       "34934                         NaN   \n",
       "\n",
       "                       niveau_equipements_services_texte  \\\n",
       "0                                      communes non pôle   \n",
       "1                                      communes non pôle   \n",
       "2      centres structurants d'équipements et de services   \n",
       "3            centres locaux d'équipements et de services   \n",
       "4                                      communes non pôle   \n",
       "...                                                  ...   \n",
       "34930                                                NaN   \n",
       "34931                                                NaN   \n",
       "34932                                                NaN   \n",
       "34933                                                NaN   \n",
       "34934                                                NaN   \n",
       "\n",
       "                              gentile  \\\n",
       "0                                 NaN   \n",
       "1      Abergementais, Abergementaises   \n",
       "2              Ambarrois, Ambarroises   \n",
       "3                           Ambarrois   \n",
       "4                          Ambléonais   \n",
       "...                               ...   \n",
       "34930                             NaN   \n",
       "34931                             NaN   \n",
       "34932                     Pamandziens   \n",
       "34933                          Sadois   \n",
       "34934                             NaN   \n",
       "\n",
       "                                           url_wikipedia  \\\n",
       "0      https://fr.wikipedia.org/wiki/fr:L'Abergement-...   \n",
       "1      https://fr.wikipedia.org/wiki/fr:L'Abergement-...   \n",
       "2      https://fr.wikipedia.org/wiki/fr:Ambérieu-en-B...   \n",
       "3      https://fr.wikipedia.org/wiki/fr:Ambérieux-en-...   \n",
       "4               https://fr.wikipedia.org/wiki/fr:Ambléon   \n",
       "...                                                  ...   \n",
       "34930     https://fr.wikipedia.org/wiki/fr:M'Tsangamouji   \n",
       "34931          https://fr.wikipedia.org/wiki/fr:Ouangani   \n",
       "34932          https://fr.wikipedia.org/wiki/fr:Pamandzi   \n",
       "34933    https://fr.wikipedia.org/wiki/fr:Sada (Mayotte)   \n",
       "34934          https://fr.wikipedia.org/wiki/fr:Tsingoni   \n",
       "\n",
       "                                         url_villedereve  \n",
       "0      https://villedereve.fr/ville/01001-l-abergemen...  \n",
       "1      https://villedereve.fr/ville/01002-l-abergemen...  \n",
       "2      https://villedereve.fr/ville/01004-amberieu-en...  \n",
       "3      https://villedereve.fr/ville/01005-amberieux-e...  \n",
       "4             https://villedereve.fr/ville/01006-ambleon  \n",
       "...                                                  ...  \n",
       "34930   https://villedereve.fr/ville/97613-m-tsangamouji  \n",
       "34931        https://villedereve.fr/ville/97614-ouangani  \n",
       "34932        https://villedereve.fr/ville/97615-pamandzi  \n",
       "34933            https://villedereve.fr/ville/97616-sada  \n",
       "34934        https://villedereve.fr/ville/97617-tsingoni  \n",
       "\n",
       "[34935 rows x 46 columns]"
      ]
     },
     "execution_count": 81,
     "metadata": {},
     "output_type": "execute_result"
    }
   ],
   "source": [
    "villes = pd.read_csv(\n",
    "    'data/communes-france-2025.csv', \n",
    "    usecols=range(1,47),\n",
    "    dtype={\n",
    "        'code_insee': str,\n",
    "        'dep_code': str,\n",
    "        'canton_code': str,\n",
    "        'epci_code': str,\n",
    "        'code_insee_centre_zone_emploi': str,\n",
    "        'code_unite_urbaine': str,\n",
    "        'code_postal': str\n",
    "    }\n",
    ")\n",
    "villes"
   ]
  },
  {
   "cell_type": "code",
   "execution_count": 75,
   "id": "963ae682-fa50-4f05-a7fb-31884be1c220",
   "metadata": {},
   "outputs": [
    {
     "data": {
      "text/plain": [
       "Index(['code_insee', 'nom_standard', 'nom_sans_pronom', 'nom_a', 'nom_de',\n",
       "       'nom_sans_accent', 'nom_standard_majuscule', 'typecom', 'typecom_texte',\n",
       "       'reg_code', 'reg_nom', 'dep_code', 'dep_nom', 'canton_code',\n",
       "       'canton_nom', 'epci_code', 'epci_nom', 'academie_code', 'academie_nom',\n",
       "       'code_postal', 'codes_postaux', 'zone_emploi',\n",
       "       'code_insee_centre_zone_emploi', 'code_unite_urbaine',\n",
       "       'nom_unite_urbaine', 'taille_unite_urbaine',\n",
       "       'type_commune_unite_urbaine', 'statut_commune_unite_urbaine',\n",
       "       'population', 'superficie_hectare', 'superficie_km2', 'densite',\n",
       "       'altitude_moyenne', 'altitude_minimale', 'altitude_maximale',\n",
       "       'latitude_mairie', 'longitude_mairie', 'latitude_centre',\n",
       "       'longitude_centre', 'grille_densite', 'grille_densite_texte',\n",
       "       'niveau_equipements_services', 'niveau_equipements_services_texte',\n",
       "       'gentile', 'url_wikipedia', 'url_villedereve'],\n",
       "      dtype='object')"
      ]
     },
     "execution_count": 75,
     "metadata": {},
     "output_type": "execute_result"
    }
   ],
   "source": [
    "# attribut, champs, propriété = variable\n",
    "villes.columns"
   ]
  },
  {
   "cell_type": "code",
   "execution_count": 82,
   "id": "b73874fb-6694-4f0b-a0c4-1e8a4040bff9",
   "metadata": {},
   "outputs": [
    {
     "name": "stdout",
     "output_type": "stream",
     "text": [
      "<class 'pandas.core.frame.DataFrame'>\n",
      "RangeIndex: 34935 entries, 0 to 34934\n",
      "Data columns (total 46 columns):\n",
      " #   Column                             Non-Null Count  Dtype  \n",
      "---  ------                             --------------  -----  \n",
      " 0   code_insee                         34935 non-null  object \n",
      " 1   nom_standard                       34935 non-null  object \n",
      " 2   nom_sans_pronom                    34935 non-null  object \n",
      " 3   nom_a                              34935 non-null  object \n",
      " 4   nom_de                             34935 non-null  object \n",
      " 5   nom_sans_accent                    34935 non-null  object \n",
      " 6   nom_standard_majuscule             34935 non-null  object \n",
      " 7   typecom                            34935 non-null  object \n",
      " 8   typecom_texte                      34935 non-null  object \n",
      " 9   reg_code                           34935 non-null  int64  \n",
      " 10  reg_nom                            34935 non-null  object \n",
      " 11  dep_code                           34935 non-null  object \n",
      " 12  dep_nom                            34935 non-null  object \n",
      " 13  canton_code                        34879 non-null  object \n",
      " 14  canton_nom                         34879 non-null  object \n",
      " 15  epci_code                          34932 non-null  object \n",
      " 16  epci_nom                           34932 non-null  object \n",
      " 17  academie_code                      34935 non-null  int64  \n",
      " 18  academie_nom                       34935 non-null  object \n",
      " 19  code_postal                        34932 non-null  object \n",
      " 20  codes_postaux                      34932 non-null  object \n",
      " 21  zone_emploi                        34932 non-null  float64\n",
      " 22  code_insee_centre_zone_emploi      34803 non-null  object \n",
      " 23  code_unite_urbaine                 34932 non-null  object \n",
      " 24  nom_unite_urbaine                  7576 non-null   object \n",
      " 25  taille_unite_urbaine               34932 non-null  float64\n",
      " 26  type_commune_unite_urbaine         34932 non-null  object \n",
      " 27  statut_commune_unite_urbaine       34932 non-null  object \n",
      " 28  population                         34935 non-null  int64  \n",
      " 29  superficie_hectare                 34935 non-null  int64  \n",
      " 30  superficie_km2                     34935 non-null  int64  \n",
      " 31  densite                            34932 non-null  float64\n",
      " 32  altitude_moyenne                   34935 non-null  int64  \n",
      " 33  altitude_minimale                  34935 non-null  float64\n",
      " 34  altitude_maximale                  34935 non-null  float64\n",
      " 35  latitude_mairie                    34935 non-null  float64\n",
      " 36  longitude_mairie                   34935 non-null  float64\n",
      " 37  latitude_centre                    34926 non-null  float64\n",
      " 38  longitude_centre                   34926 non-null  float64\n",
      " 39  grille_densite                     34935 non-null  int64  \n",
      " 40  grille_densite_texte               34935 non-null  object \n",
      " 41  niveau_equipements_services        34803 non-null  float64\n",
      " 42  niveau_equipements_services_texte  34803 non-null  object \n",
      " 43  gentile                            24065 non-null  object \n",
      " 44  url_wikipedia                      34878 non-null  object \n",
      " 45  url_villedereve                    34935 non-null  object \n",
      "dtypes: float64(10), int64(7), object(29)\n",
      "memory usage: 12.3+ MB\n"
     ]
    }
   ],
   "source": [
    "villes.info()"
   ]
  },
  {
   "cell_type": "code",
   "execution_count": 78,
   "id": "1d26ec0c-4210-41f7-ae55-35a517ad6261",
   "metadata": {},
   "outputs": [
    {
     "data": {
      "text/plain": [
       "pandas.core.frame.DataFrame"
      ]
     },
     "execution_count": 78,
     "metadata": {},
     "output_type": "execute_result"
    }
   ],
   "source": [
    "type(villes)"
   ]
  },
  {
   "cell_type": "code",
   "execution_count": 83,
   "id": "11a25385-c802-4fb9-aff4-64e1d70ec267",
   "metadata": {},
   "outputs": [
    {
     "data": {
      "text/plain": [
       "0        01400\n",
       "1        01640\n",
       "2        01500\n",
       "3        01330\n",
       "4        01300\n",
       "         ...  \n",
       "34930    97650\n",
       "34931    97670\n",
       "34932    97615\n",
       "34933    97640\n",
       "34934    97680\n",
       "Name: code_postal, Length: 34935, dtype: object"
      ]
     },
     "execution_count": 83,
     "metadata": {},
     "output_type": "execute_result"
    }
   ],
   "source": [
    "villes.code_postal"
   ]
  },
  {
   "cell_type": "code",
   "execution_count": 84,
   "id": "9f89cf18-722a-4403-84c9-4dc5ec5c0a44",
   "metadata": {},
   "outputs": [
    {
     "data": {
      "text/plain": [
       "0        01400\n",
       "1        01640\n",
       "2        01500\n",
       "3        01330\n",
       "4        01300\n",
       "         ...  \n",
       "34930    97650\n",
       "34931    97670\n",
       "34932    97615\n",
       "34933    97640\n",
       "34934    97680\n",
       "Name: code_postal, Length: 34935, dtype: object"
      ]
     },
     "execution_count": 84,
     "metadata": {},
     "output_type": "execute_result"
    }
   ],
   "source": [
    "villes['code_postal']"
   ]
  },
  {
   "cell_type": "code",
   "execution_count": 85,
   "id": "076de7ee-e33d-47f5-9443-57a72856b255",
   "metadata": {},
   "outputs": [
    {
     "data": {
      "text/html": [
       "<div>\n",
       "<style scoped>\n",
       "    .dataframe tbody tr th:only-of-type {\n",
       "        vertical-align: middle;\n",
       "    }\n",
       "\n",
       "    .dataframe tbody tr th {\n",
       "        vertical-align: top;\n",
       "    }\n",
       "\n",
       "    .dataframe thead th {\n",
       "        text-align: right;\n",
       "    }\n",
       "</style>\n",
       "<table border=\"1\" class=\"dataframe\">\n",
       "  <thead>\n",
       "    <tr style=\"text-align: right;\">\n",
       "      <th></th>\n",
       "      <th>code_insee</th>\n",
       "      <th>nom_standard</th>\n",
       "      <th>nom_sans_pronom</th>\n",
       "      <th>nom_a</th>\n",
       "    </tr>\n",
       "  </thead>\n",
       "  <tbody>\n",
       "    <tr>\n",
       "      <th>0</th>\n",
       "      <td>01001</td>\n",
       "      <td>L'Abergement-Clémenciat</td>\n",
       "      <td>Abergement-Clémenciat</td>\n",
       "      <td>à Abergement-Clémenciat</td>\n",
       "    </tr>\n",
       "    <tr>\n",
       "      <th>1</th>\n",
       "      <td>01002</td>\n",
       "      <td>L'Abergement-de-Varey</td>\n",
       "      <td>Abergement-de-Varey</td>\n",
       "      <td>à Abergement-de-Varey</td>\n",
       "    </tr>\n",
       "    <tr>\n",
       "      <th>2</th>\n",
       "      <td>01004</td>\n",
       "      <td>Ambérieu-en-Bugey</td>\n",
       "      <td>Ambérieu-en-Bugey</td>\n",
       "      <td>à Ambérieu-en-Bugey</td>\n",
       "    </tr>\n",
       "    <tr>\n",
       "      <th>3</th>\n",
       "      <td>01005</td>\n",
       "      <td>Ambérieux-en-Dombes</td>\n",
       "      <td>Ambérieux-en-Dombes</td>\n",
       "      <td>à Ambérieux-en-Dombes</td>\n",
       "    </tr>\n",
       "  </tbody>\n",
       "</table>\n",
       "</div>"
      ],
      "text/plain": [
       "  code_insee             nom_standard        nom_sans_pronom  \\\n",
       "0      01001  L'Abergement-Clémenciat  Abergement-Clémenciat   \n",
       "1      01002    L'Abergement-de-Varey    Abergement-de-Varey   \n",
       "2      01004        Ambérieu-en-Bugey      Ambérieu-en-Bugey   \n",
       "3      01005      Ambérieux-en-Dombes    Ambérieux-en-Dombes   \n",
       "\n",
       "                     nom_a  \n",
       "0  à Abergement-Clémenciat  \n",
       "1    à Abergement-de-Varey  \n",
       "2      à Ambérieu-en-Bugey  \n",
       "3    à Ambérieux-en-Dombes  "
      ]
     },
     "execution_count": 85,
     "metadata": {},
     "output_type": "execute_result"
    }
   ],
   "source": [
    "villes.iloc[:4, :4]"
   ]
  },
  {
   "cell_type": "code",
   "execution_count": 90,
   "id": "a408cd5f-0b7d-4362-a457-7a8502207b71",
   "metadata": {},
   "outputs": [
    {
     "data": {
      "text/html": [
       "<div>\n",
       "<style scoped>\n",
       "    .dataframe tbody tr th:only-of-type {\n",
       "        vertical-align: middle;\n",
       "    }\n",
       "\n",
       "    .dataframe tbody tr th {\n",
       "        vertical-align: top;\n",
       "    }\n",
       "\n",
       "    .dataframe thead th {\n",
       "        text-align: right;\n",
       "    }\n",
       "</style>\n",
       "<table border=\"1\" class=\"dataframe\">\n",
       "  <thead>\n",
       "    <tr style=\"text-align: right;\">\n",
       "      <th></th>\n",
       "      <th>nom_standard</th>\n",
       "      <th>code_postal</th>\n",
       "      <th>dep_code</th>\n",
       "      <th>population</th>\n",
       "    </tr>\n",
       "  </thead>\n",
       "  <tbody>\n",
       "    <tr>\n",
       "      <th>23101</th>\n",
       "      <td>Les Hauts-Talican</td>\n",
       "      <td>NaN</td>\n",
       "      <td>60</td>\n",
       "      <td>0</td>\n",
       "    </tr>\n",
       "    <tr>\n",
       "      <th>32700</th>\n",
       "      <td>L'Oie</td>\n",
       "      <td>NaN</td>\n",
       "      <td>85</td>\n",
       "      <td>0</td>\n",
       "    </tr>\n",
       "    <tr>\n",
       "      <th>32739</th>\n",
       "      <td>Sainte-Florence</td>\n",
       "      <td>NaN</td>\n",
       "      <td>85</td>\n",
       "      <td>0</td>\n",
       "    </tr>\n",
       "  </tbody>\n",
       "</table>\n",
       "</div>"
      ],
      "text/plain": [
       "            nom_standard code_postal dep_code  population\n",
       "23101  Les Hauts-Talican         NaN       60           0\n",
       "32700              L'Oie         NaN       85           0\n",
       "32739    Sainte-Florence         NaN       85           0"
      ]
     },
     "execution_count": 90,
     "metadata": {},
     "output_type": "execute_result"
    }
   ],
   "source": [
    "villes_sans_cp = villes.loc[\n",
    "    villes.code_postal.isna(),  # code postal vide (NaN ou None)\n",
    "    ['nom_standard', 'code_postal', 'dep_code', 'population']\n",
    "]\n",
    "villes_sans_cp"
   ]
  },
  {
   "cell_type": "code",
   "execution_count": 94,
   "id": "a0a3fa8d-e2c8-46d2-9cab-ddf422b70496",
   "metadata": {},
   "outputs": [],
   "source": [
    "villes_sans_cp.to_csv('data/villes_fantomes.csv', index=False)"
   ]
  },
  {
   "cell_type": "code",
   "execution_count": 95,
   "id": "4fa86d9f-1c01-45f6-9f23-d00dfbbef5b6",
   "metadata": {},
   "outputs": [],
   "source": [
    "villes_sans_cp.to_excel('data/villes_fantomes.xlsx', sheet_name='villes', index=False)"
   ]
  },
  {
   "cell_type": "markdown",
   "id": "3dae7421-68b7-4f25-9ff4-20c464bde069",
   "metadata": {},
   "source": [
    "## Fonctions"
   ]
  },
  {
   "cell_type": "code",
   "execution_count": 111,
   "id": "3a19f308-e60e-4623-b160-d37a8a67347e",
   "metadata": {},
   "outputs": [],
   "source": [
    "def f(x):\n",
    "    \"\"\"calcule la formule x^2 + 1\n",
    "    \n",
    "    paramètres:\n",
    "    - x : valeur numérique (entier, flottant, vecteur, ...)\n",
    "\n",
    "    retourne: le résultat de la formule\n",
    "    \"\"\"\n",
    "    return x**2 + 1"
   ]
  },
  {
   "cell_type": "code",
   "execution_count": 112,
   "id": "cf693622-1373-4c07-b84f-91cfa683296b",
   "metadata": {},
   "outputs": [
    {
     "data": {
      "text/plain": [
       "\u001b[31mSignature:\u001b[39m f(x)\n",
       "\u001b[31mDocstring:\u001b[39m\n",
       "calcule la formule x^2 + 1\n",
       "\n",
       "paramètres:\n",
       "- x : valeur numérique (entier, flottant, vecteur, ...)\n",
       "\n",
       "retourne: le résultat de la formule\n",
       "\u001b[31mFile:\u001b[39m      c:\\users\\matth\\appdata\\local\\temp\\ipykernel_14956\\2798048044.py\n",
       "\u001b[31mType:\u001b[39m      function"
      ]
     },
     "metadata": {},
     "output_type": "display_data"
    }
   ],
   "source": [
    "f?"
   ]
  },
  {
   "cell_type": "code",
   "execution_count": 113,
   "id": "82a9f982-17ff-4fce-bcc7-b8baac400514",
   "metadata": {},
   "outputs": [
    {
     "data": {
      "text/plain": [
       "'calcule la formule x^2 + 1\\n\\nparamètres:\\n- x : valeur numérique (entier, flottant, vecteur, ...)\\n\\nretourne: le résultat de la formule\\n'"
      ]
     },
     "execution_count": 113,
     "metadata": {},
     "output_type": "execute_result"
    }
   ],
   "source": [
    "f.__doc__"
   ]
  },
  {
   "cell_type": "code",
   "execution_count": 98,
   "id": "355b447b-6a31-45e3-9df1-1563b1f6a1cb",
   "metadata": {},
   "outputs": [
    {
     "data": {
      "text/plain": [
       "10"
      ]
     },
     "execution_count": 98,
     "metadata": {},
     "output_type": "execute_result"
    }
   ],
   "source": [
    "f(3)"
   ]
  },
  {
   "cell_type": "code",
   "execution_count": 99,
   "id": "daa95ce4-1228-4327-85ef-438e87370314",
   "metadata": {},
   "outputs": [
    {
     "data": {
      "text/plain": [
       "11.889999999999999"
      ]
     },
     "execution_count": 99,
     "metadata": {},
     "output_type": "execute_result"
    }
   ],
   "source": [
    "f(3.3)"
   ]
  },
  {
   "cell_type": "code",
   "execution_count": 100,
   "id": "ec14cc18-e4ee-4959-b78c-68a58ef9d1d1",
   "metadata": {},
   "outputs": [
    {
     "data": {
      "text/plain": [
       "array([1.        , 1.00000355, 1.00001422, ..., 1.00001422, 1.00000355,\n",
       "       1.        ], shape=(10000,))"
      ]
     },
     "execution_count": 100,
     "metadata": {},
     "output_type": "execute_result"
    }
   ],
   "source": [
    "f(y)"
   ]
  },
  {
   "cell_type": "code",
   "execution_count": 106,
   "id": "d7e01e87-f136-467d-ae39-d57b67e83e54",
   "metadata": {},
   "outputs": [
    {
     "data": {
      "text/plain": [
       "10"
      ]
     },
     "execution_count": 106,
     "metadata": {},
     "output_type": "execute_result"
    }
   ],
   "source": [
    "f(x=3)"
   ]
  },
  {
   "cell_type": "code",
   "execution_count": 102,
   "id": "5cd13ce6-5bd6-4ba4-8aa3-228034b8d237",
   "metadata": {},
   "outputs": [],
   "source": [
    "# TypeError: unsupported operand type(s) for ** or pow(): 'str' and 'int'\n",
    "# f('M')"
   ]
  },
  {
   "cell_type": "code",
   "execution_count": 105,
   "id": "4fa6595a-2926-4fb4-81d4-ef91069e1509",
   "metadata": {},
   "outputs": [],
   "source": [
    "# TypeError: f() missing 1 required positional argument: 'x'\n",
    "# f()\n",
    "\n",
    "# TypeError: f() takes 1 positional argument but 3 were given\n",
    "# f(1, 2, 3)"
   ]
  },
  {
   "cell_type": "markdown",
   "id": "eb9aebdf-e822-45ac-82be-5818820cea8e",
   "metadata": {},
   "source": [
    "### Fonction pgcd d'Euclide\n",
    "https://fr.wikipedia.org/wiki/Algorithme_d%27Euclide\n",
    "\n",
    "```\n",
    "pgcd(12, 16) => 4\n",
    "pgcd(21, 13)\n",
    "pgcd(1836311903, 1134903170)\n",
    "```"
   ]
  },
  {
   "cell_type": "code",
   "execution_count": 114,
   "id": "d06b4842-2134-47ae-aba4-d0d1093c6eb8",
   "metadata": {},
   "outputs": [],
   "source": [
    "def pgcd(a,b):\n",
    "    \"\"\" Calcule le plus grand commun diviseur des nombres a et b\n",
    "\n",
    "    Renvoie: le pgcd\n",
    "    \"\"\"\n",
    "    while a!=b:\n",
    "        if a>b:\n",
    "            a=a-b\n",
    "        else:\n",
    "            b=b-a\n",
    "    return a"
   ]
  },
  {
   "cell_type": "code",
   "execution_count": 115,
   "id": "b3811177-5112-4512-bc95-8f9b00dd1df7",
   "metadata": {},
   "outputs": [
    {
     "data": {
      "text/plain": [
       "(4, 1, 1)"
      ]
     },
     "execution_count": 115,
     "metadata": {},
     "output_type": "execute_result"
    }
   ],
   "source": [
    "g1 = pgcd(12, 16)\n",
    "g2 = pgcd(21, 13)\n",
    "g3 = pgcd(1836311903, 1134903170)\n",
    "g1, g2, g3"
   ]
  }
 ],
 "metadata": {
  "kernelspec": {
   "display_name": "Python 3 (ipykernel)",
   "language": "python",
   "name": "python3"
  },
  "language_info": {
   "codemirror_mode": {
    "name": "ipython",
    "version": 3
   },
   "file_extension": ".py",
   "mimetype": "text/x-python",
   "name": "python",
   "nbconvert_exporter": "python",
   "pygments_lexer": "ipython3",
   "version": "3.13.7"
  }
 },
 "nbformat": 4,
 "nbformat_minor": 5
}
