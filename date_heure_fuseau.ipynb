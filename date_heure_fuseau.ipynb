{
 "cells": [
  {
   "cell_type": "markdown",
   "id": "84fe7daa-36a1-48f5-9b6f-e44c65342d9e",
   "metadata": {},
   "source": [
    "# Données Temporelles\n",
    "- module datetime (Python) conforme à la norme ISO 8601\n",
    "    - class datetime : year, month, day, hour, minute, seconde, microsecond\n",
    "    - class date :  year, month, day\n",
    "    - class time : hour, minute, seconde, microsecond\n",
    "    - class timedelta : durée, écart entre 2 données temporelles\n",
    "    - classes tzinfo, timezone : fuseaux horaires\n",
    "- numpy/pandas : datetime64 (meilleur précision: ns ou autre au choix)\n",
    "- module tiers pytz : dictionnaire des fuseaux horaires Europe/Paris => (depuis python 3.9 module zoneinfo classe ZoneInfo)\n",
    "- module tiers python-dateutil: relativedelta"
   ]
  },
  {
   "cell_type": "code",
   "execution_count": 98,
   "id": "cdbe02e1-7aef-4b28-a019-4ff215cdc452",
   "metadata": {},
   "outputs": [],
   "source": [
    "from datetime import datetime, date, time, timedelta\n",
    "from zoneinfo import ZoneInfo # depuis python 3.9\n",
    "import pytz \n",
    "import pandas as pd\n",
    "import json\n",
    "import locale"
   ]
  },
  {
   "cell_type": "markdown",
   "id": "c45c3348-0ea8-4321-8678-3520040f9054",
   "metadata": {},
   "source": [
    "## Heure système"
   ]
  },
  {
   "cell_type": "code",
   "execution_count": 9,
   "id": "dbc7f28a-d61f-4c6f-af40-df1b51cf02e7",
   "metadata": {},
   "outputs": [
    {
     "name": "stdout",
     "output_type": "stream",
     "text": [
      "Maintenant : 2025-09-26 09:37:25.448813\n",
      "Aujourd'hui : 2025-09-26\n",
      "Heure : 09:37:25.448813\n"
     ]
    }
   ],
   "source": [
    "# Maintenant, aujourd'hui\n",
    "dt = datetime.now()\n",
    "d = date.today()\n",
    "t = dt.time()\n",
    "print(\"Maintenant :\", dt)\n",
    "print(\"Aujourd'hui :\", d)\n",
    "print(\"Heure :\", t)"
   ]
  },
  {
   "cell_type": "code",
   "execution_count": 7,
   "id": "cf470ee1-9f5e-4a0b-a900-14806b62639a",
   "metadata": {},
   "outputs": [
    {
     "data": {
      "text/plain": [
       "datetime.datetime"
      ]
     },
     "execution_count": 7,
     "metadata": {},
     "output_type": "execute_result"
    }
   ],
   "source": [
    "type(dt)"
   ]
  },
  {
   "cell_type": "code",
   "execution_count": 8,
   "id": "6f862693-fbbf-4f33-8834-d7ad6ff9adc5",
   "metadata": {},
   "outputs": [
    {
     "data": {
      "text/plain": [
       "datetime.date"
      ]
     },
     "execution_count": 8,
     "metadata": {},
     "output_type": "execute_result"
    }
   ],
   "source": [
    "type(d)"
   ]
  },
  {
   "cell_type": "code",
   "execution_count": 10,
   "id": "ef0eb791-cc1e-4e12-9768-17922045a632",
   "metadata": {},
   "outputs": [
    {
     "data": {
      "text/plain": [
       "datetime.time"
      ]
     },
     "execution_count": 10,
     "metadata": {},
     "output_type": "execute_result"
    }
   ],
   "source": [
    "type(t)"
   ]
  },
  {
   "cell_type": "code",
   "execution_count": 12,
   "id": "e7398a5a-e819-4c51-b6c9-72450b07be05",
   "metadata": {},
   "outputs": [
    {
     "name": "stdout",
     "output_type": "stream",
     "text": [
      "2025 9 26 9 37 25 448813\n",
      "2025 9 26\n",
      "9 37 25 448813\n"
     ]
    }
   ],
   "source": [
    "print(dt.year, dt.month, dt.day, dt.hour, dt.minute, dt.second, dt.microsecond)\n",
    "print(d.year, d.month, d.day)\n",
    "print(t.hour, t.minute, t.second, t.microsecond)"
   ]
  },
  {
   "cell_type": "markdown",
   "id": "e16d10a9-28c8-4c63-886e-85dddb354ac2",
   "metadata": {},
   "source": [
    "## Constructeurs"
   ]
  },
  {
   "cell_type": "code",
   "execution_count": 17,
   "id": "e9a4033e-fc21-4be2-a3a1-82815c62f90b",
   "metadata": {},
   "outputs": [
    {
     "name": "stdout",
     "output_type": "stream",
     "text": [
      "2036-04-29 02:36:00\n",
      "2024-02-29 00:00:00\n"
     ]
    }
   ],
   "source": [
    "# création d'objets à partir du constructeur\n",
    "dt1 = datetime(2036, 4, 29, 2, 36)\n",
    "dt2 = datetime(2024, 2, 29)\n",
    "print(dt1)\n",
    "print(dt2)"
   ]
  },
  {
   "cell_type": "code",
   "execution_count": 19,
   "id": "454b2221-8765-4f17-84ee-bc4ec358d0d7",
   "metadata": {},
   "outputs": [
    {
     "name": "stdout",
     "output_type": "stream",
     "text": [
      "2000-02-29\n",
      "2004-02-29\n"
     ]
    }
   ],
   "source": [
    "d1 = date(2000, 2, 29)\n",
    "d2 = date(2004, 2, 29)\n",
    "print(d1)\n",
    "print(d2)"
   ]
  },
  {
   "cell_type": "markdown",
   "id": "ea5199e3-a78d-4be2-a04e-9342fc7d2d3b",
   "metadata": {},
   "source": [
    "## Calculs avec `timedelta`"
   ]
  },
  {
   "cell_type": "code",
   "execution_count": 26,
   "id": "5f6d0cf9-f961-4566-9db5-85b739ba222f",
   "metadata": {},
   "outputs": [
    {
     "name": "stdout",
     "output_type": "stream",
     "text": [
      "4443 days, 2:36:00\n"
     ]
    }
   ],
   "source": [
    "delta1 = dt1 - dt2\n",
    "print(delta1)"
   ]
  },
  {
   "cell_type": "code",
   "execution_count": 27,
   "id": "8c4a22cf-26eb-49a6-9447-f59cf7991b2a",
   "metadata": {},
   "outputs": [
    {
     "name": "stdout",
     "output_type": "stream",
     "text": [
      "1461 days, 0:00:00\n"
     ]
    }
   ],
   "source": [
    "delta2 = d2 - d1\n",
    "print(delta2)"
   ]
  },
  {
   "cell_type": "code",
   "execution_count": 25,
   "id": "d856cd19-3f0f-4a56-a5f9-29ad7d182fb8",
   "metadata": {},
   "outputs": [
    {
     "name": "stdout",
     "output_type": "stream",
     "text": [
      "2025-09-29 12:37:25.448813\n"
     ]
    }
   ],
   "source": [
    "dt3 = dt + timedelta(days=3, hours=3)\n",
    "print(dt3)"
   ]
  },
  {
   "cell_type": "code",
   "execution_count": 29,
   "id": "a8adcfc6-55bf-49ce-97bf-6d0a52a9d0e7",
   "metadata": {},
   "outputs": [
    {
     "name": "stdout",
     "output_type": "stream",
     "text": [
      "2025-09-29 12:37:25.448813\n"
     ]
    },
    {
     "data": {
      "text/plain": [
       "datetime.datetime(2025, 9, 29, 12, 37, 25, 448813)"
      ]
     },
     "execution_count": 29,
     "metadata": {},
     "output_type": "execute_result"
    }
   ],
   "source": [
    "print(dt3) # utilise la vue textuelle str\n",
    "dt3 # utilise la vue textuelle repr"
   ]
  },
  {
   "cell_type": "code",
   "execution_count": 32,
   "id": "8d18195d-9bd2-411e-9358-336a06174721",
   "metadata": {},
   "outputs": [
    {
     "name": "stdout",
     "output_type": "stream",
     "text": [
      "Aujourd'hui à Lyon: \"gris et pluie\"\n"
     ]
    },
    {
     "data": {
      "text/plain": [
       "'Aujourd\\'hui à Lyon: \"gris et pluie\"'"
      ]
     },
     "execution_count": 32,
     "metadata": {},
     "output_type": "execute_result"
    }
   ],
   "source": [
    "ville = 'Aujourd\\'hui à Lyon: \"gris et pluie\"'\n",
    "print(ville)\n",
    "ville"
   ]
  },
  {
   "cell_type": "markdown",
   "id": "dcc2f5da-5fa1-4350-89ff-c88069c9c5df",
   "metadata": {},
   "source": [
    "## Conversion et formats"
   ]
  },
  {
   "cell_type": "code",
   "execution_count": 40,
   "id": "669a9c9c-13e5-47c5-9525-0b41905e91d9",
   "metadata": {},
   "outputs": [
    {
     "name": "stdout",
     "output_type": "stream",
     "text": [
      "{'horodatage': '2025-09-26 09:00:00', 'evennement': 'stage Python'}\n"
     ]
    }
   ],
   "source": [
    "file_path = \"data/temporal/temporal-data.json\"\n",
    "\n",
    "with open(file_path, \"r\") as file:\n",
    "    data = json.load(file)\n",
    "print(data)"
   ]
  },
  {
   "cell_type": "code",
   "execution_count": 41,
   "id": "7663aad7-503c-4900-b681-6c4617fa8ebf",
   "metadata": {},
   "outputs": [
    {
     "data": {
      "text/plain": [
       "'2025-09-26 09:00:00'"
      ]
     },
     "execution_count": 41,
     "metadata": {},
     "output_type": "execute_result"
    }
   ],
   "source": [
    "data['horodatage']"
   ]
  },
  {
   "cell_type": "code",
   "execution_count": 42,
   "id": "f91b504c-a6aa-49ce-b805-768bb366f22a",
   "metadata": {},
   "outputs": [
    {
     "data": {
      "text/plain": [
       "{'horodatage': datetime.datetime(2025, 9, 26, 9, 0),\n",
       " 'evennement': 'stage Python'}"
      ]
     },
     "execution_count": 42,
     "metadata": {},
     "output_type": "execute_result"
    }
   ],
   "source": [
    "data['horodatage'] = datetime.fromisoformat(data['horodatage'])\n",
    "data"
   ]
  },
  {
   "cell_type": "code",
   "execution_count": 50,
   "id": "a63edc5f-ddff-413a-992b-fd998c84be8d",
   "metadata": {},
   "outputs": [
    {
     "data": {
      "text/html": [
       "<div>\n",
       "<style scoped>\n",
       "    .dataframe tbody tr th:only-of-type {\n",
       "        vertical-align: middle;\n",
       "    }\n",
       "\n",
       "    .dataframe tbody tr th {\n",
       "        vertical-align: top;\n",
       "    }\n",
       "\n",
       "    .dataframe thead th {\n",
       "        text-align: right;\n",
       "    }\n",
       "</style>\n",
       "<table border=\"1\" class=\"dataframe\">\n",
       "  <thead>\n",
       "    <tr style=\"text-align: right;\">\n",
       "      <th></th>\n",
       "      <th>Horodatage</th>\n",
       "      <th>Evennement</th>\n",
       "    </tr>\n",
       "  </thead>\n",
       "  <tbody>\n",
       "    <tr>\n",
       "      <th>0</th>\n",
       "      <td>2012-05-22 12:24:33</td>\n",
       "      <td>Piscine</td>\n",
       "    </tr>\n",
       "    <tr>\n",
       "      <th>1</th>\n",
       "      <td>2024-02-10 07:24:33</td>\n",
       "      <td>Footing</td>\n",
       "    </tr>\n",
       "    <tr>\n",
       "      <th>2</th>\n",
       "      <td>2024-10-02 19:24:33</td>\n",
       "      <td>Vélo</td>\n",
       "    </tr>\n",
       "  </tbody>\n",
       "</table>\n",
       "</div>"
      ],
      "text/plain": [
       "           Horodatage Evennement\n",
       "0 2012-05-22 12:24:33    Piscine\n",
       "1 2024-02-10 07:24:33    Footing\n",
       "2 2024-10-02 19:24:33       Vélo"
      ]
     },
     "execution_count": 50,
     "metadata": {},
     "output_type": "execute_result"
    }
   ],
   "source": [
    "events = pd.read_csv(\n",
    "    'data/temporal/temporal-data.csv', \n",
    "    sep=';', \n",
    "    encoding='CP1252',\n",
    "    parse_dates=['Horodatage'],\n",
    "    dayfirst=True\n",
    ")\n",
    "events"
   ]
  },
  {
   "cell_type": "code",
   "execution_count": 51,
   "id": "7e660359-914b-4458-bc2b-a757f4405784",
   "metadata": {},
   "outputs": [
    {
     "name": "stdout",
     "output_type": "stream",
     "text": [
      "<class 'pandas.core.frame.DataFrame'>\n",
      "RangeIndex: 3 entries, 0 to 2\n",
      "Data columns (total 2 columns):\n",
      " #   Column      Non-Null Count  Dtype         \n",
      "---  ------      --------------  -----         \n",
      " 0   Horodatage  3 non-null      datetime64[ns]\n",
      " 1   Evennement  3 non-null      object        \n",
      "dtypes: datetime64[ns](1), object(1)\n",
      "memory usage: 180.0+ bytes\n"
     ]
    }
   ],
   "source": [
    "events.info()"
   ]
  },
  {
   "cell_type": "code",
   "execution_count": 53,
   "id": "a5dc9e84-cea6-4b7f-96fc-a7441715af53",
   "metadata": {},
   "outputs": [
    {
     "data": {
      "text/html": [
       "<div>\n",
       "<style scoped>\n",
       "    .dataframe tbody tr th:only-of-type {\n",
       "        vertical-align: middle;\n",
       "    }\n",
       "\n",
       "    .dataframe tbody tr th {\n",
       "        vertical-align: top;\n",
       "    }\n",
       "\n",
       "    .dataframe thead th {\n",
       "        text-align: right;\n",
       "    }\n",
       "</style>\n",
       "<table border=\"1\" class=\"dataframe\">\n",
       "  <thead>\n",
       "    <tr style=\"text-align: right;\">\n",
       "      <th></th>\n",
       "      <th>Horodatage</th>\n",
       "      <th>Evennement</th>\n",
       "    </tr>\n",
       "  </thead>\n",
       "  <tbody>\n",
       "    <tr>\n",
       "      <th>0</th>\n",
       "      <td>2012-05-22 12:24:33</td>\n",
       "      <td>Piscine</td>\n",
       "    </tr>\n",
       "    <tr>\n",
       "      <th>1</th>\n",
       "      <td>2024-02-10 07:24:33</td>\n",
       "      <td>Footing</td>\n",
       "    </tr>\n",
       "    <tr>\n",
       "      <th>2</th>\n",
       "      <td>2024-10-02 19:24:33</td>\n",
       "      <td>Vélo</td>\n",
       "    </tr>\n",
       "  </tbody>\n",
       "</table>\n",
       "</div>"
      ],
      "text/plain": [
       "           Horodatage Evennement\n",
       "0 2012-05-22 12:24:33    Piscine\n",
       "1 2024-02-10 07:24:33    Footing\n",
       "2 2024-10-02 19:24:33       Vélo"
      ]
     },
     "execution_count": 53,
     "metadata": {},
     "output_type": "execute_result"
    }
   ],
   "source": [
    "events = pd.read_csv(\n",
    "    'data/temporal/temporal-data.csv', \n",
    "    sep=';', \n",
    "    encoding='CP1252',\n",
    "    parse_dates=['Horodatage'],\n",
    "    date_format='%d/%m/%Y %H:%M:%S' # format de lecture\n",
    ")\n",
    "events # affichage (ISO format)"
   ]
  },
  {
   "cell_type": "code",
   "execution_count": 55,
   "id": "835bba78-4e2c-4fd9-a99b-80b0779b6bd9",
   "metadata": {},
   "outputs": [
    {
     "name": "stdout",
     "output_type": "stream",
     "text": [
      "2025-09-26 09:37:25.448813\n",
      "26/09/2025 09:37\n"
     ]
    }
   ],
   "source": [
    "print(dt)                      # default ISO\n",
    "print(f'{dt:%d/%m/%Y %H:%M}')  # format precisé"
   ]
  },
  {
   "cell_type": "code",
   "execution_count": 60,
   "id": "fc5f6c08-49f7-4361-9626-77c71acf5f32",
   "metadata": {},
   "outputs": [
    {
     "data": {
      "text/plain": [
       "datetime.datetime(2012, 5, 22, 12, 24, 33)"
      ]
     },
     "execution_count": 60,
     "metadata": {},
     "output_type": "execute_result"
    }
   ],
   "source": [
    "dt5 = datetime.strptime('22/05/2012 12:24:33', '%d/%m/%Y %H:%M:%S')\n",
    "dt5"
   ]
  },
  {
   "cell_type": "code",
   "execution_count": 63,
   "id": "5974d70b-fa07-4357-a033-0b74b0c97ef4",
   "metadata": {},
   "outputs": [
    {
     "data": {
      "text/plain": [
       "'2012-05-22 à 12:33'"
      ]
     },
     "execution_count": 63,
     "metadata": {},
     "output_type": "execute_result"
    }
   ],
   "source": [
    "dt5.strftime('%Y-%m-%d à %H:%S')"
   ]
  },
  {
   "cell_type": "code",
   "execution_count": 68,
   "id": "a77f8621-5bc4-46ed-8afb-65f16e0e0335",
   "metadata": {},
   "outputs": [
    {
     "name": "stdout",
     "output_type": "stream",
     "text": [
      "vendredi 26 septembre 2025 09H37\n"
     ]
    }
   ],
   "source": [
    "locale.setlocale(locale.LC_ALL, 'fr_FR.UTF-8')\n",
    "print(f'{dt:%A %d %B %Y %HH%M}') # vendredi 26 septembre 2025 à 9H37"
   ]
  },
  {
   "cell_type": "code",
   "execution_count": 76,
   "id": "7820d3f2-8d4f-48f0-8dd2-a3302555a8fe",
   "metadata": {},
   "outputs": [
    {
     "name": "stdout",
     "output_type": "stream",
     "text": [
      "vendredi 26 septembre 2025 09H37  (fr_FR)\n",
      "Friday 26 September 2025 09H37  (en_US)\n",
      "Friday 26 September 2025 09H37  (en_UK)\n",
      "viernes 26 septiembre 2025 09H37  (es_ES)\n",
      "divendres 26 setembre 2025 09H37  (ca_ES)\n",
      "ostirala 26 iraila 2025 09H37  (eu_ES)\n",
      "Freitag 26 September 2025 09H37  (de_DE)\n",
      "fredag 26 september 2025 09H37  (sv_SE)\n",
      "金曜日 26 9月 2025 09H37  (ja_JP)\n"
     ]
    }
   ],
   "source": [
    "# Afficher la date en anglais, espagnol, français, allemand, suédois, japonais\n",
    "locales = ['fr_FR', 'en_US', 'en_UK', 'es_ES', 'ca_ES', 'eu_ES', 'de_DE', 'sv_SE', 'ja_JP']\n",
    "for loc in locales:\n",
    "    locale.setlocale(locale.LC_ALL, f'{loc}.UTF-8')\n",
    "    print(f'{dt:%A %d %B %Y %HH%M}  ({loc})')"
   ]
  },
  {
   "cell_type": "code",
   "execution_count": 80,
   "id": "6ebd3533-4201-43e1-b3e2-fd9909edbc1e",
   "metadata": {},
   "outputs": [
    {
     "data": {
      "text/plain": [
       "0    2012\n",
       "1    2024\n",
       "2    2024\n",
       "Name: Horodatage, dtype: int32"
      ]
     },
     "execution_count": 80,
     "metadata": {},
     "output_type": "execute_result"
    }
   ],
   "source": [
    "events['Horodatage'].dt.year"
   ]
  },
  {
   "cell_type": "code",
   "execution_count": 83,
   "id": "199dba66-e35f-4bbb-be37-8e1477429264",
   "metadata": {},
   "outputs": [
    {
     "data": {
      "text/plain": [
       "0           mardi 22 mai 2012 12H24\n",
       "1      samedi 10 février 2024 07H24\n",
       "2    mercredi 02 octobre 2024 19H24\n",
       "Name: Horodatage, dtype: object"
      ]
     },
     "execution_count": 83,
     "metadata": {},
     "output_type": "execute_result"
    }
   ],
   "source": [
    "locale.setlocale(locale.LC_ALL, 'fr_FR.UTF-8')\n",
    "col = events['Horodatage'].dt.strftime('%A %d %B %Y %HH%M')\n",
    "col"
   ]
  },
  {
   "cell_type": "code",
   "execution_count": 84,
   "id": "427704be-d9f7-4e5b-ba95-77d69ca3dfad",
   "metadata": {},
   "outputs": [
    {
     "data": {
      "text/html": [
       "<div>\n",
       "<style scoped>\n",
       "    .dataframe tbody tr th:only-of-type {\n",
       "        vertical-align: middle;\n",
       "    }\n",
       "\n",
       "    .dataframe tbody tr th {\n",
       "        vertical-align: top;\n",
       "    }\n",
       "\n",
       "    .dataframe thead th {\n",
       "        text-align: right;\n",
       "    }\n",
       "</style>\n",
       "<table border=\"1\" class=\"dataframe\">\n",
       "  <thead>\n",
       "    <tr style=\"text-align: right;\">\n",
       "      <th></th>\n",
       "      <th>Horodatage</th>\n",
       "      <th>Evennement</th>\n",
       "      <th>Horodatage_fr</th>\n",
       "    </tr>\n",
       "  </thead>\n",
       "  <tbody>\n",
       "    <tr>\n",
       "      <th>0</th>\n",
       "      <td>2012-05-22 12:24:33</td>\n",
       "      <td>Piscine</td>\n",
       "      <td>mardi 22 mai 2012 12H24</td>\n",
       "    </tr>\n",
       "    <tr>\n",
       "      <th>1</th>\n",
       "      <td>2024-02-10 07:24:33</td>\n",
       "      <td>Footing</td>\n",
       "      <td>samedi 10 février 2024 07H24</td>\n",
       "    </tr>\n",
       "    <tr>\n",
       "      <th>2</th>\n",
       "      <td>2024-10-02 19:24:33</td>\n",
       "      <td>Vélo</td>\n",
       "      <td>mercredi 02 octobre 2024 19H24</td>\n",
       "    </tr>\n",
       "  </tbody>\n",
       "</table>\n",
       "</div>"
      ],
      "text/plain": [
       "           Horodatage Evennement                   Horodatage_fr\n",
       "0 2012-05-22 12:24:33    Piscine         mardi 22 mai 2012 12H24\n",
       "1 2024-02-10 07:24:33    Footing    samedi 10 février 2024 07H24\n",
       "2 2024-10-02 19:24:33       Vélo  mercredi 02 octobre 2024 19H24"
      ]
     },
     "execution_count": 84,
     "metadata": {},
     "output_type": "execute_result"
    }
   ],
   "source": [
    "events['Horodatage_fr'] = col\n",
    "events"
   ]
  },
  {
   "cell_type": "markdown",
   "id": "fc0ab3e0-47ad-4e38-9704-7502ca694a07",
   "metadata": {},
   "source": [
    "## Fuseau horaires\n",
    "![Fuseaux Horaires](https://upload.wikimedia.org/wikipedia/commons/thumb/e/ec/World_Time_Zones_Map.svg/1920px-World_Time_Zones_Map.svg.png)\n",
    "\n",
    "Source: Wikipedia"
   ]
  },
  {
   "cell_type": "code",
   "execution_count": 87,
   "id": "7bed1e89-484e-4ddd-8473-08c476547b48",
   "metadata": {},
   "outputs": [
    {
     "data": {
      "text/plain": [
       "datetime.datetime(2025, 9, 26, 11, 59, 3, 442353, tzinfo=<DstTzInfo 'Europe/Paris' CEST+2:00:00 DST>)"
      ]
     },
     "execution_count": 87,
     "metadata": {},
     "output_type": "execute_result"
    }
   ],
   "source": [
    "tz = pytz.timezone('Europe/Paris')\n",
    "dt1 = datetime.now(tz=tz)\n",
    "dt1"
   ]
  },
  {
   "cell_type": "code",
   "execution_count": 90,
   "id": "9b67476d-d80d-4ed0-a589-0dc2095aa85c",
   "metadata": {},
   "outputs": [
    {
     "data": {
      "text/plain": [
       "datetime.datetime(2024, 2, 29, 9, 0, tzinfo=<DstTzInfo 'Europe/Paris' LMT+0:09:00 STD>)"
      ]
     },
     "execution_count": 90,
     "metadata": {},
     "output_type": "execute_result"
    }
   ],
   "source": [
    "dt2 = datetime(2024, 2, 29, 9, tzinfo=tz)\n",
    "dt2"
   ]
  },
  {
   "cell_type": "code",
   "execution_count": 97,
   "id": "cb5871be-fbb4-4ebb-9fc4-23f721360ec9",
   "metadata": {},
   "outputs": [
    {
     "name": "stdout",
     "output_type": "stream",
     "text": [
      "Europe/Paris : 2025-09-26 12:15:54.292241+02:00\n",
      "Europe/Berlin : 2025-09-26 12:15:54.292398+02:00\n",
      "Europe/London : 2025-09-26 11:15:54.292429+01:00\n",
      "America/Los_Angeles : 2025-09-26 03:15:54.292453-07:00\n",
      "Australia/Sydney : 2025-09-26 20:15:54.292477+10:00\n",
      "Pacific/Honolulu : 2025-09-26 00:15:54.292500-10:00\n",
      "Asia/Tokyo : 2025-09-26 19:15:54.292521+09:00\n",
      "Pacific/Tongatapu : 2025-09-26 23:15:54.292544+13:00\n",
      "US/Samoa : 2025-09-25 23:15:54.292566-11:00\n",
      "Pacific/Kiritimati : 2025-09-27 00:15:54.293059+14:00\n"
     ]
    }
   ],
   "source": [
    "# Quelle heure est il (et quel jour) à Sydney, Tokyo, Los Angeles, Hawaï ?\n",
    "timezones = [\n",
    "    'Europe/Paris', 'Europe/Berlin', 'Europe/London', \n",
    "    'America/Los_Angeles', \n",
    "    'Australia/Sydney', 'Pacific/Honolulu',\n",
    "    'Asia/Tokyo',\n",
    "    'Pacific/Tongatapu',\n",
    "    'US/Samoa',\n",
    "    'Pacific/Kiritimati'\n",
    "]\n",
    "for tz_str in timezones:\n",
    "    tz = pytz.timezone(tz_str)\n",
    "    dt = datetime.now(tz=tz)\n",
    "    print(tz_str, dt, sep=' : ')"
   ]
  },
  {
   "cell_type": "code",
   "execution_count": 99,
   "id": "9dc6ed70-2891-4b68-aff1-3d8676d26963",
   "metadata": {},
   "outputs": [
    {
     "name": "stdout",
     "output_type": "stream",
     "text": [
      "Europe/Paris : 2025-09-26 12:21:10.736263+02:00\n",
      "Europe/Berlin : 2025-09-26 12:21:10.745715+02:00\n",
      "Europe/London : 2025-09-26 11:21:10.754914+01:00\n",
      "America/Los_Angeles : 2025-09-26 03:21:10.764115-07:00\n",
      "Australia/Sydney : 2025-09-26 20:21:10.772375+10:00\n",
      "Pacific/Honolulu : 2025-09-26 00:21:10.783810-10:00\n",
      "Asia/Tokyo : 2025-09-26 19:21:10.802175+09:00\n",
      "Pacific/Tongatapu : 2025-09-26 23:21:10.814058+13:00\n",
      "US/Samoa : 2025-09-25 23:21:10.821166-11:00\n",
      "Pacific/Kiritimati : 2025-09-27 00:21:10.831267+14:00\n"
     ]
    }
   ],
   "source": [
    "# python 3.9\n",
    "for tz_str in timezones:\n",
    "    tz = ZoneInfo(tz_str)\n",
    "    dt = datetime.now(tz=tz)\n",
    "    print(tz_str, dt, sep=' : ')"
   ]
  },
  {
   "cell_type": "code",
   "execution_count": 101,
   "id": "c03a6c1a-9baf-4146-a484-e93d3016d5f6",
   "metadata": {},
   "outputs": [
    {
     "data": {
      "text/plain": [
       "datetime.date(2025, 9, 30)"
      ]
     },
     "execution_count": 101,
     "metadata": {},
     "output_type": "execute_result"
    }
   ],
   "source": [
    "date(dt1.year, dt1.month + 1, 1) - timedelta(days=1)"
   ]
  }
 ],
 "metadata": {
  "kernelspec": {
   "display_name": "Python 3 (ipykernel)",
   "language": "python",
   "name": "python3"
  },
  "language_info": {
   "codemirror_mode": {
    "name": "ipython",
    "version": 3
   },
   "file_extension": ".py",
   "mimetype": "text/x-python",
   "name": "python",
   "nbconvert_exporter": "python",
   "pygments_lexer": "ipython3",
   "version": "3.13.7"
  }
 },
 "nbformat": 4,
 "nbformat_minor": 5
}
