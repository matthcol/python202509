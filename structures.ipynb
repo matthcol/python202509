{
 "cells": [
  {
   "cell_type": "markdown",
   "id": "4b2da2db-da00-4d9b-a455-7e59a67b896e",
   "metadata": {},
   "source": [
    "# Structures de données Python\n",
    "- sequences: list, tuple, set\n",
    "- dictionnaires: dict"
   ]
  },
  {
   "cell_type": "code",
   "execution_count": 45,
   "id": "c211cd9a-40a8-466a-a148-33c274a963bd",
   "metadata": {},
   "outputs": [],
   "source": [
    "import locale # paramètres de régionalisation (langue, pays, monnaie, tri, formats)"
   ]
  },
  {
   "cell_type": "markdown",
   "id": "cbf1830e-919b-428b-93a6-18102da5d70b",
   "metadata": {},
   "source": [
    "## Listes\n",
    "- modifiable : ajout, modification, suppression\n",
    "- iterable (parcours, boucle, ...)\n",
    "- en général, homogénéité sur les éléments (pas obligatoire)"
   ]
  },
  {
   "cell_type": "code",
   "execution_count": 1,
   "id": "e338ec29-a09e-4d93-b238-2c86a221a18e",
   "metadata": {},
   "outputs": [
    {
     "data": {
      "text/plain": [
       "['Pau', 'Toulouse', 'Lyon', 'Nantes']"
      ]
     },
     "execution_count": 1,
     "metadata": {},
     "output_type": "execute_result"
    }
   ],
   "source": [
    "villes = [\"Pau\", \"Toulouse\", \"Lyon\", \"Nantes\"]\n",
    "villes"
   ]
  },
  {
   "cell_type": "code",
   "execution_count": 2,
   "id": "7952cf5b-96f7-443b-b44b-25063ea3fe76",
   "metadata": {},
   "outputs": [
    {
     "data": {
      "text/plain": [
       "list"
      ]
     },
     "execution_count": 2,
     "metadata": {},
     "output_type": "execute_result"
    }
   ],
   "source": [
    "type(villes)"
   ]
  },
  {
   "cell_type": "code",
   "execution_count": 3,
   "id": "714385ce-fd67-4210-ac44-c4554ada27b9",
   "metadata": {},
   "outputs": [
    {
     "data": {
      "text/plain": [
       "['Pau', 'Toulouse', 'Lyon', 'Nantes', 'Paris']"
      ]
     },
     "execution_count": 3,
     "metadata": {},
     "output_type": "execute_result"
    }
   ],
   "source": [
    "villes.append(\"Paris\")\n",
    "villes"
   ]
  },
  {
   "cell_type": "code",
   "execution_count": 4,
   "id": "0470203d-43f6-433e-8fad-b967598139ab",
   "metadata": {},
   "outputs": [
    {
     "data": {
      "text/plain": [
       "['Pau', 'Toulouse', 'Lyon', 'Nantes', 'Paris', 'Nice', 'Strasbourg', 'Bayonne']"
      ]
     },
     "execution_count": 4,
     "metadata": {},
     "output_type": "execute_result"
    }
   ],
   "source": [
    "villes.extend([\"Nice\", \"Strasbourg\", \"Bayonne\"])\n",
    "villes        "
   ]
  },
  {
   "cell_type": "code",
   "execution_count": 5,
   "id": "91986a60-c69b-4db4-8e0f-1ffd11bf936b",
   "metadata": {},
   "outputs": [
    {
     "data": {
      "text/plain": [
       "['Pau',\n",
       " 'Toulouse',\n",
       " 'Lyon',\n",
       " 'Nantes',\n",
       " 'Paris',\n",
       " 'Nice',\n",
       " 'Strasbourg',\n",
       " 'Bayonne',\n",
       " 'Caen',\n",
       " 'Brest']"
      ]
     },
     "execution_count": 5,
     "metadata": {},
     "output_type": "execute_result"
    }
   ],
   "source": [
    "villes.extend((\"Caen\", \"Brest\"))\n",
    "villes"
   ]
  },
  {
   "cell_type": "code",
   "execution_count": 6,
   "id": "3b5477ae-4d4d-4e88-bb16-0a2e1a66745e",
   "metadata": {},
   "outputs": [
    {
     "name": "stdout",
     "output_type": "stream",
     "text": [
      "['Pau', 'Toulouse', 'Lyon', 'Nantes', 'Paris', 'Nice', 'Strasbourg', 'Bayonne', 'Caen', 'Brest']\n"
     ]
    }
   ],
   "source": [
    "print(villes)"
   ]
  },
  {
   "cell_type": "markdown",
   "id": "8e086067-91a8-49b8-be45-7109deb405c2",
   "metadata": {},
   "source": [
    "### Accès en lecture"
   ]
  },
  {
   "cell_type": "code",
   "execution_count": 7,
   "id": "ba705ca9-5955-48cf-9ac2-af48bc701f5f",
   "metadata": {},
   "outputs": [
    {
     "data": {
      "text/plain": [
       "'Pau'"
      ]
     },
     "execution_count": 7,
     "metadata": {},
     "output_type": "execute_result"
    }
   ],
   "source": [
    "# première\n",
    "villes[0]"
   ]
  },
  {
   "cell_type": "code",
   "execution_count": 8,
   "id": "673de3ae-9271-4f66-93aa-ada73cecf37c",
   "metadata": {},
   "outputs": [
    {
     "data": {
      "text/plain": [
       "'Brest'"
      ]
     },
     "execution_count": 8,
     "metadata": {},
     "output_type": "execute_result"
    }
   ],
   "source": [
    "# dernière\n",
    "villes[-1]"
   ]
  },
  {
   "cell_type": "code",
   "execution_count": 9,
   "id": "82d3efaf-6a57-4d1c-80b8-c12b5f82401f",
   "metadata": {},
   "outputs": [
    {
     "data": {
      "text/plain": [
       "['Pau', 'Toulouse', 'Lyon']"
      ]
     },
     "execution_count": 9,
     "metadata": {},
     "output_type": "execute_result"
    }
   ],
   "source": [
    "# 3 premières\n",
    "villes[:3]"
   ]
  },
  {
   "cell_type": "code",
   "execution_count": 10,
   "id": "41ca7415-e52e-447b-a6ce-54476ae935d6",
   "metadata": {},
   "outputs": [
    {
     "data": {
      "text/plain": [
       "['Bayonne', 'Caen', 'Brest']"
      ]
     },
     "execution_count": 10,
     "metadata": {},
     "output_type": "execute_result"
    }
   ],
   "source": [
    "# 3 dernières\n",
    "villes[-3:]"
   ]
  },
  {
   "cell_type": "markdown",
   "id": "5cbf0344-d28e-4bca-8c7d-e9cace6ad4d3",
   "metadata": {},
   "source": [
    "### Modifier avec l'opérateur `[]`"
   ]
  },
  {
   "cell_type": "code",
   "execution_count": 11,
   "id": "a1353c39-e773-47aa-8b22-d8a195fc93ab",
   "metadata": {},
   "outputs": [
    {
     "data": {
      "text/plain": [
       "['Pau',\n",
       " 'Toulouse',\n",
       " 'Lyon',\n",
       " 'Nantes',\n",
       " 'Paris',\n",
       " 'Nice',\n",
       " 'Strasbourg',\n",
       " 'Bayonne',\n",
       " 'Toulon',\n",
       " 'Brest']"
      ]
     },
     "execution_count": 11,
     "metadata": {},
     "output_type": "execute_result"
    }
   ],
   "source": [
    "villes[-2] = \"Toulon\"\n",
    "villes"
   ]
  },
  {
   "cell_type": "code",
   "execution_count": 12,
   "id": "864e72ac-1395-43a0-8949-db64ba89b96a",
   "metadata": {},
   "outputs": [
    {
     "data": {
      "text/plain": [
       "['Biarritz',\n",
       " 'Hendaye',\n",
       " 'Dax',\n",
       " 'Nantes',\n",
       " 'Paris',\n",
       " 'Nice',\n",
       " 'Strasbourg',\n",
       " 'Bayonne',\n",
       " 'Toulon',\n",
       " 'Brest']"
      ]
     },
     "execution_count": 12,
     "metadata": {},
     "output_type": "execute_result"
    }
   ],
   "source": [
    "# remplacer les 3 premières par 3 autres villes\n",
    "villes[:3] = [\"Biarritz\", \"Hendaye\", \"Dax\"]\n",
    "villes"
   ]
  },
  {
   "cell_type": "code",
   "execution_count": 13,
   "id": "26f218a0-7d89-4c3a-aca3-aa3b615802e7",
   "metadata": {},
   "outputs": [
    {
     "data": {
      "text/plain": [
       "['Biarritz',\n",
       " 'Hendaye',\n",
       " 'Dax',\n",
       " 'Nantes',\n",
       " 'Paris',\n",
       " 'Nice',\n",
       " 'Strasbourg',\n",
       " 'Bayonne',\n",
       " 'Saintes',\n",
       " 'La Rochelle',\n",
       " 'Poitiers']"
      ]
     },
     "execution_count": 13,
     "metadata": {},
     "output_type": "execute_result"
    }
   ],
   "source": [
    "# remplacer les 2 dernières par Saintes, La Rochelle et Poitiers\n",
    "villes[-2:]=['Saintes', 'La Rochelle', 'Poitiers']\n",
    "villes"
   ]
  },
  {
   "cell_type": "code",
   "execution_count": 14,
   "id": "f9f174c3-8ee1-4373-9cd7-ee73db5fa0c3",
   "metadata": {},
   "outputs": [
    {
     "data": {
      "text/plain": [
       "['Saint-Etienne',\n",
       " 'Nantes',\n",
       " 'Paris',\n",
       " 'Nice',\n",
       " 'Strasbourg',\n",
       " 'Bayonne',\n",
       " 'Saintes',\n",
       " 'La Rochelle',\n",
       " 'Poitiers']"
      ]
     },
     "execution_count": 14,
     "metadata": {},
     "output_type": "execute_result"
    }
   ],
   "source": [
    "# remplacer les 3 premières par Saint-Etienne\n",
    "villes[:3] = ['Saint-Etienne']\n",
    "villes"
   ]
  },
  {
   "cell_type": "code",
   "execution_count": 15,
   "id": "d6554e12-7b61-4dd6-a6bf-50c9dcd3e69d",
   "metadata": {},
   "outputs": [
    {
     "data": {
      "text/plain": [
       "['Saint-Etienne', 'Nantes', 'Bayonne', 'Saintes', 'La Rochelle', 'Poitiers']"
      ]
     },
     "execution_count": 15,
     "metadata": {},
     "output_type": "execute_result"
    }
   ],
   "source": [
    "# supprimer les villes 2, 3, 4\n",
    "villes[2:5] = []\n",
    "villes"
   ]
  },
  {
   "cell_type": "code",
   "execution_count": 16,
   "id": "e2a35469-c6b5-4b76-a1fb-24736ec77b0f",
   "metadata": {},
   "outputs": [
    {
     "data": {
      "text/plain": [
       "['Saint-Etienne', 'Bayonne', 'La Rochelle']"
      ]
     },
     "execution_count": 16,
     "metadata": {},
     "output_type": "execute_result"
    }
   ],
   "source": [
    "# supprimer les villes 1, 3 et 5\n",
    "# villes[1:6:2] = [] # ValueError: attempt to assign sequence of size 0 to extended slice of size 3\n",
    "del villes[1:6:2]\n",
    "villes"
   ]
  },
  {
   "cell_type": "code",
   "execution_count": 17,
   "id": "19350599-f6da-4a40-b56f-e6af51b96c07",
   "metadata": {},
   "outputs": [
    {
     "data": {
      "text/plain": [
       "['Saint-Etienne', 'Bayonne', 'Rennes', 'Bordeaux', 'Montauban', 'La Rochelle']"
      ]
     },
     "execution_count": 17,
     "metadata": {},
     "output_type": "execute_result"
    }
   ],
   "source": [
    "# insérer les villes Rennes, Bordeaux et Montauban à la position 2\n",
    "villes[2:2] = ['Rennes', 'Bordeaux', 'Montauban']\n",
    "villes"
   ]
  },
  {
   "cell_type": "code",
   "execution_count": 18,
   "id": "101a71a8-4738-475f-8f8f-7060b1a5a765",
   "metadata": {},
   "outputs": [],
   "source": [
    "# mauvaises manips (liste hétérogène ou constituée de lettres à l'unité\n",
    "# villes[2] = ['Rennes', 'Bordeaux', 'Montauban']\n",
    "# villes[:2] = 'Saint-Remy-en-Bouzemont-Saint-Genest-et-Isson' # 1 str est iterable sur ses caractères\n",
    "# villes"
   ]
  },
  {
   "cell_type": "markdown",
   "id": "b0f31888-032a-4ee6-adad-385a551f16f9",
   "metadata": {},
   "source": [
    "### Parcours d'une liste\n",
    "- boucle `for`\n",
    "- fonction de parcours prenant un iterable"
   ]
  },
  {
   "cell_type": "code",
   "execution_count": 19,
   "id": "4cf0f318-3aef-47eb-9b77-044895fbe0ef",
   "metadata": {},
   "outputs": [
    {
     "name": "stdout",
     "output_type": "stream",
     "text": [
      "Liste des villes : \n",
      "- Saint-Etienne\n",
      "- Bayonne\n",
      "- Rennes\n",
      "- Bordeaux\n",
      "- Montauban\n",
      "- La Rochelle\n"
     ]
    }
   ],
   "source": [
    "print(\"Liste des villes : \")\n",
    "for ville in villes:\n",
    "    print(f\"- {ville}\")"
   ]
  },
  {
   "cell_type": "code",
   "execution_count": 20,
   "id": "c2aea2f8-e482-479d-a8ee-64349afaea79",
   "metadata": {},
   "outputs": [
    {
     "name": "stdout",
     "output_type": "stream",
     "text": [
      "12\n",
      "33\n",
      "45\n",
      "21\n",
      "207\n"
     ]
    }
   ],
   "source": [
    "nombres = [12, 33, 45, 21, 207]\n",
    "for n in nombres:\n",
    "    print(n)"
   ]
  },
  {
   "cell_type": "code",
   "execution_count": 21,
   "id": "5aeaa975-a21a-410c-9cd1-1bff1e2fe867",
   "metadata": {},
   "outputs": [
    {
     "data": {
      "text/plain": [
       "318"
      ]
     },
     "execution_count": 21,
     "metadata": {},
     "output_type": "execute_result"
    }
   ],
   "source": [
    "sum(nombres)"
   ]
  },
  {
   "cell_type": "code",
   "execution_count": 22,
   "id": "650fc2bd-fd6a-4818-a799-881726cd022e",
   "metadata": {},
   "outputs": [
    {
     "data": {
      "text/plain": [
       "90"
      ]
     },
     "execution_count": 22,
     "metadata": {},
     "output_type": "execute_result"
    }
   ],
   "source": [
    "sum(nombres[:3])"
   ]
  },
  {
   "cell_type": "code",
   "execution_count": 24,
   "id": "30048656-b15b-4f98-a916-4b5d8af707bc",
   "metadata": {},
   "outputs": [
    {
     "data": {
      "text/plain": [
       "1318"
      ]
     },
     "execution_count": 24,
     "metadata": {},
     "output_type": "execute_result"
    }
   ],
   "source": [
    "sum(nombres, start=1000)"
   ]
  },
  {
   "cell_type": "code",
   "execution_count": 27,
   "id": "5dfd186c-cec9-43fc-9c6a-91f537c82a32",
   "metadata": {},
   "outputs": [
    {
     "data": {
      "text/plain": [
       "'Saint-Etienne, Bayonne, Rennes, Bordeaux, Montauban, La Rochelle'"
      ]
     },
     "execution_count": 27,
     "metadata": {},
     "output_type": "execute_result"
    }
   ],
   "source": [
    "# sum(villes, start='') # scenario interdit\n",
    "', '.join(villes)"
   ]
  },
  {
   "cell_type": "code",
   "execution_count": 32,
   "id": "11d8e285-ef8b-4f62-aa5c-02d66f5658f5",
   "metadata": {},
   "outputs": [],
   "source": [
    "# TODO: convertir chaque element en str avant le join\n",
    "# ', '.join(nombres)"
   ]
  },
  {
   "cell_type": "code",
   "execution_count": 33,
   "id": "08a6c5c4-cd98-496f-9392-acbc328c6c74",
   "metadata": {},
   "outputs": [
    {
     "name": "stdout",
     "output_type": "stream",
     "text": [
      "['Saint-Etienne', 'Bayonne', 'Rennes', 'Bordeaux', 'Montauban', 'La Rochelle']\n"
     ]
    },
    {
     "data": {
      "text/plain": [
       "('Bayonne', 'Saint-Etienne')"
      ]
     },
     "execution_count": 33,
     "metadata": {},
     "output_type": "execute_result"
    }
   ],
   "source": [
    "print(villes)\n",
    "min(villes), max(villes)"
   ]
  },
  {
   "cell_type": "code",
   "execution_count": 34,
   "id": "fa633f86-5616-441a-93b5-5360b5a527ed",
   "metadata": {},
   "outputs": [
    {
     "data": {
      "text/plain": [
       "(12, 207)"
      ]
     },
     "execution_count": 34,
     "metadata": {},
     "output_type": "execute_result"
    }
   ],
   "source": [
    "min(nombres), max(nombres)"
   ]
  },
  {
   "cell_type": "code",
   "execution_count": 35,
   "id": "7d280c50-9658-48fe-8de7-2aea40d32c63",
   "metadata": {},
   "outputs": [
    {
     "data": {
      "text/plain": [
       "['Saint-Etienne',\n",
       " 'Bayonne',\n",
       " 'Rennes',\n",
       " 'Bordeaux',\n",
       " 'Montauban',\n",
       " 'La Rochelle',\n",
       " 'Chambéry',\n",
       " 'Châteauroux',\n",
       " 'Montélimard',\n",
       " 'Cholet',\n",
       " \"L'Haÿ-les-Roses\"]"
      ]
     },
     "execution_count": 35,
     "metadata": {},
     "output_type": "execute_result"
    }
   ],
   "source": [
    "villes.extend([\n",
    "    \"Chambéry\",\n",
    "    \"Châteauroux\",\n",
    "    \"Montélimard\",\n",
    "    \"Cholet\",\n",
    "    \"L'Haÿ-les-Roses\",\n",
    "])\n",
    "villes"
   ]
  },
  {
   "cell_type": "markdown",
   "id": "881d5731-1a2e-479a-8fb6-9de49f15ccd4",
   "metadata": {},
   "source": [
    "### Tri"
   ]
  },
  {
   "cell_type": "code",
   "execution_count": 38,
   "id": "64bf75f6-0c63-41f0-884d-7d21f22b0eef",
   "metadata": {},
   "outputs": [
    {
     "data": {
      "text/plain": [
       "['Bayonne',\n",
       " 'Bordeaux',\n",
       " 'Chambéry',\n",
       " 'Cholet',\n",
       " 'Châteauroux',\n",
       " \"L'Haÿ-les-Roses\",\n",
       " 'La Rochelle',\n",
       " 'Montauban',\n",
       " 'Montélimard',\n",
       " 'Rennes',\n",
       " 'Saint-Etienne']"
      ]
     },
     "execution_count": 38,
     "metadata": {},
     "output_type": "execute_result"
    }
   ],
   "source": [
    "# Tri => nouvelle liste, valable pour n'importe quelle source iterable\n",
    "villes2 = sorted(villes)\n",
    "villes2"
   ]
  },
  {
   "cell_type": "code",
   "execution_count": 39,
   "id": "e7b5bf97-277c-430f-b1fc-6f39ffd4a594",
   "metadata": {},
   "outputs": [],
   "source": [
    "# Tri en place\n",
    "villes.sort()"
   ]
  },
  {
   "cell_type": "code",
   "execution_count": 40,
   "id": "20ebce77-69bd-4a27-b9b1-44ec44501ba5",
   "metadata": {},
   "outputs": [
    {
     "data": {
      "text/plain": [
       "['Bayonne',\n",
       " 'Bordeaux',\n",
       " 'Chambéry',\n",
       " 'Cholet',\n",
       " 'Châteauroux',\n",
       " \"L'Haÿ-les-Roses\",\n",
       " 'La Rochelle',\n",
       " 'Montauban',\n",
       " 'Montélimard',\n",
       " 'Rennes',\n",
       " 'Saint-Etienne']"
      ]
     },
     "execution_count": 40,
     "metadata": {},
     "output_type": "execute_result"
    }
   ],
   "source": [
    "villes"
   ]
  },
  {
   "cell_type": "code",
   "execution_count": 41,
   "id": "3b700791-3801-48e1-84dc-0231195bd06e",
   "metadata": {},
   "outputs": [
    {
     "data": {
      "text/plain": [
       "[12, 21, 33, 45, 207]"
      ]
     },
     "execution_count": 41,
     "metadata": {},
     "output_type": "execute_result"
    }
   ],
   "source": [
    "sorted(nombres)"
   ]
  },
  {
   "cell_type": "code",
   "execution_count": 43,
   "id": "2c4fae43-dbcb-4ee5-b6d2-577507a12832",
   "metadata": {},
   "outputs": [
    {
     "data": {
      "text/plain": [
       "[207, 45, 33, 21, 12]"
      ]
     },
     "execution_count": 43,
     "metadata": {},
     "output_type": "execute_result"
    }
   ],
   "source": [
    "sorted(nombres, reverse=True)"
   ]
  },
  {
   "cell_type": "code",
   "execution_count": 49,
   "id": "9300e639-e994-4c68-8f47-c34f5932eab8",
   "metadata": {},
   "outputs": [
    {
     "data": {
      "text/plain": [
       "1"
      ]
     },
     "execution_count": 49,
     "metadata": {},
     "output_type": "execute_result"
    }
   ],
   "source": [
    "locale.LC_COLLATE"
   ]
  },
  {
   "cell_type": "code",
   "execution_count": 50,
   "id": "8149393a-6a19-44d2-b954-5548861cf2cb",
   "metadata": {},
   "outputs": [
    {
     "data": {
      "text/plain": [
       "(None, None)"
      ]
     },
     "execution_count": 50,
     "metadata": {},
     "output_type": "execute_result"
    }
   ],
   "source": [
    "locale.getlocale(locale.LC_COLLATE)"
   ]
  },
  {
   "cell_type": "code",
   "execution_count": 53,
   "id": "f2f58560-25e0-43f3-b0ee-67d5014bca1b",
   "metadata": {},
   "outputs": [
    {
     "data": {
      "text/plain": [
       "('fr_FR', 'UTF-8')"
      ]
     },
     "execution_count": 53,
     "metadata": {},
     "output_type": "execute_result"
    }
   ],
   "source": [
    "locale.setlocale(locale.LC_ALL, 'fr_FR.UTF-8')\n",
    "locale.getlocale(locale.LC_COLLATE)"
   ]
  },
  {
   "cell_type": "code",
   "execution_count": 54,
   "id": "b3472ff0-73f2-4874-917a-c1f8d1415abc",
   "metadata": {},
   "outputs": [
    {
     "data": {
      "text/plain": [
       "['Bayonne',\n",
       " 'Bordeaux',\n",
       " 'Chambéry',\n",
       " 'Châteauroux',\n",
       " 'Cholet',\n",
       " 'La Rochelle',\n",
       " \"L'Haÿ-les-Roses\",\n",
       " 'Montauban',\n",
       " 'Montélimard',\n",
       " 'Rennes',\n",
       " 'Saint-Etienne']"
      ]
     },
     "execution_count": 54,
     "metadata": {},
     "output_type": "execute_result"
    }
   ],
   "source": [
    "sorted(villes, key=locale.strxfrm)"
   ]
  },
  {
   "cell_type": "code",
   "execution_count": 59,
   "id": "18097077-8a8a-4c2a-bbf0-27565d983d73",
   "metadata": {},
   "outputs": [],
   "source": [
    "words_fr = [\"cœur\", \"cobra\", \"corde\", \"garçon\", \"garce\", \"garde\", \"été\", \"étuve\", \"étage\",\"arbre\", \"Zèbre\"]\n",
    "words_es = [\"mañana\", \"mano\", \"matador\"]"
   ]
  },
  {
   "cell_type": "code",
   "execution_count": 58,
   "id": "15a47fbe-6bb0-4e7e-af6d-a5cf017d5d07",
   "metadata": {},
   "outputs": [
    {
     "data": {
      "text/plain": [
       "['Zèbre',\n",
       " 'arbre',\n",
       " 'cobra',\n",
       " 'corde',\n",
       " 'cœur',\n",
       " 'garce',\n",
       " 'garde',\n",
       " 'garçon',\n",
       " 'étage',\n",
       " 'étuve',\n",
       " 'été']"
      ]
     },
     "execution_count": 58,
     "metadata": {},
     "output_type": "execute_result"
    }
   ],
   "source": [
    "sorted(words_fr)"
   ]
  },
  {
   "cell_type": "code",
   "execution_count": 60,
   "id": "5d90f424-5a6f-4b31-802c-1d4554a96537",
   "metadata": {},
   "outputs": [
    {
     "data": {
      "text/plain": [
       "['mano', 'matador', 'mañana']"
      ]
     },
     "execution_count": 60,
     "metadata": {},
     "output_type": "execute_result"
    }
   ],
   "source": [
    "sorted(words_es)"
   ]
  }
 ],
 "metadata": {
  "kernelspec": {
   "display_name": "Python 3 (ipykernel)",
   "language": "python",
   "name": "python3"
  },
  "language_info": {
   "codemirror_mode": {
    "name": "ipython",
    "version": 3
   },
   "file_extension": ".py",
   "mimetype": "text/x-python",
   "name": "python",
   "nbconvert_exporter": "python",
   "pygments_lexer": "ipython3",
   "version": "3.13.7"
  }
 },
 "nbformat": 4,
 "nbformat_minor": 5
}
