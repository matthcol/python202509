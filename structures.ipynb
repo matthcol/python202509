{
 "cells": [
  {
   "cell_type": "markdown",
   "id": "4b2da2db-da00-4d9b-a455-7e59a67b896e",
   "metadata": {},
   "source": [
    "# Structures de données Python\n",
    "- sequences: list, tuple, set\n",
    "- dictionnaires: dict"
   ]
  },
  {
   "cell_type": "code",
   "execution_count": 123,
   "id": "19add262-3baf-4275-a631-6b1f9cf903cd",
   "metadata": {},
   "outputs": [],
   "source": [
    "import pandas as pd\n",
    "import locale # paramètres de régionalisation (langue, pays, monnaie, tri, formats)"
   ]
  },
  {
   "cell_type": "markdown",
   "id": "cbf1830e-919b-428b-93a6-18102da5d70b",
   "metadata": {},
   "source": [
    "## Listes\n",
    "- modifiable : ajout, modification, suppression\n",
    "- iterable (parcours, boucle, ...)\n",
    "- en général, homogénéité sur les éléments (pas obligatoire)"
   ]
  },
  {
   "cell_type": "code",
   "execution_count": 2,
   "id": "e338ec29-a09e-4d93-b238-2c86a221a18e",
   "metadata": {},
   "outputs": [
    {
     "data": {
      "text/plain": [
       "['Pau', 'Toulouse', 'Lyon', 'Nantes']"
      ]
     },
     "execution_count": 2,
     "metadata": {},
     "output_type": "execute_result"
    }
   ],
   "source": [
    "villes = [\"Pau\", \"Toulouse\", \"Lyon\", \"Nantes\"]\n",
    "villes"
   ]
  },
  {
   "cell_type": "code",
   "execution_count": 3,
   "id": "7952cf5b-96f7-443b-b44b-25063ea3fe76",
   "metadata": {},
   "outputs": [
    {
     "data": {
      "text/plain": [
       "list"
      ]
     },
     "execution_count": 3,
     "metadata": {},
     "output_type": "execute_result"
    }
   ],
   "source": [
    "type(villes)"
   ]
  },
  {
   "cell_type": "code",
   "execution_count": 4,
   "id": "714385ce-fd67-4210-ac44-c4554ada27b9",
   "metadata": {},
   "outputs": [
    {
     "data": {
      "text/plain": [
       "['Pau', 'Toulouse', 'Lyon', 'Nantes', 'Paris']"
      ]
     },
     "execution_count": 4,
     "metadata": {},
     "output_type": "execute_result"
    }
   ],
   "source": [
    "villes.append(\"Paris\")\n",
    "villes"
   ]
  },
  {
   "cell_type": "code",
   "execution_count": 5,
   "id": "0470203d-43f6-433e-8fad-b967598139ab",
   "metadata": {},
   "outputs": [
    {
     "data": {
      "text/plain": [
       "['Pau', 'Toulouse', 'Lyon', 'Nantes', 'Paris', 'Nice', 'Strasbourg', 'Bayonne']"
      ]
     },
     "execution_count": 5,
     "metadata": {},
     "output_type": "execute_result"
    }
   ],
   "source": [
    "villes.extend([\"Nice\", \"Strasbourg\", \"Bayonne\"])\n",
    "villes        "
   ]
  },
  {
   "cell_type": "code",
   "execution_count": 6,
   "id": "91986a60-c69b-4db4-8e0f-1ffd11bf936b",
   "metadata": {},
   "outputs": [
    {
     "data": {
      "text/plain": [
       "['Pau',\n",
       " 'Toulouse',\n",
       " 'Lyon',\n",
       " 'Nantes',\n",
       " 'Paris',\n",
       " 'Nice',\n",
       " 'Strasbourg',\n",
       " 'Bayonne',\n",
       " 'Caen',\n",
       " 'Brest']"
      ]
     },
     "execution_count": 6,
     "metadata": {},
     "output_type": "execute_result"
    }
   ],
   "source": [
    "villes.extend((\"Caen\", \"Brest\"))\n",
    "villes"
   ]
  },
  {
   "cell_type": "code",
   "execution_count": 7,
   "id": "3b5477ae-4d4d-4e88-bb16-0a2e1a66745e",
   "metadata": {},
   "outputs": [
    {
     "name": "stdout",
     "output_type": "stream",
     "text": [
      "['Pau', 'Toulouse', 'Lyon', 'Nantes', 'Paris', 'Nice', 'Strasbourg', 'Bayonne', 'Caen', 'Brest']\n"
     ]
    }
   ],
   "source": [
    "print(villes)"
   ]
  },
  {
   "cell_type": "markdown",
   "id": "8e086067-91a8-49b8-be45-7109deb405c2",
   "metadata": {},
   "source": [
    "### Accès en lecture"
   ]
  },
  {
   "cell_type": "code",
   "execution_count": 8,
   "id": "ba705ca9-5955-48cf-9ac2-af48bc701f5f",
   "metadata": {},
   "outputs": [
    {
     "data": {
      "text/plain": [
       "'Pau'"
      ]
     },
     "execution_count": 8,
     "metadata": {},
     "output_type": "execute_result"
    }
   ],
   "source": [
    "# première\n",
    "villes[0]"
   ]
  },
  {
   "cell_type": "code",
   "execution_count": 9,
   "id": "673de3ae-9271-4f66-93aa-ada73cecf37c",
   "metadata": {},
   "outputs": [
    {
     "data": {
      "text/plain": [
       "'Brest'"
      ]
     },
     "execution_count": 9,
     "metadata": {},
     "output_type": "execute_result"
    }
   ],
   "source": [
    "# dernière\n",
    "villes[-1]"
   ]
  },
  {
   "cell_type": "code",
   "execution_count": 10,
   "id": "82d3efaf-6a57-4d1c-80b8-c12b5f82401f",
   "metadata": {},
   "outputs": [
    {
     "data": {
      "text/plain": [
       "['Pau', 'Toulouse', 'Lyon']"
      ]
     },
     "execution_count": 10,
     "metadata": {},
     "output_type": "execute_result"
    }
   ],
   "source": [
    "# 3 premières\n",
    "villes[:3]"
   ]
  },
  {
   "cell_type": "code",
   "execution_count": 11,
   "id": "41ca7415-e52e-447b-a6ce-54476ae935d6",
   "metadata": {},
   "outputs": [
    {
     "data": {
      "text/plain": [
       "['Bayonne', 'Caen', 'Brest']"
      ]
     },
     "execution_count": 11,
     "metadata": {},
     "output_type": "execute_result"
    }
   ],
   "source": [
    "# 3 dernières\n",
    "villes[-3:]"
   ]
  },
  {
   "cell_type": "markdown",
   "id": "5cbf0344-d28e-4bca-8c7d-e9cace6ad4d3",
   "metadata": {},
   "source": [
    "### Modifier avec l'opérateur `[]`"
   ]
  },
  {
   "cell_type": "code",
   "execution_count": 12,
   "id": "a1353c39-e773-47aa-8b22-d8a195fc93ab",
   "metadata": {},
   "outputs": [
    {
     "data": {
      "text/plain": [
       "['Pau',\n",
       " 'Toulouse',\n",
       " 'Lyon',\n",
       " 'Nantes',\n",
       " 'Paris',\n",
       " 'Nice',\n",
       " 'Strasbourg',\n",
       " 'Bayonne',\n",
       " 'Toulon',\n",
       " 'Brest']"
      ]
     },
     "execution_count": 12,
     "metadata": {},
     "output_type": "execute_result"
    }
   ],
   "source": [
    "villes[-2] = \"Toulon\"\n",
    "villes"
   ]
  },
  {
   "cell_type": "code",
   "execution_count": 13,
   "id": "864e72ac-1395-43a0-8949-db64ba89b96a",
   "metadata": {},
   "outputs": [
    {
     "data": {
      "text/plain": [
       "['Biarritz',\n",
       " 'Hendaye',\n",
       " 'Dax',\n",
       " 'Nantes',\n",
       " 'Paris',\n",
       " 'Nice',\n",
       " 'Strasbourg',\n",
       " 'Bayonne',\n",
       " 'Toulon',\n",
       " 'Brest']"
      ]
     },
     "execution_count": 13,
     "metadata": {},
     "output_type": "execute_result"
    }
   ],
   "source": [
    "# remplacer les 3 premières par 3 autres villes\n",
    "villes[:3] = [\"Biarritz\", \"Hendaye\", \"Dax\"]\n",
    "villes"
   ]
  },
  {
   "cell_type": "code",
   "execution_count": 14,
   "id": "26f218a0-7d89-4c3a-aca3-aa3b615802e7",
   "metadata": {},
   "outputs": [
    {
     "data": {
      "text/plain": [
       "['Biarritz',\n",
       " 'Hendaye',\n",
       " 'Dax',\n",
       " 'Nantes',\n",
       " 'Paris',\n",
       " 'Nice',\n",
       " 'Strasbourg',\n",
       " 'Bayonne',\n",
       " 'Saintes',\n",
       " 'La Rochelle',\n",
       " 'Poitiers']"
      ]
     },
     "execution_count": 14,
     "metadata": {},
     "output_type": "execute_result"
    }
   ],
   "source": [
    "# remplacer les 2 dernières par Saintes, La Rochelle et Poitiers\n",
    "villes[-2:]=['Saintes', 'La Rochelle', 'Poitiers']\n",
    "villes"
   ]
  },
  {
   "cell_type": "code",
   "execution_count": 15,
   "id": "f9f174c3-8ee1-4373-9cd7-ee73db5fa0c3",
   "metadata": {},
   "outputs": [
    {
     "data": {
      "text/plain": [
       "['Saint-Etienne',\n",
       " 'Nantes',\n",
       " 'Paris',\n",
       " 'Nice',\n",
       " 'Strasbourg',\n",
       " 'Bayonne',\n",
       " 'Saintes',\n",
       " 'La Rochelle',\n",
       " 'Poitiers']"
      ]
     },
     "execution_count": 15,
     "metadata": {},
     "output_type": "execute_result"
    }
   ],
   "source": [
    "# remplacer les 3 premières par Saint-Etienne\n",
    "villes[:3] = ['Saint-Etienne']\n",
    "villes"
   ]
  },
  {
   "cell_type": "code",
   "execution_count": 16,
   "id": "d6554e12-7b61-4dd6-a6bf-50c9dcd3e69d",
   "metadata": {},
   "outputs": [
    {
     "data": {
      "text/plain": [
       "['Saint-Etienne', 'Nantes', 'Bayonne', 'Saintes', 'La Rochelle', 'Poitiers']"
      ]
     },
     "execution_count": 16,
     "metadata": {},
     "output_type": "execute_result"
    }
   ],
   "source": [
    "# supprimer les villes 2, 3, 4\n",
    "villes[2:5] = []\n",
    "villes"
   ]
  },
  {
   "cell_type": "code",
   "execution_count": 17,
   "id": "e2a35469-c6b5-4b76-a1fb-24736ec77b0f",
   "metadata": {},
   "outputs": [
    {
     "data": {
      "text/plain": [
       "['Saint-Etienne', 'Bayonne', 'La Rochelle']"
      ]
     },
     "execution_count": 17,
     "metadata": {},
     "output_type": "execute_result"
    }
   ],
   "source": [
    "# supprimer les villes 1, 3 et 5\n",
    "# villes[1:6:2] = [] # ValueError: attempt to assign sequence of size 0 to extended slice of size 3\n",
    "del villes[1:6:2]\n",
    "villes"
   ]
  },
  {
   "cell_type": "code",
   "execution_count": 18,
   "id": "19350599-f6da-4a40-b56f-e6af51b96c07",
   "metadata": {},
   "outputs": [
    {
     "data": {
      "text/plain": [
       "['Saint-Etienne', 'Bayonne', 'Rennes', 'Bordeaux', 'Montauban', 'La Rochelle']"
      ]
     },
     "execution_count": 18,
     "metadata": {},
     "output_type": "execute_result"
    }
   ],
   "source": [
    "# insérer les villes Rennes, Bordeaux et Montauban à la position 2\n",
    "villes[2:2] = ['Rennes', 'Bordeaux', 'Montauban']\n",
    "villes"
   ]
  },
  {
   "cell_type": "code",
   "execution_count": 19,
   "id": "101a71a8-4738-475f-8f8f-7060b1a5a765",
   "metadata": {},
   "outputs": [],
   "source": [
    "# mauvaises manips (liste hétérogène ou constituée de lettres à l'unité\n",
    "# villes[2] = ['Rennes', 'Bordeaux', 'Montauban']\n",
    "# villes[:2] = 'Saint-Remy-en-Bouzemont-Saint-Genest-et-Isson' # 1 str est iterable sur ses caractères\n",
    "# villes"
   ]
  },
  {
   "cell_type": "markdown",
   "id": "b0f31888-032a-4ee6-adad-385a551f16f9",
   "metadata": {},
   "source": [
    "### Parcours d'une liste\n",
    "- boucle `for`\n",
    "- fonction de parcours prenant un iterable"
   ]
  },
  {
   "cell_type": "code",
   "execution_count": 20,
   "id": "4cf0f318-3aef-47eb-9b77-044895fbe0ef",
   "metadata": {},
   "outputs": [
    {
     "name": "stdout",
     "output_type": "stream",
     "text": [
      "Liste des villes : \n",
      "- Saint-Etienne\n",
      "- Bayonne\n",
      "- Rennes\n",
      "- Bordeaux\n",
      "- Montauban\n",
      "- La Rochelle\n"
     ]
    }
   ],
   "source": [
    "print(\"Liste des villes : \")\n",
    "for ville in villes:\n",
    "    print(f\"- {ville}\")"
   ]
  },
  {
   "cell_type": "code",
   "execution_count": 21,
   "id": "c2aea2f8-e482-479d-a8ee-64349afaea79",
   "metadata": {},
   "outputs": [
    {
     "name": "stdout",
     "output_type": "stream",
     "text": [
      "12\n",
      "33\n",
      "45\n",
      "21\n",
      "207\n"
     ]
    }
   ],
   "source": [
    "nombres = [12, 33, 45, 21, 207]\n",
    "for n in nombres:\n",
    "    print(n)"
   ]
  },
  {
   "cell_type": "code",
   "execution_count": 22,
   "id": "5aeaa975-a21a-410c-9cd1-1bff1e2fe867",
   "metadata": {},
   "outputs": [
    {
     "data": {
      "text/plain": [
       "318"
      ]
     },
     "execution_count": 22,
     "metadata": {},
     "output_type": "execute_result"
    }
   ],
   "source": [
    "sum(nombres)"
   ]
  },
  {
   "cell_type": "code",
   "execution_count": 23,
   "id": "650fc2bd-fd6a-4818-a799-881726cd022e",
   "metadata": {},
   "outputs": [
    {
     "data": {
      "text/plain": [
       "90"
      ]
     },
     "execution_count": 23,
     "metadata": {},
     "output_type": "execute_result"
    }
   ],
   "source": [
    "sum(nombres[:3])"
   ]
  },
  {
   "cell_type": "code",
   "execution_count": 24,
   "id": "30048656-b15b-4f98-a916-4b5d8af707bc",
   "metadata": {},
   "outputs": [
    {
     "data": {
      "text/plain": [
       "1318"
      ]
     },
     "execution_count": 24,
     "metadata": {},
     "output_type": "execute_result"
    }
   ],
   "source": [
    "sum(nombres, start=1000)"
   ]
  },
  {
   "cell_type": "code",
   "execution_count": 25,
   "id": "5dfd186c-cec9-43fc-9c6a-91f537c82a32",
   "metadata": {},
   "outputs": [
    {
     "data": {
      "text/plain": [
       "'Saint-Etienne, Bayonne, Rennes, Bordeaux, Montauban, La Rochelle'"
      ]
     },
     "execution_count": 25,
     "metadata": {},
     "output_type": "execute_result"
    }
   ],
   "source": [
    "# sum(villes, start='') # scenario interdit\n",
    "', '.join(villes)"
   ]
  },
  {
   "cell_type": "code",
   "execution_count": 26,
   "id": "11d8e285-ef8b-4f62-aa5c-02d66f5658f5",
   "metadata": {},
   "outputs": [],
   "source": [
    "# TODO: convertir chaque element en str avant le join\n",
    "# ', '.join(nombres)"
   ]
  },
  {
   "cell_type": "code",
   "execution_count": 27,
   "id": "08a6c5c4-cd98-496f-9392-acbc328c6c74",
   "metadata": {},
   "outputs": [
    {
     "name": "stdout",
     "output_type": "stream",
     "text": [
      "['Saint-Etienne', 'Bayonne', 'Rennes', 'Bordeaux', 'Montauban', 'La Rochelle']\n"
     ]
    },
    {
     "data": {
      "text/plain": [
       "('Bayonne', 'Saint-Etienne')"
      ]
     },
     "execution_count": 27,
     "metadata": {},
     "output_type": "execute_result"
    }
   ],
   "source": [
    "print(villes)\n",
    "min(villes), max(villes)"
   ]
  },
  {
   "cell_type": "code",
   "execution_count": 28,
   "id": "fa633f86-5616-441a-93b5-5360b5a527ed",
   "metadata": {},
   "outputs": [
    {
     "data": {
      "text/plain": [
       "(12, 207)"
      ]
     },
     "execution_count": 28,
     "metadata": {},
     "output_type": "execute_result"
    }
   ],
   "source": [
    "min(nombres), max(nombres)"
   ]
  },
  {
   "cell_type": "code",
   "execution_count": 29,
   "id": "7d280c50-9658-48fe-8de7-2aea40d32c63",
   "metadata": {},
   "outputs": [
    {
     "data": {
      "text/plain": [
       "['Saint-Etienne',\n",
       " 'Bayonne',\n",
       " 'Rennes',\n",
       " 'Bordeaux',\n",
       " 'Montauban',\n",
       " 'La Rochelle',\n",
       " 'Chambéry',\n",
       " 'Châteauroux',\n",
       " 'Montélimard',\n",
       " 'Cholet',\n",
       " \"L'Haÿ-les-Roses\"]"
      ]
     },
     "execution_count": 29,
     "metadata": {},
     "output_type": "execute_result"
    }
   ],
   "source": [
    "villes.extend([\n",
    "    \"Chambéry\",\n",
    "    \"Châteauroux\",\n",
    "    \"Montélimard\",\n",
    "    \"Cholet\",\n",
    "    \"L'Haÿ-les-Roses\",\n",
    "])\n",
    "villes"
   ]
  },
  {
   "cell_type": "markdown",
   "id": "881d5731-1a2e-479a-8fb6-9de49f15ccd4",
   "metadata": {},
   "source": [
    "### Tri"
   ]
  },
  {
   "cell_type": "code",
   "execution_count": 30,
   "id": "64bf75f6-0c63-41f0-884d-7d21f22b0eef",
   "metadata": {},
   "outputs": [
    {
     "data": {
      "text/plain": [
       "['Bayonne',\n",
       " 'Bordeaux',\n",
       " 'Chambéry',\n",
       " 'Cholet',\n",
       " 'Châteauroux',\n",
       " \"L'Haÿ-les-Roses\",\n",
       " 'La Rochelle',\n",
       " 'Montauban',\n",
       " 'Montélimard',\n",
       " 'Rennes',\n",
       " 'Saint-Etienne']"
      ]
     },
     "execution_count": 30,
     "metadata": {},
     "output_type": "execute_result"
    }
   ],
   "source": [
    "# Tri => nouvelle liste, valable pour n'importe quelle source iterable\n",
    "villes2 = sorted(villes)\n",
    "villes2"
   ]
  },
  {
   "cell_type": "code",
   "execution_count": 31,
   "id": "e7b5bf97-277c-430f-b1fc-6f39ffd4a594",
   "metadata": {},
   "outputs": [],
   "source": [
    "# Tri en place\n",
    "villes.sort()"
   ]
  },
  {
   "cell_type": "code",
   "execution_count": 32,
   "id": "20ebce77-69bd-4a27-b9b1-44ec44501ba5",
   "metadata": {},
   "outputs": [
    {
     "data": {
      "text/plain": [
       "['Bayonne',\n",
       " 'Bordeaux',\n",
       " 'Chambéry',\n",
       " 'Cholet',\n",
       " 'Châteauroux',\n",
       " \"L'Haÿ-les-Roses\",\n",
       " 'La Rochelle',\n",
       " 'Montauban',\n",
       " 'Montélimard',\n",
       " 'Rennes',\n",
       " 'Saint-Etienne']"
      ]
     },
     "execution_count": 32,
     "metadata": {},
     "output_type": "execute_result"
    }
   ],
   "source": [
    "villes"
   ]
  },
  {
   "cell_type": "code",
   "execution_count": 33,
   "id": "3b700791-3801-48e1-84dc-0231195bd06e",
   "metadata": {},
   "outputs": [
    {
     "data": {
      "text/plain": [
       "[12, 21, 33, 45, 207]"
      ]
     },
     "execution_count": 33,
     "metadata": {},
     "output_type": "execute_result"
    }
   ],
   "source": [
    "sorted(nombres)"
   ]
  },
  {
   "cell_type": "code",
   "execution_count": 34,
   "id": "2c4fae43-dbcb-4ee5-b6d2-577507a12832",
   "metadata": {},
   "outputs": [
    {
     "data": {
      "text/plain": [
       "[207, 45, 33, 21, 12]"
      ]
     },
     "execution_count": 34,
     "metadata": {},
     "output_type": "execute_result"
    }
   ],
   "source": [
    "sorted(nombres, reverse=True)"
   ]
  },
  {
   "cell_type": "code",
   "execution_count": 35,
   "id": "9300e639-e994-4c68-8f47-c34f5932eab8",
   "metadata": {},
   "outputs": [
    {
     "data": {
      "text/plain": [
       "1"
      ]
     },
     "execution_count": 35,
     "metadata": {},
     "output_type": "execute_result"
    }
   ],
   "source": [
    "locale.LC_COLLATE"
   ]
  },
  {
   "cell_type": "code",
   "execution_count": 36,
   "id": "8149393a-6a19-44d2-b954-5548861cf2cb",
   "metadata": {},
   "outputs": [
    {
     "data": {
      "text/plain": [
       "(None, None)"
      ]
     },
     "execution_count": 36,
     "metadata": {},
     "output_type": "execute_result"
    }
   ],
   "source": [
    "locale.getlocale(locale.LC_COLLATE)"
   ]
  },
  {
   "cell_type": "code",
   "execution_count": 37,
   "id": "f2f58560-25e0-43f3-b0ee-67d5014bca1b",
   "metadata": {},
   "outputs": [
    {
     "data": {
      "text/plain": [
       "('fr_FR', 'UTF-8')"
      ]
     },
     "execution_count": 37,
     "metadata": {},
     "output_type": "execute_result"
    }
   ],
   "source": [
    "locale.setlocale(locale.LC_ALL, 'fr_FR.UTF-8')\n",
    "locale.getlocale(locale.LC_COLLATE)"
   ]
  },
  {
   "cell_type": "code",
   "execution_count": 38,
   "id": "b3472ff0-73f2-4874-917a-c1f8d1415abc",
   "metadata": {},
   "outputs": [
    {
     "data": {
      "text/plain": [
       "['Bayonne',\n",
       " 'Bordeaux',\n",
       " 'Chambéry',\n",
       " 'Châteauroux',\n",
       " 'Cholet',\n",
       " 'La Rochelle',\n",
       " \"L'Haÿ-les-Roses\",\n",
       " 'Montauban',\n",
       " 'Montélimard',\n",
       " 'Rennes',\n",
       " 'Saint-Etienne']"
      ]
     },
     "execution_count": 38,
     "metadata": {},
     "output_type": "execute_result"
    }
   ],
   "source": [
    "sorted(villes, key=locale.strxfrm)"
   ]
  },
  {
   "cell_type": "code",
   "execution_count": 39,
   "id": "18097077-8a8a-4c2a-bbf0-27565d983d73",
   "metadata": {},
   "outputs": [],
   "source": [
    "words_fr = [\"cœur\", \"cobra\", \"corde\", \"garçon\", \"garce\", \"garde\", \"été\", \"étuve\", \"étage\",\"arbre\", \"Zèbre\"]\n",
    "words_es = [\"mañana\", \"mano\", \"matador\"]"
   ]
  },
  {
   "cell_type": "code",
   "execution_count": 40,
   "id": "15a47fbe-6bb0-4e7e-af6d-a5cf017d5d07",
   "metadata": {},
   "outputs": [
    {
     "data": {
      "text/plain": [
       "['arbre',\n",
       " 'cobra',\n",
       " 'cœur',\n",
       " 'corde',\n",
       " 'étage',\n",
       " 'été',\n",
       " 'étuve',\n",
       " 'garce',\n",
       " 'garçon',\n",
       " 'garde',\n",
       " 'Zèbre']"
      ]
     },
     "execution_count": 40,
     "metadata": {},
     "output_type": "execute_result"
    }
   ],
   "source": [
    "sorted(words_fr, key=locale.strxfrm)"
   ]
  },
  {
   "cell_type": "code",
   "execution_count": 41,
   "id": "5d90f424-5a6f-4b31-802c-1d4554a96537",
   "metadata": {},
   "outputs": [
    {
     "data": {
      "text/plain": [
       "['mano', 'mañana', 'matador']"
      ]
     },
     "execution_count": 41,
     "metadata": {},
     "output_type": "execute_result"
    }
   ],
   "source": [
    "locale.setlocale(locale.LC_ALL, 'es_ES.utf8')\n",
    "sorted(words_es, key=locale.strxfrm)"
   ]
  },
  {
   "cell_type": "code",
   "execution_count": 42,
   "id": "bfcc93ca-7443-4c69-8f59-726f37963544",
   "metadata": {},
   "outputs": [
    {
     "data": {
      "text/plain": [
       "'STRASSE'"
      ]
     },
     "execution_count": 42,
     "metadata": {},
     "output_type": "execute_result"
    }
   ],
   "source": [
    "'Straße'.upper()"
   ]
  },
  {
   "cell_type": "code",
   "execution_count": 43,
   "id": "2c3afc30-ff9c-42f4-b743-df9319eca182",
   "metadata": {},
   "outputs": [
    {
     "data": {
      "text/plain": [
       "[\"L'Haÿ-les-Roses\", 'Москва', '東京', '🦜🍻💕🤣']"
      ]
     },
     "execution_count": 43,
     "metadata": {},
     "output_type": "execute_result"
    }
   ],
   "source": [
    "# NB: clavier emoji Windows: Windows ;\n",
    "words_int = [\"L'Haÿ-les-Roses\", \"東京\", \"Москва\", \"🦜🍻💕🤣\"]\n",
    "sorted(words_int)"
   ]
  },
  {
   "cell_type": "code",
   "execution_count": 44,
   "id": "7349affa-5242-4c49-9255-465a801d73d1",
   "metadata": {},
   "outputs": [
    {
     "data": {
      "text/plain": [
       "False"
      ]
     },
     "execution_count": 44,
     "metadata": {},
     "output_type": "execute_result"
    }
   ],
   "source": [
    "# Le а ciryllique n'est pas le même que le a latin\n",
    "\"а\" == \"a\""
   ]
  },
  {
   "cell_type": "code",
   "execution_count": 45,
   "id": "8549f0d7-0fd0-4ded-9186-eee60fcd688f",
   "metadata": {},
   "outputs": [],
   "source": [
    "# mettre en majuscule (affichage ou nouvelle liste):\n",
    "# - la liste des villes\n",
    "# - la liste des mots internationaux"
   ]
  },
  {
   "cell_type": "code",
   "execution_count": 46,
   "id": "d867da8a-1528-4568-bd49-6a058dbeecb4",
   "metadata": {},
   "outputs": [
    {
     "name": "stdout",
     "output_type": "stream",
     "text": [
      "Villes :\n",
      "  - BAYONNE\n",
      "  - BORDEAUX\n",
      "  - CHAMBÉRY\n",
      "  - CHOLET\n",
      "  - CHÂTEAUROUX\n",
      "  - L'HAŸ-LES-ROSES\n",
      "  - LA ROCHELLE\n",
      "  - MONTAUBAN\n",
      "  - MONTÉLIMARD\n",
      "  - RENNES\n",
      "  - SAINT-ETIENNE\n",
      "** fin liste **\n"
     ]
    }
   ],
   "source": [
    "print(\"Villes :\")\n",
    "for ville in villes:\n",
    "    ville_u = ville.upper()\n",
    "    print(f\"  - {ville_u}\")\n",
    "print(\"** fin liste **\")"
   ]
  },
  {
   "cell_type": "code",
   "execution_count": 47,
   "id": "b1dd6017-1982-4c0f-8232-28bb4ae023ef",
   "metadata": {},
   "outputs": [
    {
     "name": "stdout",
     "output_type": "stream",
     "text": [
      "L'HAŸ-LES-ROSES\n",
      "東京\n",
      "МОСКВА\n",
      "🦜🍻💕🤣\n"
     ]
    }
   ],
   "source": [
    "for word in words_int:\n",
    "    print(word.upper())"
   ]
  },
  {
   "cell_type": "code",
   "execution_count": 48,
   "id": "c50f56c7-005e-4193-81d7-8924c4770454",
   "metadata": {},
   "outputs": [
    {
     "data": {
      "text/plain": [
       "['BAYONNE',\n",
       " 'BORDEAUX',\n",
       " 'CHAMBÉRY',\n",
       " 'CHOLET',\n",
       " 'CHÂTEAUROUX',\n",
       " \"L'HAŸ-LES-ROSES\",\n",
       " 'LA ROCHELLE',\n",
       " 'MONTAUBAN',\n",
       " 'MONTÉLIMARD',\n",
       " 'RENNES',\n",
       " 'SAINT-ETIENNE']"
      ]
     },
     "execution_count": 48,
     "metadata": {},
     "output_type": "execute_result"
    }
   ],
   "source": [
    "# garder les villes en majuscule en mémoire: recette oldschool\n",
    "villes_u = []\n",
    "for ville in villes:\n",
    "    ville_u = ville.upper()\n",
    "    villes_u.append(ville_u)\n",
    "villes_u"
   ]
  },
  {
   "cell_type": "code",
   "execution_count": 49,
   "id": "b5a009cf-d49f-4708-90f8-e21458f784ab",
   "metadata": {},
   "outputs": [
    {
     "data": {
      "text/plain": [
       "['BAYONNE',\n",
       " 'BORDEAUX',\n",
       " 'CHAMBÉRY',\n",
       " 'CHOLET',\n",
       " 'CHÂTEAUROUX',\n",
       " \"L'HAŸ-LES-ROSES\",\n",
       " 'LA ROCHELLE',\n",
       " 'MONTAUBAN',\n",
       " 'MONTÉLIMARD',\n",
       " 'RENNES',\n",
       " 'SAINT-ETIENNE']"
      ]
     },
     "execution_count": 49,
     "metadata": {},
     "output_type": "execute_result"
    }
   ],
   "source": [
    "# list comprehension = \"expression for\" entre []\n",
    "villes_u = [ville.upper() for ville in villes]\n",
    "villes_u"
   ]
  },
  {
   "cell_type": "code",
   "execution_count": 50,
   "id": "7a8f2195-33f3-4271-8a3d-c1e1954cb7dd",
   "metadata": {},
   "outputs": [
    {
     "data": {
      "text/plain": [
       "[144, 1089, 2025, 441, 42849]"
      ]
     },
     "execution_count": 50,
     "metadata": {},
     "output_type": "execute_result"
    }
   ],
   "source": [
    "[x**2 for x in nombres]"
   ]
  },
  {
   "cell_type": "code",
   "execution_count": 51,
   "id": "9686a1b2-fe4a-4143-9a3b-8ef7ff720782",
   "metadata": {},
   "outputs": [
    {
     "data": {
      "text/plain": [
       "[0, 1, 4, 9, 16, 25, 36, 49, 64, 81]"
      ]
     },
     "execution_count": 51,
     "metadata": {},
     "output_type": "execute_result"
    }
   ],
   "source": [
    "[x**2 for x in range(10)]"
   ]
  },
  {
   "cell_type": "code",
   "execution_count": 52,
   "id": "cdfea9c9-22da-4514-a937-cd4193744e2f",
   "metadata": {},
   "outputs": [
    {
     "data": {
      "text/plain": [
       "285"
      ]
     },
     "execution_count": 52,
     "metadata": {},
     "output_type": "execute_result"
    }
   ],
   "source": [
    "# expression for en paramètre d'une fonction (sum, min, max, list, ...)\n",
    "# - pas de liste intermédiaire\n",
    "# - traitement au fil de l'eau\n",
    "s = sum(x**2 for x in range(10))\n",
    "s"
   ]
  },
  {
   "cell_type": "code",
   "execution_count": 53,
   "id": "54d0ee42-a77c-447c-8fcb-db306ad8718f",
   "metadata": {},
   "outputs": [
    {
     "data": {
      "text/plain": [
       "1285"
      ]
     },
     "execution_count": 53,
     "metadata": {},
     "output_type": "execute_result"
    }
   ],
   "source": [
    "s2 = sum((x**2 for x in range(10)), start=1000)\n",
    "s2"
   ]
  },
  {
   "cell_type": "code",
   "execution_count": 54,
   "id": "deccacfe-c8a6-4b0a-80a3-3b06e9e024b2",
   "metadata": {},
   "outputs": [
    {
     "data": {
      "text/plain": [
       "<generator object <genexpr> at 0x000001FD56C302B0>"
      ]
     },
     "execution_count": 54,
     "metadata": {},
     "output_type": "execute_result"
    }
   ],
   "source": [
    "g = (x**2 for x in range(10))\n",
    "g"
   ]
  },
  {
   "cell_type": "code",
   "execution_count": 55,
   "id": "7d6a3739-3ddb-4e74-8dd7-c79815c704ee",
   "metadata": {},
   "outputs": [
    {
     "data": {
      "text/plain": [
       "0"
      ]
     },
     "execution_count": 55,
     "metadata": {},
     "output_type": "execute_result"
    }
   ],
   "source": [
    "# nouvelle valeur ... jusqu'à l'exception StopIteration\n",
    "next(g)"
   ]
  },
  {
   "cell_type": "markdown",
   "id": "b45bf72c-33bb-4ed8-b9e4-2f43d98b2027",
   "metadata": {},
   "source": [
    "## Range\n",
    "- iterable"
   ]
  },
  {
   "cell_type": "code",
   "execution_count": 56,
   "id": "563a61e3-4e6e-425e-9b28-99f4941eadc0",
   "metadata": {},
   "outputs": [
    {
     "data": {
      "text/plain": [
       "range(0, 10)"
      ]
     },
     "execution_count": 56,
     "metadata": {},
     "output_type": "execute_result"
    }
   ],
   "source": [
    "range(10)"
   ]
  },
  {
   "cell_type": "code",
   "execution_count": 57,
   "id": "dbcfbbdd-e4ad-42fd-9e83-8a9df99e56a4",
   "metadata": {},
   "outputs": [
    {
     "data": {
      "text/plain": [
       "range(4, 10)"
      ]
     },
     "execution_count": 57,
     "metadata": {},
     "output_type": "execute_result"
    }
   ],
   "source": [
    "range(4,10)"
   ]
  },
  {
   "cell_type": "code",
   "execution_count": 58,
   "id": "f42be1be-8905-40e3-bdf8-9cd9ca628d32",
   "metadata": {},
   "outputs": [
    {
     "data": {
      "text/plain": [
       "range(10, -1, -1)"
      ]
     },
     "execution_count": 58,
     "metadata": {},
     "output_type": "execute_result"
    }
   ],
   "source": [
    "range(10, -1, -1)"
   ]
  },
  {
   "cell_type": "code",
   "execution_count": 59,
   "id": "45a700b6-103d-4bc8-81dc-d4cee7485bf5",
   "metadata": {},
   "outputs": [
    {
     "data": {
      "text/plain": [
       "45"
      ]
     },
     "execution_count": 59,
     "metadata": {},
     "output_type": "execute_result"
    }
   ],
   "source": [
    "sum(range(10)) # 0 + 1 + 2 + ... + 9"
   ]
  },
  {
   "cell_type": "code",
   "execution_count": 60,
   "id": "83a0815f-a63a-495d-9c42-fc9feaa6db4b",
   "metadata": {},
   "outputs": [
    {
     "name": "stdout",
     "output_type": "stream",
     "text": [
      "0\n",
      "1\n",
      "2\n",
      "3\n",
      "4\n",
      "5\n",
      "6\n",
      "7\n",
      "8\n",
      "9\n"
     ]
    }
   ],
   "source": [
    "for i in range(10):\n",
    "    print(i)"
   ]
  },
  {
   "cell_type": "code",
   "execution_count": 61,
   "id": "57e24e82-3823-4ca5-a4ed-ed0e32f43b46",
   "metadata": {},
   "outputs": [
    {
     "name": "stdout",
     "output_type": "stream",
     "text": [
      "10 9 8 7 6 5 4 3 2 1 0 "
     ]
    }
   ],
   "source": [
    "for i in range(10, -1, -1):\n",
    "    print(i, end=' ')"
   ]
  },
  {
   "cell_type": "code",
   "execution_count": 62,
   "id": "770ad2d1-99e0-463f-9ab8-d6f9f12cd955",
   "metadata": {},
   "outputs": [
    {
     "data": {
      "text/plain": [
       "[4, 6, 8, 10, 12, 14]"
      ]
     },
     "execution_count": 62,
     "metadata": {},
     "output_type": "execute_result"
    }
   ],
   "source": [
    "list(range(4, 15, 2))"
   ]
  },
  {
   "cell_type": "code",
   "execution_count": 63,
   "id": "a7f873d6-ec6a-4b8c-b9d6-90cdcea1a8b3",
   "metadata": {},
   "outputs": [],
   "source": [
    "# afficher la liste triées des villes en numérotant les lignes de 1 à n"
   ]
  },
  {
   "cell_type": "code",
   "execution_count": 64,
   "id": "f2696236-4c68-4a0a-985d-21e83daf64e5",
   "metadata": {},
   "outputs": [
    {
     "name": "stdout",
     "output_type": "stream",
     "text": [
      "01 - Bayonne\n",
      "02 - Bordeaux\n",
      "03 - Chambéry\n",
      "04 - Cholet\n",
      "05 - Châteauroux\n",
      "06 - L'Haÿ-les-Roses\n",
      "07 - La Rochelle\n",
      "08 - Montauban\n",
      "09 - Montélimard\n",
      "10 - Rennes\n",
      "11 - Saint-Etienne\n"
     ]
    }
   ],
   "source": [
    "# 1ere solution\n",
    "villes.sort()\n",
    "i = 0\n",
    "for ville in villes:\n",
    "    i += 1\n",
    "    print(f\"{i:02d} - {ville}\")"
   ]
  },
  {
   "cell_type": "code",
   "execution_count": 65,
   "id": "48e489e0-3563-438d-b346-29fbbfcb8ab3",
   "metadata": {},
   "outputs": [
    {
     "name": "stdout",
     "output_type": "stream",
     "text": [
      "01 - Bayonne\n",
      "02 - Bordeaux\n",
      "03 - Chambéry\n",
      "04 - Cholet\n",
      "05 - Châteauroux\n",
      "06 - L'Haÿ-les-Roses\n",
      "07 - La Rochelle\n",
      "08 - Montauban\n",
      "09 - Montélimard\n",
      "10 - Rennes\n",
      "11 - Saint-Etienne\n"
     ]
    }
   ],
   "source": [
    "# 2e solution avec range\n",
    "villes.sort()\n",
    "for i in range(len(villes)):\n",
    "    print(f\"{i+1:02d} - {villes[i]}\")"
   ]
  },
  {
   "cell_type": "code",
   "execution_count": 66,
   "id": "dba1a634-b527-4115-9321-a1271a92783d",
   "metadata": {},
   "outputs": [
    {
     "name": "stdout",
     "output_type": "stream",
     "text": [
      "01 - Bayonne\n",
      "02 - Bordeaux\n",
      "03 - Chambéry\n",
      "04 - Cholet\n",
      "05 - Châteauroux\n",
      "06 - L'Haÿ-les-Roses\n",
      "07 - La Rochelle\n",
      "08 - Montauban\n",
      "09 - Montélimard\n",
      "10 - Rennes\n",
      "11 - Saint-Etienne\n"
     ]
    }
   ],
   "source": [
    "# 3e solution : enumerate\n",
    "villes.sort()\n",
    "for i, ville in enumerate(villes, start=1):\n",
    "    print(f\"{i:02d} - {ville}\")"
   ]
  },
  {
   "cell_type": "code",
   "execution_count": 67,
   "id": "10f32d87-8221-4d69-949c-f2cdf6d0a094",
   "metadata": {},
   "outputs": [
    {
     "data": {
      "text/plain": [
       "[(1, 'Bayonne'),\n",
       " (2, 'Bordeaux'),\n",
       " (3, 'Chambéry'),\n",
       " (4, 'Cholet'),\n",
       " (5, 'Châteauroux'),\n",
       " (6, \"L'Haÿ-les-Roses\"),\n",
       " (7, 'La Rochelle'),\n",
       " (8, 'Montauban'),\n",
       " (9, 'Montélimard'),\n",
       " (10, 'Rennes'),\n",
       " (11, 'Saint-Etienne')]"
      ]
     },
     "execution_count": 67,
     "metadata": {},
     "output_type": "execute_result"
    }
   ],
   "source": [
    "list(enumerate(villes, start=1))"
   ]
  },
  {
   "cell_type": "code",
   "execution_count": 68,
   "id": "64403136-9082-4430-b86c-a20573cbcbd2",
   "metadata": {},
   "outputs": [
    {
     "name": "stdout",
     "output_type": "stream",
     "text": [
      "1a - Bayonne\n",
      "2b - Bordeaux\n",
      "3c - Chambéry\n",
      "4d - Cholet\n",
      "5e - Châteauroux\n",
      "6f - L'Haÿ-les-Roses\n",
      "7g - La Rochelle\n",
      "8h - Montauban\n",
      "9i - Montélimard\n",
      "10k - Rennes\n",
      "11l - Saint-Etienne\n"
     ]
    }
   ],
   "source": [
    "for i, l, ville in zip(range(1, len(villes) + 1), 'abcdefghiklmnopqrstuvwxyz', villes):\n",
    "    print(f'{i}{l} - {ville}')"
   ]
  },
  {
   "cell_type": "markdown",
   "id": "f4807ecc-b60f-4322-8b2d-230a80d558a4",
   "metadata": {},
   "source": [
    "## Filtrer les données"
   ]
  },
  {
   "cell_type": "code",
   "execution_count": 69,
   "id": "fc8d16dd-54aa-4994-853c-a07c40e7c1f8",
   "metadata": {},
   "outputs": [
    {
     "name": "stdout",
     "output_type": "stream",
     "text": [
      "Chambéry\n",
      "Cholet\n",
      "Châteauroux\n"
     ]
    }
   ],
   "source": [
    "for ville in villes:\n",
    "    if ville.startswith('C'):\n",
    "        print(ville)"
   ]
  },
  {
   "cell_type": "code",
   "execution_count": 70,
   "id": "567ed75b-450d-4008-95b4-1711648703c3",
   "metadata": {},
   "outputs": [
    {
     "name": "stdout",
     "output_type": "stream",
     "text": [
      "* SKIP *\n",
      "* SKIP *\n",
      "Chambéry\n",
      "Cholet\n",
      "Châteauroux\n",
      "* SKIP *\n",
      "* SKIP *\n",
      "* SKIP *\n",
      "* SKIP *\n",
      "* SKIP *\n",
      "* SKIP *\n"
     ]
    }
   ],
   "source": [
    "for ville in villes:\n",
    "    if ville.startswith('C'):\n",
    "        print(ville)\n",
    "    else:\n",
    "        print('* SKIP *')"
   ]
  },
  {
   "cell_type": "code",
   "execution_count": 71,
   "id": "25f2abd0-75f1-40cd-8cad-cf5f6b6aaea0",
   "metadata": {},
   "outputs": [
    {
     "name": "stdout",
     "output_type": "stream",
     "text": [
      "Ville commençant par B : Bayonne\n",
      "Ville commençant par B : Bordeaux\n",
      "Ville commençant par autre chose : Chambéry\n",
      "Ville commençant par autre chose : Cholet\n",
      "Ville commençant par autre chose : Châteauroux\n",
      "Ville finissant par s : L'Haÿ-les-Roses\n",
      "Ville commençant par autre chose : La Rochelle\n",
      "Ville commençant par autre chose : Montauban\n",
      "Ville commençant par autre chose : Montélimard\n",
      "Ville finissant par s : Rennes\n",
      "Ville commençant par autre chose : Saint-Etienne\n",
      "Ville commençant par B : Bordes\n"
     ]
    }
   ],
   "source": [
    "villes.append('Bordes')\n",
    "for ville in villes:\n",
    "    if ville.startswith('B'):\n",
    "        print('Ville commençant par B :', ville)\n",
    "    elif ville.endswith('s'):\n",
    "        print('Ville finissant par s :', ville)\n",
    "    else:\n",
    "        print('Ville commençant par autre chose :', ville)"
   ]
  },
  {
   "cell_type": "code",
   "execution_count": 72,
   "id": "130237ed-9fb4-4d43-9486-2112cd854da3",
   "metadata": {},
   "outputs": [
    {
     "name": "stdout",
     "output_type": "stream",
     "text": [
      "Ville ABC: Bayonne\n",
      "Ville ABC: Bordeaux\n",
      "Ville ABC: Chambéry\n",
      "Ville ABC: Cholet\n",
      "Ville ABC: Châteauroux\n",
      "Ville L: L'Haÿ-les-Roses\n",
      "Ville L: La Rochelle\n",
      "Ville autre: Montauban\n",
      "Ville autre: Montélimard\n",
      "Ville RS: Rennes\n",
      "Ville RS: Saint-Etienne\n",
      "Ville ABC: Bordes\n"
     ]
    }
   ],
   "source": [
    "# Python 3.10+: match .. case\n",
    "# https://peps.python.org/pep-0636/\n",
    "for ville in villes:\n",
    "    match ville[0]:\n",
    "        case 'A' | 'B' | 'C':\n",
    "            print('Ville ABC:', ville)\n",
    "        case 'R' | 'S':\n",
    "            print('Ville RS:', ville)\n",
    "        case 'L':\n",
    "            print('Ville L:', ville)\n",
    "        case _:\n",
    "            print('Ville autre:', ville)"
   ]
  },
  {
   "cell_type": "code",
   "execution_count": 73,
   "id": "b37f3674-28e7-4c4e-af78-76464f396479",
   "metadata": {},
   "outputs": [
    {
     "data": {
      "text/plain": [
       "['Chambéry', 'Cholet', 'Châteauroux']"
      ]
     },
     "execution_count": 73,
     "metadata": {},
     "output_type": "execute_result"
    }
   ],
   "source": [
    "[ville for ville in villes if ville.startswith('C')]"
   ]
  },
  {
   "cell_type": "code",
   "execution_count": 74,
   "id": "6fd5e52b-b321-4168-9a90-17e6c8522679",
   "metadata": {},
   "outputs": [
    {
     "data": {
      "text/plain": [
       "['Chambéry', 'Cholet', 'Châteaur']"
      ]
     },
     "execution_count": 74,
     "metadata": {},
     "output_type": "execute_result"
    }
   ],
   "source": [
    "[ville[:8] for ville in villes if ville.startswith('C')]"
   ]
  },
  {
   "cell_type": "code",
   "execution_count": 75,
   "id": "9ba4d38d-9f9a-435f-9e03-5d99dff84542",
   "metadata": {},
   "outputs": [
    {
     "data": {
      "text/plain": [
       "'BAYONNE'"
      ]
     },
     "execution_count": 75,
     "metadata": {},
     "output_type": "execute_result"
    }
   ],
   "source": [
    "ville = villes[0]\n",
    "ville.upper() if ville[0] <= 'M' else ville.lower()"
   ]
  },
  {
   "cell_type": "code",
   "execution_count": 76,
   "id": "a4567f93-35c1-4a75-979d-d8c68f176ed6",
   "metadata": {},
   "outputs": [
    {
     "data": {
      "text/plain": [
       "['BAYONNE',\n",
       " 'BORDEAUX',\n",
       " 'CHAMBÉRY',\n",
       " 'CHOLET',\n",
       " 'CHÂTEAUROUX',\n",
       " \"L'HAŸ-LES-ROSES\",\n",
       " 'LA ROCHELLE',\n",
       " 'montauban',\n",
       " 'montélimard',\n",
       " 'rennes',\n",
       " 'saint-etienne',\n",
       " 'BORDES']"
      ]
     },
     "execution_count": 76,
     "metadata": {},
     "output_type": "execute_result"
    }
   ],
   "source": [
    "# faire ça pour toutes les villes => nouvelle liste\n",
    "[\n",
    "    (ville.upper() if ville <= 'M' else ville.lower()) \n",
    "    for ville in villes\n",
    "]"
   ]
  },
  {
   "cell_type": "code",
   "execution_count": 77,
   "id": "47ad60d4-894a-4377-bc88-c3cf9390e0a8",
   "metadata": {},
   "outputs": [
    {
     "data": {
      "text/plain": [
       "['BAYONNE', 'BORDEAUX', 'CHAMBÉRY', 'CHOLET', 'montauban', 'rennes', 'BORDES']"
      ]
     },
     "execution_count": 77,
     "metadata": {},
     "output_type": "execute_result"
    }
   ],
   "source": [
    "[\n",
    "    (ville.upper() if ville <= 'M' else ville.lower()) \n",
    "    for ville in villes\n",
    "    if len(ville) < 10\n",
    "]"
   ]
  },
  {
   "cell_type": "markdown",
   "id": "9abf88e5-c2c6-4fe4-b73d-8705d05eaa4a",
   "metadata": {},
   "source": [
    "## Tuple\n",
    "- cousin de la liste\n",
    "- NON modifiable\n",
    "- on peut accepter des données hétérogènes"
   ]
  },
  {
   "cell_type": "code",
   "execution_count": 78,
   "id": "26376178-2613-462e-b39e-fa9fceb7599c",
   "metadata": {},
   "outputs": [],
   "source": [
    "ville_t1 = ('Toulouse', 511_684, '31')\n",
    "ville_t2 = 'Pau', 78_620, '64'"
   ]
  },
  {
   "cell_type": "code",
   "execution_count": 79,
   "id": "0cb3e620-939f-436b-8f76-5ae8f51bd6bd",
   "metadata": {},
   "outputs": [
    {
     "name": "stdout",
     "output_type": "stream",
     "text": [
      "('Toulouse', 511684, '31')\n",
      "('Pau', 78620, '64')\n"
     ]
    }
   ],
   "source": [
    "print(ville_t1)\n",
    "print(ville_t2)"
   ]
  },
  {
   "cell_type": "code",
   "execution_count": 80,
   "id": "b4ba67a3-85e2-4b90-bbf4-eebc6ccbe304",
   "metadata": {},
   "outputs": [
    {
     "data": {
      "text/plain": [
       "3"
      ]
     },
     "execution_count": 80,
     "metadata": {},
     "output_type": "execute_result"
    }
   ],
   "source": [
    "len(ville_t1)"
   ]
  },
  {
   "cell_type": "code",
   "execution_count": 81,
   "id": "65483a3e-ab05-4c91-9911-c0b8c05772d2",
   "metadata": {},
   "outputs": [
    {
     "data": {
      "text/plain": [
       "'Toulouse'"
      ]
     },
     "execution_count": 81,
     "metadata": {},
     "output_type": "execute_result"
    }
   ],
   "source": [
    "ville_t1[0]"
   ]
  },
  {
   "cell_type": "code",
   "execution_count": 82,
   "id": "b77b0da8-d2d0-4d6c-9412-70fc074e97bd",
   "metadata": {},
   "outputs": [
    {
     "data": {
      "text/plain": [
       "('Toulouse', 512684, '31')"
      ]
     },
     "execution_count": 82,
     "metadata": {},
     "output_type": "execute_result"
    }
   ],
   "source": [
    "# ville_t1[1] += 1000 # TypeError: 'tuple' object does not support item assignment\n",
    "# => construire un nouveau tuple\n",
    "ville_t1 = (ville_t1[0], ville_t1[1] + 1000, ville_t1[2])\n",
    "ville_t1"
   ]
  },
  {
   "cell_type": "code",
   "execution_count": 83,
   "id": "43174573-8996-4eda-88e6-09310e54326c",
   "metadata": {},
   "outputs": [
    {
     "data": {
      "text/plain": [
       "2"
      ]
     },
     "execution_count": 83,
     "metadata": {},
     "output_type": "execute_result"
    }
   ],
   "source": [
    "# peu de méthodes\n",
    "ville_t1.index('31')"
   ]
  },
  {
   "cell_type": "code",
   "execution_count": 84,
   "id": "be56dea7-7023-4c43-8cc2-90ad1531454a",
   "metadata": {},
   "outputs": [],
   "source": [
    "# avantage: sémantique à chaque case\n",
    "# 0 : nom\n",
    "# 1 : population\n",
    "# 2 : dept\n",
    "ville_t1: tuple[str, int, str] = ('Toulouse', 511_684, '31')"
   ]
  },
  {
   "cell_type": "code",
   "execution_count": 85,
   "id": "49fa8390-08b0-44f0-b335-21b6c0338309",
   "metadata": {},
   "outputs": [
    {
     "name": "stdout",
     "output_type": "stream",
     "text": [
      "Nom : Toulouse, population : 511684, département : 31\n",
      "Nom : Pau, population : 78620, département : 64\n"
     ]
    }
   ],
   "source": [
    "for ville_t in ville_t1, ville_t2:\n",
    "    print(f'Nom : {ville_t[0]}, population : {ville_t[1]}, département : {ville_t[2]}')"
   ]
  },
  {
   "cell_type": "code",
   "execution_count": 86,
   "id": "cdd21bc6-126a-4e8f-b305-e920907ce2ad",
   "metadata": {},
   "outputs": [
    {
     "data": {
      "text/plain": [
       "(('Toulouse', 511684, '31'), ('Pau', 78620, '64'))"
      ]
     },
     "execution_count": 86,
     "metadata": {},
     "output_type": "execute_result"
    }
   ],
   "source": [
    "ville_t1, ville_t2"
   ]
  },
  {
   "cell_type": "code",
   "execution_count": 87,
   "id": "38a602bc-075f-426b-a0da-f9d5bb9318ae",
   "metadata": {},
   "outputs": [
    {
     "name": "stdout",
     "output_type": "stream",
     "text": [
      "Nom : Toulouse, population : 511684, département : 31\n",
      "Nom : Pau, population : 78620, département : 64\n"
     ]
    }
   ],
   "source": [
    "for nom, population, dept in ville_t1, ville_t2:\n",
    "    print(f'Nom : {nom}, population : {population}, département : {dept}')"
   ]
  },
  {
   "cell_type": "code",
   "execution_count": 88,
   "id": "29059334-d8e4-4116-943a-b84cde508e78",
   "metadata": {},
   "outputs": [
    {
     "data": {
      "text/plain": [
       "'Nom : Toulouse, population : 511684, département : 31'"
      ]
     },
     "execution_count": 88,
     "metadata": {},
     "output_type": "execute_result"
    }
   ],
   "source": [
    "nom, population, dept = ville_t1 # unpack\n",
    "f'Nom : {nom}, population : {population}, département : {dept}'"
   ]
  },
  {
   "cell_type": "code",
   "execution_count": 89,
   "id": "8bed85cc-7084-475a-acd5-37b21a62c9cf",
   "metadata": {},
   "outputs": [
    {
     "data": {
      "text/plain": [
       "'Nom : Toulouse, département : 31'"
      ]
     },
     "execution_count": 89,
     "metadata": {},
     "output_type": "execute_result"
    }
   ],
   "source": [
    "# ValueError: not enough values to unpack (expected 4, got 3)\n",
    "# nom, population, dept, region = ville_t1 # unpack\n",
    "\n",
    "# ValueError: too many values to unpack (expected 2)\n",
    "# nom, population = ville_t1 # unpack\n",
    "\n",
    "nom, _, dept = ville_t1 # unpack\n",
    "f'Nom : {nom}, département : {dept}'"
   ]
  },
  {
   "cell_type": "code",
   "execution_count": 90,
   "id": "ca381a7a-2b8a-450b-8bca-0a73136c81f4",
   "metadata": {},
   "outputs": [
    {
     "name": "stdout",
     "output_type": "stream",
     "text": [
      "Nom : Toulouse, département : 31\n",
      "Nom : Pau, département : 64\n"
     ]
    }
   ],
   "source": [
    "for nom, _, dept in ville_t1, ville_t2:\n",
    "    print(f'Nom : {nom}, département : {dept}')"
   ]
  },
  {
   "cell_type": "markdown",
   "id": "3908c3a0-3f90-4cfc-9881-3ab859acee86",
   "metadata": {},
   "source": [
    "## Dictionnaires: dict\n",
    "- organisation clé/valeur\n",
    "- modifiable\n",
    "- iterable (3 parcours)"
   ]
  },
  {
   "cell_type": "code",
   "execution_count": 91,
   "id": "22d4ff27-c297-4a13-a46f-d8f982f1b5df",
   "metadata": {},
   "outputs": [
    {
     "data": {
      "text/plain": [
       "{'nom': 'Toulouse', 'population': 511684, 'departement': '31'}"
      ]
     },
     "execution_count": 91,
     "metadata": {},
     "output_type": "execute_result"
    }
   ],
   "source": [
    "ville_d = { \n",
    "    'nom': 'Toulouse',\n",
    "    'population': 511_684,\n",
    "    'departement': '31'\n",
    "}\n",
    "ville_d"
   ]
  },
  {
   "cell_type": "code",
   "execution_count": 92,
   "id": "98051662-cafc-4bf8-93d5-2cbf5fa2b832",
   "metadata": {},
   "outputs": [
    {
     "data": {
      "text/plain": [
       "'Toulouse'"
      ]
     },
     "execution_count": 92,
     "metadata": {},
     "output_type": "execute_result"
    }
   ],
   "source": [
    "ville_d['nom']"
   ]
  },
  {
   "cell_type": "code",
   "execution_count": 93,
   "id": "ca46ec94-dce5-4c35-9b25-6e0b97d68bb2",
   "metadata": {},
   "outputs": [],
   "source": [
    "# KeyError: 'pays'\n",
    "# ville_d['pays']"
   ]
  },
  {
   "cell_type": "code",
   "execution_count": 94,
   "id": "0bfdba56-dca5-48e5-aad6-c2b95dcca8e2",
   "metadata": {},
   "outputs": [
    {
     "data": {
      "text/plain": [
       "{'nom': 'Toulouse', 'population': 600000, 'departement': '31'}"
      ]
     },
     "execution_count": 94,
     "metadata": {},
     "output_type": "execute_result"
    }
   ],
   "source": [
    "ville_d['population'] = 600_000\n",
    "ville_d"
   ]
  },
  {
   "cell_type": "code",
   "execution_count": 95,
   "id": "f113f43f-25cb-4b73-9fd6-4264a76669a6",
   "metadata": {},
   "outputs": [
    {
     "data": {
      "text/plain": [
       "{'nom': 'Toulouse', 'population': 601350, 'departement': '31'}"
      ]
     },
     "execution_count": 95,
     "metadata": {},
     "output_type": "execute_result"
    }
   ],
   "source": [
    "ville_d['population'] += 1350\n",
    "ville_d"
   ]
  },
  {
   "cell_type": "code",
   "execution_count": 96,
   "id": "e8f2f398-1e6d-411c-a894-f42a8ea6ea34",
   "metadata": {},
   "outputs": [
    {
     "data": {
      "text/plain": [
       "{'nom': 'Toulouse',\n",
       " 'population': 601350,\n",
       " 'departement': '31',\n",
       " 'pays': 'France'}"
      ]
     },
     "execution_count": 96,
     "metadata": {},
     "output_type": "execute_result"
    }
   ],
   "source": [
    "# ajout info\n",
    "ville_d['pays'] = 'France'\n",
    "ville_d"
   ]
  },
  {
   "cell_type": "code",
   "execution_count": 97,
   "id": "8ee405ad-5ebb-4019-ba16-63c599660047",
   "metadata": {},
   "outputs": [
    {
     "data": {
      "text/plain": [
       "4"
      ]
     },
     "execution_count": 97,
     "metadata": {},
     "output_type": "execute_result"
    }
   ],
   "source": [
    "len(ville_d)"
   ]
  },
  {
   "cell_type": "code",
   "execution_count": 98,
   "id": "0a845849-3e93-4823-9c58-2cccb5d0d58e",
   "metadata": {},
   "outputs": [
    {
     "data": {
      "text/plain": [
       "{'nom': 'Toulouse', 'population': 601350, 'departement': '31'}"
      ]
     },
     "execution_count": 98,
     "metadata": {},
     "output_type": "execute_result"
    }
   ],
   "source": [
    "del ville_d['pays']\n",
    "ville_d"
   ]
  },
  {
   "cell_type": "code",
   "execution_count": 99,
   "id": "aff819ea-9c13-41c0-9c98-d1ecd106a01b",
   "metadata": {},
   "outputs": [
    {
     "data": {
      "text/plain": [
       "False"
      ]
     },
     "execution_count": 99,
     "metadata": {},
     "output_type": "execute_result"
    }
   ],
   "source": [
    "# clé présente ?\n",
    "'pays' in ville_d"
   ]
  },
  {
   "cell_type": "code",
   "execution_count": 100,
   "id": "95f3e4c3-c8e1-4b6f-be3f-4a358d55257d",
   "metadata": {},
   "outputs": [
    {
     "name": "stdout",
     "output_type": "stream",
     "text": [
      "nom\n",
      "population\n",
      "departement\n"
     ]
    }
   ],
   "source": [
    "for nom_info in ville_d.keys():\n",
    "    print(nom_info)"
   ]
  },
  {
   "cell_type": "code",
   "execution_count": 101,
   "id": "9fcf6b55-4622-4627-b5aa-376db1cee983",
   "metadata": {},
   "outputs": [
    {
     "name": "stdout",
     "output_type": "stream",
     "text": [
      "nom\n",
      "population\n",
      "departement\n"
     ]
    }
   ],
   "source": [
    "# l'itération par défaut se fait sur les clés\n",
    "for nom_info in ville_d:\n",
    "    print(nom_info)"
   ]
  },
  {
   "cell_type": "code",
   "execution_count": 102,
   "id": "25d9dae8-6080-4b52-865b-ec518e702748",
   "metadata": {},
   "outputs": [
    {
     "name": "stdout",
     "output_type": "stream",
     "text": [
      "Toulouse\n",
      "601350\n",
      "31\n"
     ]
    }
   ],
   "source": [
    "for info in ville_d.values():\n",
    "    print(info)"
   ]
  },
  {
   "cell_type": "code",
   "execution_count": 103,
   "id": "9b9a2ada-ddfc-4c71-8264-dd6ce28f18da",
   "metadata": {},
   "outputs": [
    {
     "name": "stdout",
     "output_type": "stream",
     "text": [
      "nom : Toulouse\n",
      "population : 601350\n",
      "departement : 31\n"
     ]
    }
   ],
   "source": [
    "for nom_info, valeur_info in ville_d.items():\n",
    "    print(nom_info, valeur_info, sep=' : ')\n",
    "    "
   ]
  },
  {
   "cell_type": "markdown",
   "id": "6c56fc4c-608c-43a4-8a3c-f850fd02c01b",
   "metadata": {},
   "source": [
    "## Atelier: liste de villes en tant que dictionnaire"
   ]
  },
  {
   "cell_type": "code",
   "execution_count": 110,
   "id": "2a3f7a43-34bb-40ec-b050-83e158de6ed6",
   "metadata": {},
   "outputs": [
    {
     "data": {
      "text/plain": [
       "[{'nom': 'Toulouse', 'population': 601350, 'departement': '31'},\n",
       " {'nom': 'Pau', 'population': 78620, 'departement': '64'},\n",
       " {'nom': 'Nantes', 'population': 325070, 'departement': '44'}]"
      ]
     },
     "execution_count": 110,
     "metadata": {},
     "output_type": "execute_result"
    }
   ],
   "source": [
    "villes_d = [\n",
    "    {\n",
    "        'nom': 'Toulouse', \n",
    "        'population': 601350, \n",
    "        'departement': '31',\n",
    "    },\n",
    "    {\n",
    "        'nom': 'Pau', \n",
    "        'population': 78_620, \n",
    "        'departement': '64',\n",
    "    },\n",
    "    {\n",
    "        'nom': 'Nantes', \n",
    "        'population': 325_070, \n",
    "        'departement': '44',\n",
    "    },\n",
    "]\n",
    "villes_d"
   ]
  },
  {
   "cell_type": "code",
   "execution_count": 112,
   "id": "7a581cd9-4ad0-49f8-9e12-64a93c9049ca",
   "metadata": {},
   "outputs": [
    {
     "data": {
      "text/plain": [
       "[{'nom': 'Toulouse', 'population': 601350, 'departement': '31'},\n",
       " {'nom': 'Pau', 'population': 78620, 'departement': '64'},\n",
       " {'nom': 'Nantes', 'population': 325070, 'departement': '44'},\n",
       " {'nom': 'Lyon', 'population': 500000, 'departement': '69'}]"
      ]
     },
     "execution_count": 112,
     "metadata": {},
     "output_type": "execute_result"
    }
   ],
   "source": [
    "# ajouter Lyon avec sa poulation 500k et son département 69\n",
    "villes_d.append(\n",
    "    {\n",
    "        'nom': 'Lyon', \n",
    "        'population': 500_000, \n",
    "        'departement': '69',\n",
    "    }\n",
    ")\n",
    "villes_d"
   ]
  },
  {
   "cell_type": "code",
   "execution_count": 116,
   "id": "222c546f-3311-4a3b-819a-554ea3358053",
   "metadata": {},
   "outputs": [
    {
     "name": "stdout",
     "output_type": "stream",
     "text": [
      "Toulouse, population = 601350, département = 31\n",
      "Pau, population = 78620, département = 64\n",
      "Nantes, population = 325070, département = 44\n",
      "Lyon, population = 500000, département = 69\n"
     ]
    }
   ],
   "source": [
    "# Parcourir la liste et afficher de manière lisible chaque ville avec ses caractéristiques\n",
    "for ville_d in villes_d:\n",
    "    print(f\"{ville_d['nom']}, population = {ville_d['population']}, département = {ville_d['departement']}\")"
   ]
  },
  {
   "cell_type": "code",
   "execution_count": 118,
   "id": "beb5853f-2a13-4648-bbb2-ad8ca3d514d4",
   "metadata": {},
   "outputs": [
    {
     "data": {
      "text/plain": [
       "[{'nom': 'Toulouse', 'population': 601350, 'departement': '31'},\n",
       " {'nom': 'Lyon', 'population': 500000, 'departement': '69'}]"
      ]
     },
     "execution_count": 118,
     "metadata": {},
     "output_type": "execute_result"
    }
   ],
   "source": [
    "# extraire les villes de plus de 500k habitants\n",
    "villes500k = [ville_d for ville_d in villes_d if ville_d['population'] >= 500_000]\n",
    "villes500k"
   ]
  },
  {
   "cell_type": "code",
   "execution_count": 119,
   "id": "c43dba7b-29ac-4d14-a374-08a7ea149e45",
   "metadata": {},
   "outputs": [
    {
     "data": {
      "text/plain": [
       "['Toulouse', 'Lyon']"
      ]
     },
     "execution_count": 119,
     "metadata": {},
     "output_type": "execute_result"
    }
   ],
   "source": [
    "# uniquement les noms des villes de plus de 500k\n",
    "noms_ville_500k = [ville_d['nom'] for ville_d in villes_d if ville_d['population'] >= 500_000]\n",
    "noms_ville_500k"
   ]
  },
  {
   "cell_type": "code",
   "execution_count": 124,
   "id": "06aa284b-3193-4cc5-bc60-227b67790511",
   "metadata": {},
   "outputs": [
    {
     "data": {
      "text/plain": [
       "[('Toulouse', 601350), ('Lyon', 500000)]"
      ]
     },
     "execution_count": 124,
     "metadata": {},
     "output_type": "execute_result"
    }
   ],
   "source": [
    "# les noms et population (comme tuple) des villes de plus de 500k\n",
    "liste_nom_pop_ville_500k = [\n",
    "    (ville_d['nom'], ville_d['population'])\n",
    "    for ville_d in villes_d \n",
    "    if ville_d['population'] >= 500_000\n",
    "]s\n",
    "liste_nom_pop_ville_500k"
   ]
  },
  {
   "cell_type": "code",
   "execution_count": 125,
   "id": "658c856c-b1c0-4517-aedb-80e8448f3fe5",
   "metadata": {},
   "outputs": [
    {
     "data": {
      "text/html": [
       "<div>\n",
       "<style scoped>\n",
       "    .dataframe tbody tr th:only-of-type {\n",
       "        vertical-align: middle;\n",
       "    }\n",
       "\n",
       "    .dataframe tbody tr th {\n",
       "        vertical-align: top;\n",
       "    }\n",
       "\n",
       "    .dataframe thead th {\n",
       "        text-align: right;\n",
       "    }\n",
       "</style>\n",
       "<table border=\"1\" class=\"dataframe\">\n",
       "  <thead>\n",
       "    <tr style=\"text-align: right;\">\n",
       "      <th></th>\n",
       "      <th>nom</th>\n",
       "      <th>population</th>\n",
       "      <th>departement</th>\n",
       "    </tr>\n",
       "  </thead>\n",
       "  <tbody>\n",
       "    <tr>\n",
       "      <th>0</th>\n",
       "      <td>Toulouse</td>\n",
       "      <td>601350</td>\n",
       "      <td>31</td>\n",
       "    </tr>\n",
       "    <tr>\n",
       "      <th>1</th>\n",
       "      <td>Pau</td>\n",
       "      <td>78620</td>\n",
       "      <td>64</td>\n",
       "    </tr>\n",
       "    <tr>\n",
       "      <th>2</th>\n",
       "      <td>Nantes</td>\n",
       "      <td>325070</td>\n",
       "      <td>44</td>\n",
       "    </tr>\n",
       "    <tr>\n",
       "      <th>3</th>\n",
       "      <td>Lyon</td>\n",
       "      <td>500000</td>\n",
       "      <td>69</td>\n",
       "    </tr>\n",
       "  </tbody>\n",
       "</table>\n",
       "</div>"
      ],
      "text/plain": [
       "        nom  population departement\n",
       "0  Toulouse      601350          31\n",
       "1       Pau       78620          64\n",
       "2    Nantes      325070          44\n",
       "3      Lyon      500000          69"
      ]
     },
     "execution_count": 125,
     "metadata": {},
     "output_type": "execute_result"
    }
   ],
   "source": [
    "df = pd.DataFrame(villes_d)\n",
    "df"
   ]
  }
 ],
 "metadata": {
  "kernelspec": {
   "display_name": "Python 3 (ipykernel)",
   "language": "python",
   "name": "python3"
  },
  "language_info": {
   "codemirror_mode": {
    "name": "ipython",
    "version": 3
   },
   "file_extension": ".py",
   "mimetype": "text/x-python",
   "name": "python",
   "nbconvert_exporter": "python",
   "pygments_lexer": "ipython3",
   "version": "3.13.7"
  }
 },
 "nbformat": 4,
 "nbformat_minor": 5
}
